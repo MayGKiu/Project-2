{
 "cells": [
  {
   "cell_type": "code",
   "execution_count": 198,
   "id": "1de5b7aa-53b3-4997-9694-26c912c63293",
   "metadata": {},
   "outputs": [],
   "source": [
    "# Importing libraries\n",
    "import pandas as pd\n",
    "import numpy as np\n",
    "import matplotlib.pyplot as plt\n",
    "import seaborn as sns\n",
    "from IPython.display import Image\n",
    "\n",
    "%matplotlib inline"
   ]
  },
  {
   "cell_type": "code",
   "execution_count": 199,
   "id": "3cd25bb6-f3f7-4993-a0bb-9574150d4289",
   "metadata": {},
   "outputs": [],
   "source": [
    "from sklearn.model_selection import train_test_split, cross_val_score\n",
    "from sklearn.feature_selection import SelectKBest, f_regression\n",
    "from sklearn.feature_selection import RFE\n",
    "from sklearn.linear_model import LinearRegression, Lasso, Ridge, ElasticNet, LassoCV, RidgeCV, ElasticNetCV\n",
    "from sklearn.preprocessing import StandardScaler\n",
    "from sklearn.preprocessing import normalize\n",
    "from sklearn.metrics import mean_squared_error, r2_score\n",
    "\n",
    "\n",
    "from scipy import stats\n",
    "import statsmodels.api as sm\n",
    "from statsmodels.stats.outliers_influence import variance_inflation_factor"
   ]
  },
  {
   "cell_type": "code",
   "execution_count": 200,
   "id": "f0b292f6-a951-486d-97bf-4fd37bdbc97e",
   "metadata": {},
   "outputs": [],
   "source": [
    "# Import cleaned datasets\n",
    "train = pd.read_csv('./datasets/train_encoded.csv')\n",
    "test = pd.read_csv('./datasets/test_encoded.csv')"
   ]
  },
  {
   "cell_type": "code",
   "execution_count": 201,
   "id": "df6fef0e-3ef6-44ed-ac60-42372b4d1ba9",
   "metadata": {},
   "outputs": [],
   "source": [
    "# Show all data columns.\n",
    "pd.set_option(\"display.max_columns\", 100)"
   ]
  },
  {
   "cell_type": "markdown",
   "id": "98d9cdcb-36a7-45ca-9424-7db6e0a1a101",
   "metadata": {},
   "source": [
    "### Dimentionality Reduction"
   ]
  },
  {
   "cell_type": "markdown",
   "id": "75e89255-87ef-4706-a532-94e3c5a5ad14",
   "metadata": {},
   "source": [
    "#### Low Variance Method"
   ]
  },
  {
   "cell_type": "markdown",
   "id": "59bf78f8-9503-4408-afdf-c6da6fe59d98",
   "metadata": {},
   "source": [
    "Variance tells us about the spread of data. It tells us how far the points are from the mean. If the variance is low which means that the value are all similiar and it will have less impact on the target variable. For this section, we will set a threshold value of variance of 0.009. If the variants of a variable is less than the threshold, then we can safely drop the variable. Also, low variance method is only applied to numerical type data ."
   ]
  },
  {
   "cell_type": "code",
   "execution_count": 202,
   "id": "67538f7b-3fae-438b-8839-8b25723a3fac",
   "metadata": {},
   "outputs": [],
   "source": [
    "# only select numerical data\n",
    "\n",
    "num = train.select_dtypes(\"number\")"
   ]
  },
  {
   "cell_type": "code",
   "execution_count": 203,
   "id": "1e88b9b4-b19c-4ffb-8f6c-ffa73854f2fc",
   "metadata": {},
   "outputs": [],
   "source": [
    "# filter the low variance\n",
    "\n",
    "low_var_list = num.var().sort_values(ascending=False)\n",
    "low_var_list = low_var_list[low_var_list.values < 0.009]"
   ]
  },
  {
   "cell_type": "code",
   "execution_count": 204,
   "id": "161987f0-ea0d-40ee-b576-0d04131eed8f",
   "metadata": {
    "scrolled": true,
    "tags": []
   },
   "outputs": [
    {
     "data": {
      "text/plain": [
       "neighborhood_veenker    0.008232\n",
       "sale_type_conld         0.008232\n",
       "exterior_2nd_brk cmn    0.008232\n",
       "neighborhood_npkvill    0.008232\n",
       "roof_matl_tar&grv       0.007271\n",
       "house_style_2.5unf      0.006789\n",
       "ms_zoning_rh            0.006789\n",
       "roof_style_flat         0.006307\n",
       "mas_vnr_type_brkcmn     0.006307\n",
       "house_style_1.5unf      0.005825\n",
       "roof_style_gambrel      0.005825\n",
       "condition_1_posa        0.005825\n",
       "exterior_2nd_imstucc    0.005342\n",
       "condition_2_feedr       0.005342\n",
       "garage_type_carport     0.005342\n",
       "sale_type_cwd           0.004859\n",
       "lot_config_fr3          0.004375\n",
       "roof_style_mansard      0.003406\n",
       "street_pave             0.003406\n",
       "street_grvl             0.003406\n",
       "sale_type_conli         0.003406\n",
       "heating_wall            0.002921\n",
       "house_style_2.5fin      0.002921\n",
       "exterior_2nd_stone      0.002921\n",
       "condition_1_rrnn        0.002921\n",
       "neighborhood_blueste    0.002921\n",
       "utilities               0.002439\n",
       "roof_matl_wdshngl       0.002435\n",
       "heating_grav            0.002435\n",
       "foundation_stone        0.002435\n",
       "sale_type_conlw         0.002435\n",
       "condition_2_artery      0.002435\n",
       "roof_matl_wdshake       0.001949\n",
       "misc_feature_gar2       0.001949\n",
       "sale_type_oth           0.001949\n",
       "sale_type_con           0.001949\n",
       "condition_2_posn        0.001463\n",
       "misc_feature_othr       0.001463\n",
       "roof_style_shed         0.001463\n",
       "condition_2_posa        0.001463\n",
       "exterior_1st_brkcomm    0.001463\n",
       "condition_1_rrne        0.001463\n",
       "neighborhood_greens     0.001463\n",
       "exterior_2nd_asphshn    0.001463\n",
       "foundation_wood         0.000976\n",
       "exterior_2nd_cblock     0.000976\n",
       "exterior_1st_stone      0.000976\n",
       "heating_othw            0.000976\n",
       "neighborhood_grnhill    0.000976\n",
       "condition_2_rrnn        0.000976\n",
       "exterior_1st_cblock     0.000976\n",
       "ms_zoning_a (agr)       0.000976\n",
       "neighborhood_landmrk    0.000488\n",
       "exterior_1st_asphshn    0.000488\n",
       "condition_2_rran        0.000488\n",
       "exterior_1st_imstucc    0.000488\n",
       "roof_matl_membran       0.000488\n",
       "ms_zoning_i (all)       0.000488\n",
       "condition_2_rrae        0.000488\n",
       "misc_feature_tenc       0.000488\n",
       "dtype: float64"
      ]
     },
     "execution_count": 204,
     "metadata": {},
     "output_type": "execute_result"
    }
   ],
   "source": [
    "low_var_list"
   ]
  },
  {
   "cell_type": "markdown",
   "id": "efe4905a-f653-4e68-97c5-6a112d1c0d9b",
   "metadata": {},
   "source": [
    "#### Feature selection/Engineering"
   ]
  },
  {
   "cell_type": "code",
   "execution_count": 205,
   "id": "d6d1fddf-3cea-40d3-a3c9-4e4210ae84be",
   "metadata": {
    "tags": []
   },
   "outputs": [],
   "source": [
    "# Categories with small sale type numbers to make them stastically significant\n",
    "\n",
    "train['combined_sale_type'] = train['sale_type_conlw'] + train['sale_type_conli'] +train['sale_type_con'] + train['sale_type_conld'] + train['sale_type_cwd']+train['sale_type_oth']"
   ]
  },
  {
   "cell_type": "code",
   "execution_count": 206,
   "id": "10f89bad-0380-4dec-b7a7-2b28ef7bbb82",
   "metadata": {},
   "outputs": [],
   "source": [
    "test['combined_sale_type'] = test['sale_type_conlw'] + test['sale_type_conli'] +test ['sale_type_con'] + test ['sale_type_conld']+ test['sale_type_cwd']+test['sale_type_oth']"
   ]
  },
  {
   "cell_type": "code",
   "execution_count": 207,
   "id": "b298e824-25de-44db-b281-2d437235b72b",
   "metadata": {
    "tags": []
   },
   "outputs": [],
   "source": [
    "# Categories with small house type numbers to make them stastically significant\n",
    "\n",
    "train['combined_house_style'] = train['house_style_1.5unf'] + train['house_style_2.5fin'] +train['house_style_2.5unf']"
   ]
  },
  {
   "cell_type": "code",
   "execution_count": 208,
   "id": "f0674c2c-311e-4de7-bdce-c2ab7d6147b3",
   "metadata": {},
   "outputs": [],
   "source": [
    "test['combined_house_style'] = test['house_style_1.5unf'] + test['house_style_2.5fin'] +test['house_style_2.5unf']"
   ]
  },
  {
   "cell_type": "code",
   "execution_count": 209,
   "id": "dee37621-377a-4717-a811-f2fa95510727",
   "metadata": {},
   "outputs": [],
   "source": [
    "# Categories with small roof style numbers to make them stastically significant\n",
    "\n",
    "train['combined_roof_style'] = train['roof_style_flat'] + train['roof_style_gambrel'] +train['roof_style_mansard']+train['roof_style_shed']"
   ]
  },
  {
   "cell_type": "code",
   "execution_count": 210,
   "id": "6b9aa4d6-12a1-4e60-8fa6-2fffea7280ee",
   "metadata": {},
   "outputs": [],
   "source": [
    "test['combined_roof_style'] = test['roof_style_flat'] + test['roof_style_gambrel'] +test['roof_style_mansard']+test['roof_style_shed']"
   ]
  },
  {
   "cell_type": "code",
   "execution_count": 211,
   "id": "4784d479-ce2a-4865-ad70-73fc881a135d",
   "metadata": {},
   "outputs": [],
   "source": [
    "# Dropping features with low variance (<0.009)\n",
    "\n",
    "low_var_drop_list = [item for item in low_var_list.index]\n",
    "train = train.drop(low_var_drop_list, axis=1)\n",
    "test = test.drop(low_var_drop_list, axis=1,errors='ignore')"
   ]
  },
  {
   "cell_type": "code",
   "execution_count": 212,
   "id": "f82bd797-c03e-4a0c-9c66-c5b02daf88eb",
   "metadata": {},
   "outputs": [
    {
     "data": {
      "text/plain": [
       "neighborhood_veenker    0.008232\n",
       "sale_type_conld         0.008232\n",
       "exterior_2nd_brk cmn    0.008232\n",
       "neighborhood_npkvill    0.008232\n",
       "roof_matl_tar&grv       0.007271\n",
       "dtype: float64"
      ]
     },
     "execution_count": 212,
     "metadata": {},
     "output_type": "execute_result"
    }
   ],
   "source": [
    "low_var_list.head()"
   ]
  },
  {
   "cell_type": "code",
   "execution_count": 213,
   "id": "babf9f35-8a7c-442a-b4d8-ed96d9853796",
   "metadata": {},
   "outputs": [
    {
     "data": {
      "text/plain": [
       "(2049, 163)"
      ]
     },
     "execution_count": 213,
     "metadata": {},
     "output_type": "execute_result"
    }
   ],
   "source": [
    "train.shape"
   ]
  },
  {
   "cell_type": "markdown",
   "id": "288e9168-c824-46af-acd0-cf594f370422",
   "metadata": {},
   "source": [
    "The features reduced to 163"
   ]
  },
  {
   "cell_type": "markdown",
   "id": "93218bb2-ea51-48ed-9645-e4cadca525ec",
   "metadata": {},
   "source": [
    "#### Comparing test and train dataset"
   ]
  },
  {
   "cell_type": "code",
   "execution_count": 214,
   "id": "40f406bd-a2cd-4485-92be-6ca758527d58",
   "metadata": {},
   "outputs": [
    {
     "data": {
      "text/plain": [
       "(876, 170)"
      ]
     },
     "execution_count": 214,
     "metadata": {},
     "output_type": "execute_result"
    }
   ],
   "source": [
    "test.shape"
   ]
  },
  {
   "cell_type": "code",
   "execution_count": 215,
   "id": "1fa746cf-7320-4c12-9d7d-cd28f914bfd5",
   "metadata": {},
   "outputs": [
    {
     "data": {
      "text/plain": [
       "(2049, 163)"
      ]
     },
     "execution_count": 215,
     "metadata": {},
     "output_type": "execute_result"
    }
   ],
   "source": [
    "train.shape"
   ]
  },
  {
   "cell_type": "code",
   "execution_count": 216,
   "id": "ac618402-9800-4892-930b-61757b904562",
   "metadata": {},
   "outputs": [
    {
     "data": {
      "text/plain": [
       "['saleprice']"
      ]
     },
     "execution_count": 216,
     "metadata": {},
     "output_type": "execute_result"
    }
   ],
   "source": [
    "# Checking for features in training but not in test dataset\n",
    "[x for x in train if x not in test]"
   ]
  },
  {
   "cell_type": "code",
   "execution_count": 217,
   "id": "2753fdfc-3dfb-402e-8349-1a7d0da94228",
   "metadata": {},
   "outputs": [
    {
     "data": {
      "text/plain": [
       "['roof_matl_metal',\n",
       " 'roof_matl_roll',\n",
       " 'exterior_1st_precast',\n",
       " 'exterior_2nd_other',\n",
       " 'exterior_2nd_precast',\n",
       " 'mas_vnr_type_cblock',\n",
       " 'heating_floor',\n",
       " 'sale_type_vwd']"
      ]
     },
     "execution_count": 217,
     "metadata": {},
     "output_type": "execute_result"
    }
   ],
   "source": [
    "# Checking for features in test dataset but not in training dataset\n",
    "[x for x in test if x not in train]"
   ]
  },
  {
   "cell_type": "code",
   "execution_count": 218,
   "id": "87b3823d-9aec-483e-a002-7b17d54df952",
   "metadata": {},
   "outputs": [],
   "source": [
    "# Drop features not in train data\n",
    "test = test.drop(['roof_matl_metal',\n",
    " 'roof_matl_roll',\n",
    " 'exterior_1st_precast',\n",
    " 'exterior_2nd_other',\n",
    " 'exterior_2nd_precast',\n",
    " 'mas_vnr_type_cblock',\n",
    " 'heating_floor',\n",
    " 'sale_type_vwd'], axis=1)"
   ]
  },
  {
   "cell_type": "code",
   "execution_count": 219,
   "id": "fb5465a8-ee7b-4603-936c-c5274bd53f83",
   "metadata": {},
   "outputs": [],
   "source": [
    "train.to_csv('./datasets/train_final.csv', index=False)"
   ]
  },
  {
   "cell_type": "code",
   "execution_count": 220,
   "id": "b5d15937-1be4-4d61-b584-5c094f4190ea",
   "metadata": {},
   "outputs": [],
   "source": [
    "test.to_csv('./datasets/test_final.csv', index=False)"
   ]
  }
 ],
 "metadata": {
  "kernelspec": {
   "display_name": "Python 3",
   "language": "python",
   "name": "python3"
  },
  "language_info": {
   "codemirror_mode": {
    "name": "ipython",
    "version": 3
   },
   "file_extension": ".py",
   "mimetype": "text/x-python",
   "name": "python",
   "nbconvert_exporter": "python",
   "pygments_lexer": "ipython3",
   "version": "3.8.8"
  }
 },
 "nbformat": 4,
 "nbformat_minor": 5
}
