{
 "cells": [
  {
   "cell_type": "markdown",
   "metadata": {},
   "source": [
    "<img src=\"http://imgur.com/1ZcRyrc.png\" style=\"float: left; margin: 20px; height: 55px\">\n",
    "\n",
    "# Project 1: Standardized Test Analysis"
   ]
  },
  {
   "cell_type": "markdown",
   "metadata": {},
   "source": [
    "--- \n",
    "# Part 1\n",
    "\n",
    "Part 1 requires knowledge of basic Python.\n",
    "\n",
    "---"
   ]
  },
  {
   "cell_type": "markdown",
   "metadata": {},
   "source": [
    "## Problem Statement"
   ]
  },
  {
   "cell_type": "markdown",
   "metadata": {},
   "source": [
    "\n",
    "\n",
    "*  To analyse the test score between Califonia and other states over 3 years 2017-2019              \n",
    "*  To analyse the test score of SAT over 3 years 2017 - 2019 at county level for the states of Califonia                                           \n",
    "*  Provide recommendations to the College Board to help the participants of SAT test in Califonia to improve the test scores  in futures\n",
    "\n"
   ]
  },
  {
   "cell_type": "markdown",
   "metadata": {},
   "source": [
    "### Contents:\n",
    "- [Background](#Background)\n",
    "- [Data Import & Cleaning](#Data-Import-and-Cleaning)\n",
    "- [Exploratory Data Analysis](#Exploratory-Data-Analysis)\n",
    "- [Data Visualization](#Visualize-the-Data)\n",
    "- [Conclusions and Recommendations](#Conclusions-and-Recommendations)"
   ]
  },
  {
   "cell_type": "markdown",
   "metadata": {},
   "source": [
    "## Background"
   ]
  },
  {
   "cell_type": "markdown",
   "metadata": {},
   "source": [
    "The SAT and ACT are standardized tests that many colleges and universities in the United States require for their admissions process. This score is used along with other materials such as grade point average (GPA) and essay responses to determine whether or not a potential student will be accepted to the university.\n",
    "\n",
    "The SAT has two sections of the test: Evidence-Based Reading and Writing and Math ([*source*](https://www.princetonreview.com/college/sat-sections)). The ACT has 4 sections: English, Mathematics, Reading, and Science, with an additional optional writing section ([*source*](https://www.act.org/content/act/en/products-and-services/the-act/scores/understanding-your-scores.html)). They have different score ranges, which you can read more about on their websites or additional outside sources (a quick Google search will help you understand the scores for each test):\n",
    "* [SAT](https://collegereadiness.collegeboard.org/sat)\n",
    "* [ACT](https://www.act.org/content/act/en.html)\n",
    "\n",
    "Standardized tests have long been a controversial topic for students, administrators, and legislators. Since the 1940's, an increasing number of colleges have been using scores from sudents' performances on tests like the SAT and the ACT as a measure for college readiness and aptitude ([*source*](https://www.minotdailynews.com/news/local-news/2017/04/a-brief-history-of-the-sat-and-act/)). Supporters of these tests argue that these scores can be used as an objective measure to determine college admittance. Opponents of these tests claim that these tests are not accurate measures of students potential or ability and serve as an inequitable barrier to entry. Lately, more and more schools are opting to drop the SAT/ACT requirement for their Fall 2021 applications ([*read more about this here*](https://www.cnn.com/2020/04/14/us/coronavirus-colleges-sat-act-test-trnd/index.html))."
   ]
  },
  {
   "cell_type": "markdown",
   "metadata": {},
   "source": [
    "**To-Do:** *Fill out this cell (or edit the above cell) with any other background or information that is necessary for your problem statement.*"
   ]
  },
  {
   "cell_type": "markdown",
   "metadata": {},
   "source": [
    "### Choose your Data\n",
    "\n",
    "There are 10 datasets included in the [`data`](./data/) folder for this project. You are required to pick **at least two** of these to complete your analysis. Feel free to use more than two if you would like, or add other relevant datasets you find online.\n",
    "\n",
    "* [`act_2017.csv`](./data/act_2017.csv): 2017 ACT Scores by State\n",
    "* [`act_2018.csv`](./data/act_2018.csv): 2018 ACT Scores by State\n",
    "* [`act_2019.csv`](./data/act_2019.csv): 2019 ACT Scores by State\n",
    "* [`act_2019_ca.csv`](./data/act_2019_ca.csv): 2019 ACT Scores in California by School\n",
    "* [`sat_2017.csv`](./data/sat_2017.csv): 2017 SAT Scores by State\n",
    "* [`sat_2018.csv`](./data/sat_2018.csv): 2018 SAT Scores by State\n",
    "* [`sat_2019.csv`](./data/sat_2019.csv): 2019 SAT Scores by State\n",
    "* [`sat_2019_by_intended_college_major.csv`](./data/sat_2019_by_intended_college_major.csv): 2019 SAT Scores by Intended College Major\n",
    "* [`sat_2019_ca.csv`](./data/sat_2019_ca.csv): 2019 SAT Scores in California by School\n",
    "* [`sat_act_by_college.csv`](./data/sat_act_by_college.csv): Ranges of Accepted ACT & SAT Student Scores by Colleges"
   ]
  },
  {
   "cell_type": "markdown",
   "metadata": {},
   "source": [
    "*  sat_2017.csv: 2017 SAT Scores by State\n",
    "*  sat_2018.csv: 2018 SAT Scores by State\n",
    "*  sat_2019.csv: 2019 SAT Scores by State\n",
    "*  sat_2019_ca.csv: 2019 SAT Scores in California by School"
   ]
  },
  {
   "cell_type": "markdown",
   "metadata": {},
   "source": [
    "### Outside Research"
   ]
  },
  {
   "cell_type": "markdown",
   "metadata": {},
   "source": [
    "Based on your problem statement and your chosen datasets, spend some time doing outside research on state policies or additional information that might be relevant. Summarize your findings below. If you bring in any outside tables or charts, make sure you are explicit about having borrowed them. If you quote any text, make sure that it renders as being quoted. **Make sure that you cite your sources.**"
   ]
  },
  {
   "cell_type": "markdown",
   "metadata": {},
   "source": [
    " * sat_2017_ca.csv: 2017 SAT Scores in California by School\n",
    " * sat_2018_ca.csv: 2018 SAT Scores in California by School"
   ]
  },
  {
   "cell_type": "markdown",
   "metadata": {},
   "source": [
    "### Coding Challenges\n",
    "\n",
    "1. Manually calculate mean:\n",
    "\n",
    "    Write a function that takes in values and returns the mean of the values. Create a list of numbers that you test on your function to check to make sure your function works!\n",
    "    \n",
    "    *Note*: Do not use any mean methods built-in to any Python libraries to do this! This should be done without importing any additional libraries."
   ]
  },
  {
   "cell_type": "code",
   "execution_count": 1,
   "metadata": {},
   "outputs": [],
   "source": [
    "def average_list(num):\n",
    "    sum_numbers = 0\n",
    "    for t in num:\n",
    "        sum_numbers = sum_numbers + t\n",
    "\n",
    "    avg = sum_numbers / len(num)\n",
    "    return avg\n"
   ]
  },
  {
   "cell_type": "markdown",
   "metadata": {},
   "source": [
    "2. Manually calculate standard deviation:\n",
    "\n",
    "    The formula for standard deviation is below:\n",
    "\n",
    "    $$\\sigma = \\sqrt{\\frac{1}{n}\\sum_{i=1}^n(x_i - \\mu)^2}$$\n",
    "\n",
    "    Where $x_i$ represents each value in the dataset, $\\mu$ represents the mean of all values in the dataset and $n$ represents the number of values in the dataset.\n",
    "\n",
    "    Write a function that takes in values and returns the standard deviation of the values using the formula above. Hint: use the function you wrote above to calculate the mean! Use the list of numbers you created above to test on your function.\n",
    "    \n",
    "    *Note*: Do not use any standard deviation methods built-in to any Python libraries to do this! This should be done without importing any additional libraries."
   ]
  },
  {
   "cell_type": "code",
   "execution_count": 2,
   "metadata": {},
   "outputs": [],
   "source": [
    "def compute_stdev(col):\n",
    "    \n",
    "    if is_numeric_dtype(col) == False:\n",
    "        return\n",
    "    \n",
    "    n = len(col)\n",
    "    mean = np.mean(col)\n",
    "    total = 0\n",
    "    \n",
    "    for x in col:\n",
    "        total += (x-mean)**2\n",
    "        \n",
    "    variance = total / n\n",
    "    stdev = np.sqrt(variance)\n",
    "    \n",
    "    print(n,mean,stdev)    \n",
    "    \n",
    "    #return round(stdev,2)\n",
    "    return stdev"
   ]
  },
  {
   "cell_type": "markdown",
   "metadata": {},
   "source": [
    "3. Data cleaning function:\n",
    "    \n",
    "    Write a function that takes in a string that is a number and a percent symbol (ex. '50%', '30.5%', etc.) and converts this to a float that is the decimal approximation of the percent. For example, inputting '50%' in your function should return 0.5, '30.5%' should return 0.305, etc. Make sure to test your function to make sure it works!\n",
    "\n",
    "You will use these functions later on in the project!"
   ]
  },
  {
   "cell_type": "code",
   "execution_count": 3,
   "metadata": {},
   "outputs": [],
   "source": [
    "def percent_str_to_float(x):  \n",
    "    \n",
    "    if isinstance(x,str) == True:    \n",
    "        x = x.replace('%','')\n",
    "        x = x.replace('nan','')\n",
    "        \n",
    "    x = float(x)/100\n",
    "        \n",
    "    return x"
   ]
  },
  {
   "cell_type": "markdown",
   "metadata": {},
   "source": [
    "--- \n",
    "# Part 2\n",
    "\n",
    "Part 2 requires knowledge of Pandas, EDA, data cleaning, and data visualization.\n",
    "\n",
    "---"
   ]
  },
  {
   "cell_type": "markdown",
   "metadata": {},
   "source": [
    "*All libraries used should be added here*"
   ]
  },
  {
   "cell_type": "code",
   "execution_count": 4,
   "metadata": {},
   "outputs": [],
   "source": [
    "# Imports:\n",
    "# maths\n",
    "import scipy.stats as stats\n",
    "import numpy as np\n",
    "import pandas as pd\n",
    "from pandas.api.types import is_numeric_dtype\n",
    "\n",
    "# visualisation\n",
    "import seaborn as sns\n",
    "import matplotlib.pyplot as plt\n",
    "\n",
    "# other\n",
    "import re\n",
    "import os\n",
    "\n",
    "# html\n",
    "from IPython.display import Image\n",
    "from IPython.core.display import HTML"
   ]
  },
  {
   "cell_type": "markdown",
   "metadata": {},
   "source": [
    "## Data Import and Cleaning"
   ]
  },
  {
   "cell_type": "markdown",
   "metadata": {},
   "source": [
    "### Data Import & Cleaning\n",
    "\n",
    "Import the datasets that you selected for this project and go through the following steps at a minimum. You are welcome to do further cleaning as you feel necessary:\n",
    "1. Display the data: print the first 5 rows of each dataframe to your Jupyter notebook.\n",
    "2. Check for missing values.\n",
    "3. Check for any obvious issues with the observations (keep in mind the minimum & maximum possible values for each test/subtest).\n",
    "4. Fix any errors you identified in steps 2-3.\n",
    "5. Display the data types of each feature.\n",
    "6. Fix any incorrect data types found in step 5.\n",
    "    - Fix any individual values preventing other columns from being the appropriate type.\n",
    "    - If your dataset has a column of percents (ex. '50%', '30.5%', etc.), use the function you wrote in Part 1 (coding challenges, number 3) to convert this to floats! *Hint*: use `.map()` or `.apply()`.\n",
    "7. Rename Columns.\n",
    "    - Column names should be all lowercase.\n",
    "    - Column names should not contain spaces (underscores will suffice--this allows for using the `df.column_name` method to access columns in addition to `df['column_name']`).\n",
    "    - Column names should be unique and informative.\n",
    "8. Drop unnecessary rows (if needed).\n",
    "9. Merge dataframes that can be merged.\n",
    "10. Perform any additional cleaning that you feel is necessary.\n",
    "11. Save your cleaned and merged dataframes as csv files."
   ]
  },
  {
   "cell_type": "markdown",
   "metadata": {},
   "source": [
    "### 2017 - 2019 SAT Data Import & Cleaning"
   ]
  },
  {
   "cell_type": "markdown",
   "metadata": {},
   "source": [
    "#### Import the datasets"
   ]
  },
  {
   "cell_type": "code",
   "execution_count": 5,
   "metadata": {},
   "outputs": [],
   "source": [
    "# import 2017 - 2019 data\n",
    "\n",
    "path = '../data/'\n",
    "\n",
    "df_sat_2017 = pd.read_csv (path + 'sat_2017.csv')\n",
    "df_sat_2018 = pd.read_csv (path + 'sat_2018.csv')\n",
    "df_sat_2019 = pd.read_csv (path + 'sat_2019.csv')"
   ]
  },
  {
   "cell_type": "markdown",
   "metadata": {},
   "source": [
    "#### 1. Display the data: print the first 5 rows of each dataframe to your Jupyter notebook."
   ]
  },
  {
   "cell_type": "code",
   "execution_count": 6,
   "metadata": {},
   "outputs": [
    {
     "data": {
      "text/html": [
       "<div>\n",
       "<style scoped>\n",
       "    .dataframe tbody tr th:only-of-type {\n",
       "        vertical-align: middle;\n",
       "    }\n",
       "\n",
       "    .dataframe tbody tr th {\n",
       "        vertical-align: top;\n",
       "    }\n",
       "\n",
       "    .dataframe thead th {\n",
       "        text-align: right;\n",
       "    }\n",
       "</style>\n",
       "<table border=\"1\" class=\"dataframe\">\n",
       "  <thead>\n",
       "    <tr style=\"text-align: right;\">\n",
       "      <th></th>\n",
       "      <th>State</th>\n",
       "      <th>Participation</th>\n",
       "      <th>Evidence-Based Reading and Writing</th>\n",
       "      <th>Math</th>\n",
       "      <th>Total</th>\n",
       "    </tr>\n",
       "  </thead>\n",
       "  <tbody>\n",
       "    <tr>\n",
       "      <th>0</th>\n",
       "      <td>Alabama</td>\n",
       "      <td>5%</td>\n",
       "      <td>593</td>\n",
       "      <td>572</td>\n",
       "      <td>1165</td>\n",
       "    </tr>\n",
       "    <tr>\n",
       "      <th>1</th>\n",
       "      <td>Alaska</td>\n",
       "      <td>38%</td>\n",
       "      <td>547</td>\n",
       "      <td>533</td>\n",
       "      <td>1080</td>\n",
       "    </tr>\n",
       "    <tr>\n",
       "      <th>2</th>\n",
       "      <td>Arizona</td>\n",
       "      <td>30%</td>\n",
       "      <td>563</td>\n",
       "      <td>553</td>\n",
       "      <td>1116</td>\n",
       "    </tr>\n",
       "    <tr>\n",
       "      <th>3</th>\n",
       "      <td>Arkansas</td>\n",
       "      <td>3%</td>\n",
       "      <td>614</td>\n",
       "      <td>594</td>\n",
       "      <td>1208</td>\n",
       "    </tr>\n",
       "    <tr>\n",
       "      <th>4</th>\n",
       "      <td>California</td>\n",
       "      <td>53%</td>\n",
       "      <td>531</td>\n",
       "      <td>524</td>\n",
       "      <td>1055</td>\n",
       "    </tr>\n",
       "  </tbody>\n",
       "</table>\n",
       "</div>"
      ],
      "text/plain": [
       "        State Participation  Evidence-Based Reading and Writing  Math  Total\n",
       "0     Alabama            5%                                 593   572   1165\n",
       "1      Alaska           38%                                 547   533   1080\n",
       "2     Arizona           30%                                 563   553   1116\n",
       "3    Arkansas            3%                                 614   594   1208\n",
       "4  California           53%                                 531   524   1055"
      ]
     },
     "execution_count": 6,
     "metadata": {},
     "output_type": "execute_result"
    }
   ],
   "source": [
    "# check df_sat_2017 \n",
    "df_sat_2017.head(n=5)"
   ]
  },
  {
   "cell_type": "code",
   "execution_count": 7,
   "metadata": {},
   "outputs": [
    {
     "data": {
      "text/html": [
       "<div>\n",
       "<style scoped>\n",
       "    .dataframe tbody tr th:only-of-type {\n",
       "        vertical-align: middle;\n",
       "    }\n",
       "\n",
       "    .dataframe tbody tr th {\n",
       "        vertical-align: top;\n",
       "    }\n",
       "\n",
       "    .dataframe thead th {\n",
       "        text-align: right;\n",
       "    }\n",
       "</style>\n",
       "<table border=\"1\" class=\"dataframe\">\n",
       "  <thead>\n",
       "    <tr style=\"text-align: right;\">\n",
       "      <th></th>\n",
       "      <th>State</th>\n",
       "      <th>Participation</th>\n",
       "      <th>Evidence-Based Reading and Writing</th>\n",
       "      <th>Math</th>\n",
       "      <th>Total</th>\n",
       "    </tr>\n",
       "  </thead>\n",
       "  <tbody>\n",
       "    <tr>\n",
       "      <th>0</th>\n",
       "      <td>Alabama</td>\n",
       "      <td>6%</td>\n",
       "      <td>595</td>\n",
       "      <td>571</td>\n",
       "      <td>1166</td>\n",
       "    </tr>\n",
       "    <tr>\n",
       "      <th>1</th>\n",
       "      <td>Alaska</td>\n",
       "      <td>43%</td>\n",
       "      <td>562</td>\n",
       "      <td>544</td>\n",
       "      <td>1106</td>\n",
       "    </tr>\n",
       "    <tr>\n",
       "      <th>2</th>\n",
       "      <td>Arizona</td>\n",
       "      <td>29%</td>\n",
       "      <td>577</td>\n",
       "      <td>572</td>\n",
       "      <td>1149</td>\n",
       "    </tr>\n",
       "    <tr>\n",
       "      <th>3</th>\n",
       "      <td>Arkansas</td>\n",
       "      <td>5%</td>\n",
       "      <td>592</td>\n",
       "      <td>576</td>\n",
       "      <td>1169</td>\n",
       "    </tr>\n",
       "    <tr>\n",
       "      <th>4</th>\n",
       "      <td>California</td>\n",
       "      <td>60%</td>\n",
       "      <td>540</td>\n",
       "      <td>536</td>\n",
       "      <td>1076</td>\n",
       "    </tr>\n",
       "  </tbody>\n",
       "</table>\n",
       "</div>"
      ],
      "text/plain": [
       "        State Participation  Evidence-Based Reading and Writing  Math  Total\n",
       "0     Alabama            6%                                 595   571   1166\n",
       "1      Alaska           43%                                 562   544   1106\n",
       "2     Arizona           29%                                 577   572   1149\n",
       "3    Arkansas            5%                                 592   576   1169\n",
       "4  California           60%                                 540   536   1076"
      ]
     },
     "execution_count": 7,
     "metadata": {},
     "output_type": "execute_result"
    }
   ],
   "source": [
    "# check df_sat_2018 \n",
    "df_sat_2018.head(n=5)"
   ]
  },
  {
   "cell_type": "code",
   "execution_count": 8,
   "metadata": {},
   "outputs": [
    {
     "data": {
      "text/html": [
       "<div>\n",
       "<style scoped>\n",
       "    .dataframe tbody tr th:only-of-type {\n",
       "        vertical-align: middle;\n",
       "    }\n",
       "\n",
       "    .dataframe tbody tr th {\n",
       "        vertical-align: top;\n",
       "    }\n",
       "\n",
       "    .dataframe thead th {\n",
       "        text-align: right;\n",
       "    }\n",
       "</style>\n",
       "<table border=\"1\" class=\"dataframe\">\n",
       "  <thead>\n",
       "    <tr style=\"text-align: right;\">\n",
       "      <th></th>\n",
       "      <th>State</th>\n",
       "      <th>Participation Rate</th>\n",
       "      <th>EBRW</th>\n",
       "      <th>Math</th>\n",
       "      <th>Total</th>\n",
       "    </tr>\n",
       "  </thead>\n",
       "  <tbody>\n",
       "    <tr>\n",
       "      <th>0</th>\n",
       "      <td>Alabama</td>\n",
       "      <td>7%</td>\n",
       "      <td>583</td>\n",
       "      <td>560</td>\n",
       "      <td>1143</td>\n",
       "    </tr>\n",
       "    <tr>\n",
       "      <th>1</th>\n",
       "      <td>Alaska</td>\n",
       "      <td>41%</td>\n",
       "      <td>556</td>\n",
       "      <td>541</td>\n",
       "      <td>1097</td>\n",
       "    </tr>\n",
       "    <tr>\n",
       "      <th>2</th>\n",
       "      <td>Arizona</td>\n",
       "      <td>31%</td>\n",
       "      <td>569</td>\n",
       "      <td>565</td>\n",
       "      <td>1134</td>\n",
       "    </tr>\n",
       "    <tr>\n",
       "      <th>3</th>\n",
       "      <td>Arkansas</td>\n",
       "      <td>6%</td>\n",
       "      <td>582</td>\n",
       "      <td>559</td>\n",
       "      <td>1141</td>\n",
       "    </tr>\n",
       "    <tr>\n",
       "      <th>4</th>\n",
       "      <td>California</td>\n",
       "      <td>63%</td>\n",
       "      <td>534</td>\n",
       "      <td>531</td>\n",
       "      <td>1065</td>\n",
       "    </tr>\n",
       "  </tbody>\n",
       "</table>\n",
       "</div>"
      ],
      "text/plain": [
       "        State Participation Rate  EBRW  Math  Total\n",
       "0     Alabama                 7%   583   560   1143\n",
       "1      Alaska                41%   556   541   1097\n",
       "2     Arizona                31%   569   565   1134\n",
       "3    Arkansas                 6%   582   559   1141\n",
       "4  California                63%   534   531   1065"
      ]
     },
     "execution_count": 8,
     "metadata": {},
     "output_type": "execute_result"
    }
   ],
   "source": [
    "# check df_sat_2019\n",
    "df_sat_2019.head(n=5)"
   ]
  },
  {
   "cell_type": "markdown",
   "metadata": {},
   "source": [
    "#### 2. Check for missing values."
   ]
  },
  {
   "cell_type": "code",
   "execution_count": 9,
   "metadata": {},
   "outputs": [
    {
     "data": {
      "text/plain": [
       "State                 0\n",
       "Participation Rate    0\n",
       "EBRW                  0\n",
       "Math                  0\n",
       "Total                 0\n",
       "dtype: int64"
      ]
     },
     "execution_count": 9,
     "metadata": {},
     "output_type": "execute_result"
    }
   ],
   "source": [
    "df_sat_2017.isnull().sum()\n",
    "df_sat_2018.isnull().sum()\n",
    "df_sat_2019.isnull().sum()"
   ]
  },
  {
   "cell_type": "markdown",
   "metadata": {},
   "source": [
    "#### 3. Check for any obvious issues with the observations (keep in mind the minimum & maximum possible values for each test/subtest)"
   ]
  },
  {
   "cell_type": "markdown",
   "metadata": {},
   "source": [
    "|SAT SCORING||Evidence-Based Reading||Maths||Total|\n",
    "|-----------||----------------------||-----||-----|\n",
    "|Max||800||800||1600|\n",
    "|Min||200||200||400|"
   ]
  },
  {
   "cell_type": "code",
   "execution_count": 10,
   "metadata": {
    "scrolled": true
   },
   "outputs": [
    {
     "data": {
      "image/png": "[encoded data removed]",
      "text/plain": [
       "<Figure size 864x576 with 1 Axes>"
      ]
     },
     "metadata": {
      "needs_background": "light"
     },
     "output_type": "display_data"
    }
   ],
   "source": [
    "df_sat_2017.plot(figsize=(12,8))\n",
    "plt.show()"
   ]
  },
  {
   "cell_type": "code",
   "execution_count": 11,
   "metadata": {
    "scrolled": true
   },
   "outputs": [
    {
     "data": {
      "image/png": "[encoded data removed]",
      "text/plain": [
       "<Figure size 864x576 with 1 Axes>"
      ]
     },
     "metadata": {
      "needs_background": "light"
     },
     "output_type": "display_data"
    }
   ],
   "source": [
    "df_sat_2018.plot(figsize=(12,8))\n",
    "plt.show()"
   ]
  },
  {
   "cell_type": "code",
   "execution_count": 12,
   "metadata": {
    "scrolled": true
   },
   "outputs": [
    {
     "data": {
      "image/png": "[encoded data removed]",
      "text/plain": [
       "<Figure size 864x576 with 1 Axes>"
      ]
     },
     "metadata": {
      "needs_background": "light"
     },
     "output_type": "display_data"
    }
   ],
   "source": [
    "df_sat_2019.plot(figsize=(12,8))\n",
    "plt.show()"
   ]
  },
  {
   "cell_type": "markdown",
   "metadata": {},
   "source": [
    "#### Found error in 'Maths' scores in states of 'Maryland' in df_sat_2017 with 52 test scores which lower than the Min scores."
   ]
  },
  {
   "cell_type": "markdown",
   "metadata": {},
   "source": [
    "#### 4. Fix any errors you identified in steps 2-3."
   ]
  },
  {
   "cell_type": "code",
   "execution_count": 13,
   "metadata": {},
   "outputs": [
    {
     "name": "stdout",
     "output_type": "stream",
     "text": [
      "—\n",
      "—\n"
     ]
    }
   ],
   "source": [
    "# to change the missing value to nan\n",
    "def change_to_nan (value):\n",
    "    if value == '—':\n",
    "        print (value)\n",
    "        return np.nan\n",
    "    else:\n",
    "        return value\n",
    "\n",
    "\n",
    "df_sat_2019['Participation Rate'] = df_sat_2019['Participation Rate'].apply(change_to_nan)\n"
   ]
  },
  {
   "cell_type": "code",
   "execution_count": 14,
   "metadata": {
    "scrolled": true
   },
   "outputs": [
    {
     "data": {
      "text/plain": [
       "array(['7%', '41%', '31%', '6%', '63%', '100%', '94%', '71%', '54%',\n",
       "       '66%', '3%', '4%', '5%', '99%', '82%', '81%', '9%', '20%', '95%',\n",
       "       '18%', '79%', '51%', '2%', '19%', '22%', '70%', nan, '68%'],\n",
       "      dtype=object)"
      ]
     },
     "execution_count": 14,
     "metadata": {},
     "output_type": "execute_result"
    }
   ],
   "source": [
    "# check the changes\n",
    "df_sat_2019['Participation Rate'].unique()"
   ]
  },
  {
   "cell_type": "code",
   "execution_count": 15,
   "metadata": {},
   "outputs": [
    {
     "name": "stdout",
     "output_type": "stream",
     "text": [
      "before:\n",
      "       State Participation  Evidence-Based Reading and Writing  Math  Total\n",
      "20  Maryland           69%                                 536    52   1060\n",
      "after:\n",
      "       State Participation  Evidence-Based Reading and Writing  Math  Total\n",
      "20  Maryland           69%                                 536   524   1060\n"
     ]
    }
   ],
   "source": [
    "# fix error in df_sat_2017 \"Maryland\" \"Maths\"\n",
    "\n",
    "mask = df_sat_2017[\"State\"] == \"Maryland\"\n",
    "row = df_sat_2017.loc[mask]\n",
    "\n",
    "print(\"before:\")\n",
    "print(row)\n",
    "\n",
    "total = row[\"Total\"]\n",
    "read_write = row[\"Evidence-Based Reading and Writing\"]\n",
    "math = total - read_write\n",
    "\n",
    "df_sat_2017.loc[mask,\"Math\"] = math\n",
    "\n",
    "row = df_sat_2017.loc[mask]\n",
    "print(\"after:\")\n",
    "print(row)"
   ]
  },
  {
   "cell_type": "markdown",
   "metadata": {},
   "source": [
    "#### 5. Display the data types of each feature"
   ]
  },
  {
   "cell_type": "code",
   "execution_count": 16,
   "metadata": {},
   "outputs": [
    {
     "name": "stdout",
     "output_type": "stream",
     "text": [
      "df_sat_2017(DataType):\n",
      "\n",
      "State                                 object\n",
      "Participation                         object\n",
      "Evidence-Based Reading and Writing     int64\n",
      "Math                                   int64\n",
      "Total                                  int64\n",
      "dtype: object\n",
      "\n",
      "df_sat_2018(DataType):\n",
      "\n",
      "State                                 object\n",
      "Participation                         object\n",
      "Evidence-Based Reading and Writing     int64\n",
      "Math                                   int64\n",
      "Total                                  int64\n",
      "dtype: object\n",
      "\n",
      "df_sat_2019(DataType):\n",
      "\n",
      "State                 object\n",
      "Participation Rate    object\n",
      "EBRW                   int64\n",
      "Math                   int64\n",
      "Total                  int64\n",
      "dtype: object\n",
      "\n"
     ]
    }
   ],
   "source": [
    "print('df_sat_2017(DataType):\\n')\n",
    "print(df_sat_2017.dtypes)\n",
    "print('')\n",
    "print('df_sat_2018(DataType):\\n')\n",
    "print(df_sat_2018.dtypes)\n",
    "print('')\n",
    "print('df_sat_2019(DataType):\\n')\n",
    "print(df_sat_2019.dtypes)\n",
    "print('')"
   ]
  },
  {
   "cell_type": "markdown",
   "metadata": {},
   "source": [
    "#### 6.Fix any incorrect data types found in step 5.\n",
    "*  Fix any individual values preventing other columns from being the appropriate type.\n",
    "*  If your dataset has a column of percents (ex. '50%', '30.5%', etc.), use the function you wrote in Part 1 (coding challenges, number 3) to convert this to floats! Hint: use .map() or .apply()."
   ]
  },
  {
   "cell_type": "code",
   "execution_count": 17,
   "metadata": {},
   "outputs": [],
   "source": [
    "# use percent_str_to_float() to convert \"Participation\" columns\n",
    "\n",
    "col_name = 'Participation'\n",
    "\n",
    "df_sat_2017[col_name] = df_sat_2017[col_name].apply(percent_str_to_float)\n",
    "df_sat_2018[col_name] = df_sat_2018[col_name].apply(percent_str_to_float)\n",
    "\n",
    "col_name_2019 = 'Participation Rate'\n",
    "df_sat_2019[col_name_2019] = df_sat_2019[col_name_2019].apply(percent_str_to_float)"
   ]
  },
  {
   "cell_type": "code",
   "execution_count": 18,
   "metadata": {},
   "outputs": [
    {
     "name": "stdout",
     "output_type": "stream",
     "text": [
      "df_sat_2017(DataType):\n",
      "\n",
      "State                                  object\n",
      "Participation                         float64\n",
      "Evidence-Based Reading and Writing      int64\n",
      "Math                                    int64\n",
      "Total                                   int64\n",
      "dtype: object\n",
      "\n",
      "df_sat_2018(DataType):\n",
      "\n",
      "State                                  object\n",
      "Participation                         float64\n",
      "Evidence-Based Reading and Writing      int64\n",
      "Math                                    int64\n",
      "Total                                   int64\n",
      "dtype: object\n",
      "\n",
      "df_sat_2019(DataType):\n",
      "\n",
      "State                  object\n",
      "Participation Rate    float64\n",
      "EBRW                    int64\n",
      "Math                    int64\n",
      "Total                   int64\n",
      "dtype: object\n",
      "\n"
     ]
    }
   ],
   "source": [
    "# check the Dtype\n",
    "print('df_sat_2017(DataType):\\n')\n",
    "print(df_sat_2017.dtypes)\n",
    "print('')\n",
    "print('df_sat_2018(DataType):\\n')\n",
    "print(df_sat_2018.dtypes)\n",
    "print('')\n",
    "print('df_sat_2019(DataType):\\n')\n",
    "print(df_sat_2019.dtypes)\n",
    "print('')"
   ]
  },
  {
   "cell_type": "markdown",
   "metadata": {},
   "source": [
    "#### 7. Rename Columns.\n",
    "*  Column names should be all lowercase.\n",
    "*  Column names should not contain spaces (underscores will suffice--this allows for using the df.column_name method to access *  columns in addition to df['column_name']).\n",
    "*  Column names should be unique and informative."
   ]
  },
  {
   "cell_type": "code",
   "execution_count": 19,
   "metadata": {},
   "outputs": [],
   "source": [
    "# rename column names to lowercase\n",
    "df_sat_2017.columns = map(str.lower, df_sat_2017.columns)\n",
    "df_sat_2018.columns = map(str.lower, df_sat_2018.columns)\n",
    "df_sat_2019.columns = map(str.lower, df_sat_2019.columns)"
   ]
  },
  {
   "cell_type": "code",
   "execution_count": 20,
   "metadata": {},
   "outputs": [],
   "source": [
    "# rename columns with long names\n",
    "df_sat_2017 = df_sat_2017.rename(columns={'evidence-based reading and writing':'ebrw'})\n",
    "df_sat_2018 = df_sat_2018.rename(columns={'evidence-based reading and writing':'ebrw'})\n",
    "df_sat_2019 = df_sat_2019.rename(columns={'participation rate':'participation'})"
   ]
  },
  {
   "cell_type": "code",
   "execution_count": 21,
   "metadata": {},
   "outputs": [],
   "source": [
    "# add column year\n",
    "df_sat_2017['year'] = 2017\n",
    "df_sat_2018['year'] = 2018\n",
    "df_sat_2019['year'] = 2019"
   ]
  },
  {
   "cell_type": "code",
   "execution_count": 22,
   "metadata": {
    "scrolled": true
   },
   "outputs": [
    {
     "name": "stdout",
     "output_type": "stream",
     "text": [
      "df_sat_2017(Head):\n",
      "\n",
      "     state  participation  ebrw  math  total  year\n",
      "0  Alabama           0.05   593   572   1165  2017\n",
      "1   Alaska           0.38   547   533   1080  2017\n",
      "\n",
      "df_sat_2018(Head):\n",
      "\n",
      "     state  participation  ebrw  math  total  year\n",
      "0  Alabama           0.06   595   571   1166  2018\n",
      "1   Alaska           0.43   562   544   1106  2018\n",
      "\n",
      "df_sat_2019(Head):\n",
      "\n",
      "     state  participation  ebrw  math  total  year\n",
      "0  Alabama           0.07   583   560   1143  2019\n",
      "1   Alaska           0.41   556   541   1097  2019\n",
      "\n"
     ]
    }
   ],
   "source": [
    "# check the revised column name\n",
    "print('df_sat_2017(Head):\\n')\n",
    "print(df_sat_2017.head(2))\n",
    "print('')\n",
    "print('df_sat_2018(Head):\\n')\n",
    "print(df_sat_2018.head (2))\n",
    "print('')\n",
    "print('df_sat_2019(Head):\\n')\n",
    "print(df_sat_2019.head (2))\n",
    "print('')\n"
   ]
  },
  {
   "cell_type": "markdown",
   "metadata": {},
   "source": [
    "#### 8. Drop unnecessary rows (if needed)."
   ]
  },
  {
   "cell_type": "markdown",
   "metadata": {},
   "source": [
    "No action"
   ]
  },
  {
   "cell_type": "markdown",
   "metadata": {},
   "source": [
    "#### 9. Merge dataframes that can be merged."
   ]
  },
  {
   "cell_type": "code",
   "execution_count": 23,
   "metadata": {},
   "outputs": [
    {
     "data": {
      "text/html": [
       "<div>\n",
       "<style scoped>\n",
       "    .dataframe tbody tr th:only-of-type {\n",
       "        vertical-align: middle;\n",
       "    }\n",
       "\n",
       "    .dataframe tbody tr th {\n",
       "        vertical-align: top;\n",
       "    }\n",
       "\n",
       "    .dataframe thead th {\n",
       "        text-align: right;\n",
       "    }\n",
       "</style>\n",
       "<table border=\"1\" class=\"dataframe\">\n",
       "  <thead>\n",
       "    <tr style=\"text-align: right;\">\n",
       "      <th></th>\n",
       "      <th>state</th>\n",
       "      <th>participation</th>\n",
       "      <th>ebrw</th>\n",
       "      <th>math</th>\n",
       "      <th>total</th>\n",
       "      <th>year</th>\n",
       "    </tr>\n",
       "  </thead>\n",
       "  <tbody>\n",
       "    <tr>\n",
       "      <th>0</th>\n",
       "      <td>Alabama</td>\n",
       "      <td>0.05</td>\n",
       "      <td>593</td>\n",
       "      <td>572</td>\n",
       "      <td>1165</td>\n",
       "      <td>2017</td>\n",
       "    </tr>\n",
       "    <tr>\n",
       "      <th>1</th>\n",
       "      <td>Alaska</td>\n",
       "      <td>0.38</td>\n",
       "      <td>547</td>\n",
       "      <td>533</td>\n",
       "      <td>1080</td>\n",
       "      <td>2017</td>\n",
       "    </tr>\n",
       "    <tr>\n",
       "      <th>2</th>\n",
       "      <td>Arizona</td>\n",
       "      <td>0.30</td>\n",
       "      <td>563</td>\n",
       "      <td>553</td>\n",
       "      <td>1116</td>\n",
       "      <td>2017</td>\n",
       "    </tr>\n",
       "    <tr>\n",
       "      <th>3</th>\n",
       "      <td>Arkansas</td>\n",
       "      <td>0.03</td>\n",
       "      <td>614</td>\n",
       "      <td>594</td>\n",
       "      <td>1208</td>\n",
       "      <td>2017</td>\n",
       "    </tr>\n",
       "    <tr>\n",
       "      <th>4</th>\n",
       "      <td>California</td>\n",
       "      <td>0.53</td>\n",
       "      <td>531</td>\n",
       "      <td>524</td>\n",
       "      <td>1055</td>\n",
       "      <td>2017</td>\n",
       "    </tr>\n",
       "    <tr>\n",
       "      <th>...</th>\n",
       "      <td>...</td>\n",
       "      <td>...</td>\n",
       "      <td>...</td>\n",
       "      <td>...</td>\n",
       "      <td>...</td>\n",
       "      <td>...</td>\n",
       "    </tr>\n",
       "    <tr>\n",
       "      <th>48</th>\n",
       "      <td>Virginia</td>\n",
       "      <td>0.68</td>\n",
       "      <td>567</td>\n",
       "      <td>551</td>\n",
       "      <td>1119</td>\n",
       "      <td>2019</td>\n",
       "    </tr>\n",
       "    <tr>\n",
       "      <th>49</th>\n",
       "      <td>Washington</td>\n",
       "      <td>0.70</td>\n",
       "      <td>539</td>\n",
       "      <td>535</td>\n",
       "      <td>1074</td>\n",
       "      <td>2019</td>\n",
       "    </tr>\n",
       "    <tr>\n",
       "      <th>50</th>\n",
       "      <td>West Virginia</td>\n",
       "      <td>0.99</td>\n",
       "      <td>483</td>\n",
       "      <td>460</td>\n",
       "      <td>943</td>\n",
       "      <td>2019</td>\n",
       "    </tr>\n",
       "    <tr>\n",
       "      <th>51</th>\n",
       "      <td>Wisconsin</td>\n",
       "      <td>0.03</td>\n",
       "      <td>635</td>\n",
       "      <td>648</td>\n",
       "      <td>1283</td>\n",
       "      <td>2019</td>\n",
       "    </tr>\n",
       "    <tr>\n",
       "      <th>52</th>\n",
       "      <td>Wyoming</td>\n",
       "      <td>0.03</td>\n",
       "      <td>623</td>\n",
       "      <td>615</td>\n",
       "      <td>1238</td>\n",
       "      <td>2019</td>\n",
       "    </tr>\n",
       "  </tbody>\n",
       "</table>\n",
       "<p>155 rows × 6 columns</p>\n",
       "</div>"
      ],
      "text/plain": [
       "            state  participation  ebrw  math  total  year\n",
       "0         Alabama           0.05   593   572   1165  2017\n",
       "1          Alaska           0.38   547   533   1080  2017\n",
       "2         Arizona           0.30   563   553   1116  2017\n",
       "3        Arkansas           0.03   614   594   1208  2017\n",
       "4      California           0.53   531   524   1055  2017\n",
       "..            ...            ...   ...   ...    ...   ...\n",
       "48       Virginia           0.68   567   551   1119  2019\n",
       "49     Washington           0.70   539   535   1074  2019\n",
       "50  West Virginia           0.99   483   460    943  2019\n",
       "51      Wisconsin           0.03   635   648   1283  2019\n",
       "52        Wyoming           0.03   623   615   1238  2019\n",
       "\n",
       "[155 rows x 6 columns]"
      ]
     },
     "execution_count": 23,
     "metadata": {},
     "output_type": "execute_result"
    }
   ],
   "source": [
    "# Merge df_sat_2017, df_sat_2018 and df_sat_2019\n",
    "\n",
    "all_sat = pd.concat(objs = [df_sat_2017,df_sat_2018,df_sat_2019], axis = 0)\n",
    "all_sat"
   ]
  },
  {
   "cell_type": "markdown",
   "metadata": {},
   "source": [
    "#### 10. Perform any additional cleaning that you feel is necessary"
   ]
  },
  {
   "cell_type": "markdown",
   "metadata": {},
   "source": [
    "None"
   ]
  },
  {
   "cell_type": "markdown",
   "metadata": {},
   "source": [
    "#### 11. Save your cleaned and merged dataframes as csv files."
   ]
  },
  {
   "cell_type": "code",
   "execution_count": 24,
   "metadata": {},
   "outputs": [],
   "source": [
    "# output combined SAT 2017 - 2019 data\n",
    "\n",
    "path = '../data/'\n",
    "\n",
    "if not os.path.exists(path):\n",
    "    os.makedirs(path)\n",
    "    \n",
    "all_sat.to_csv(path + 'combined_sat.csv')"
   ]
  },
  {
   "cell_type": "markdown",
   "metadata": {},
   "source": [
    "### 2017 - 2019 SAT California Data Import & Cleaning"
   ]
  },
  {
   "cell_type": "markdown",
   "metadata": {},
   "source": [
    "#### Import the datasets"
   ]
  },
  {
   "cell_type": "code",
   "execution_count": 25,
   "metadata": {},
   "outputs": [],
   "source": [
    "# import datasets of 2017 - 2019 SAT California \n",
    "path = '../data/'\n",
    "\n",
    "df_sat_2017_ca = pd.read_csv (path + 'sat_2017_ca.csv')\n",
    "df_sat_2018_ca = pd.read_csv (path + 'sat_2018_ca.csv')\n",
    "df_sat_2019_ca = pd.read_csv (path + 'sat_2019_ca.csv')"
   ]
  },
  {
   "cell_type": "markdown",
   "metadata": {},
   "source": [
    "#### 1. Display the data: print the first 2 rows of each dataframe to your Jupyter notebook."
   ]
  },
  {
   "cell_type": "code",
   "execution_count": 26,
   "metadata": {},
   "outputs": [
    {
     "data": {
      "text/html": [
       "<div>\n",
       "<style scoped>\n",
       "    .dataframe tbody tr th:only-of-type {\n",
       "        vertical-align: middle;\n",
       "    }\n",
       "\n",
       "    .dataframe tbody tr th {\n",
       "        vertical-align: top;\n",
       "    }\n",
       "\n",
       "    .dataframe thead th {\n",
       "        text-align: right;\n",
       "    }\n",
       "</style>\n",
       "<table border=\"1\" class=\"dataframe\">\n",
       "  <thead>\n",
       "    <tr style=\"text-align: right;\">\n",
       "      <th></th>\n",
       "      <th>cds</th>\n",
       "      <th>Ccode</th>\n",
       "      <th>CDcode</th>\n",
       "      <th>Scode</th>\n",
       "      <th>rtype</th>\n",
       "      <th>sname</th>\n",
       "      <th>dname</th>\n",
       "      <th>cname</th>\n",
       "      <th>enroll12</th>\n",
       "      <th>NumTstTakr</th>\n",
       "      <th>NumCurrElaBenchmark</th>\n",
       "      <th>NumPreElaBenchmark</th>\n",
       "      <th>TotNumElaBenchmark</th>\n",
       "      <th>PctElaBenchmark</th>\n",
       "      <th>NumCurrMathBenchmark</th>\n",
       "      <th>NumPreMathBenchmark</th>\n",
       "      <th>TotNumMathBenchmark</th>\n",
       "      <th>PctMathBenchmark</th>\n",
       "      <th>TotNumBothBenchmark</th>\n",
       "      <th>PctBothBenchmark</th>\n",
       "    </tr>\n",
       "  </thead>\n",
       "  <tbody>\n",
       "    <tr>\n",
       "      <th>0</th>\n",
       "      <td>1.610000e+12</td>\n",
       "      <td>1</td>\n",
       "      <td>161259</td>\n",
       "      <td>130179</td>\n",
       "      <td>S</td>\n",
       "      <td>Street Academy (Alternative)</td>\n",
       "      <td>Oakland Unified</td>\n",
       "      <td>Alameda</td>\n",
       "      <td>24</td>\n",
       "      <td>26</td>\n",
       "      <td>3</td>\n",
       "      <td>0</td>\n",
       "      <td>3</td>\n",
       "      <td>11.54</td>\n",
       "      <td>0</td>\n",
       "      <td>0</td>\n",
       "      <td>0</td>\n",
       "      <td>0</td>\n",
       "      <td>0</td>\n",
       "      <td>0</td>\n",
       "    </tr>\n",
       "    <tr>\n",
       "      <th>1</th>\n",
       "      <td>1.610000e+12</td>\n",
       "      <td>1</td>\n",
       "      <td>161259</td>\n",
       "      <td>6114011</td>\n",
       "      <td>S</td>\n",
       "      <td>Independent Study, Sojourner Truth</td>\n",
       "      <td>Oakland Unified</td>\n",
       "      <td>Alameda</td>\n",
       "      <td>35</td>\n",
       "      <td>31</td>\n",
       "      <td>11</td>\n",
       "      <td>0</td>\n",
       "      <td>11</td>\n",
       "      <td>35.48</td>\n",
       "      <td>1</td>\n",
       "      <td>0</td>\n",
       "      <td>1</td>\n",
       "      <td>3.23</td>\n",
       "      <td>0</td>\n",
       "      <td>0</td>\n",
       "    </tr>\n",
       "  </tbody>\n",
       "</table>\n",
       "</div>"
      ],
      "text/plain": [
       "            cds  Ccode  CDcode    Scode rtype  \\\n",
       "0  1.610000e+12      1  161259   130179     S   \n",
       "1  1.610000e+12      1  161259  6114011     S   \n",
       "\n",
       "                                sname            dname    cname enroll12  \\\n",
       "0        Street Academy (Alternative)  Oakland Unified  Alameda       24   \n",
       "1  Independent Study, Sojourner Truth  Oakland Unified  Alameda       35   \n",
       "\n",
       "   NumTstTakr NumCurrElaBenchmark NumPreElaBenchmark TotNumElaBenchmark  \\\n",
       "0          26                   3                  0                  3   \n",
       "1          31                  11                  0                 11   \n",
       "\n",
       "  PctElaBenchmark NumCurrMathBenchmark NumPreMathBenchmark  \\\n",
       "0           11.54                    0                   0   \n",
       "1           35.48                    1                   0   \n",
       "\n",
       "  TotNumMathBenchmark PctMathBenchmark TotNumBothBenchmark PctBothBenchmark  \n",
       "0                   0                0                   0                0  \n",
       "1                   1             3.23                   0                0  "
      ]
     },
     "execution_count": 26,
     "metadata": {},
     "output_type": "execute_result"
    }
   ],
   "source": [
    "# check df_sat_2017_ca\n",
    "df_sat_2017_ca.head(n=2)"
   ]
  },
  {
   "cell_type": "code",
   "execution_count": 27,
   "metadata": {},
   "outputs": [
    {
     "data": {
      "text/html": [
       "<div>\n",
       "<style scoped>\n",
       "    .dataframe tbody tr th:only-of-type {\n",
       "        vertical-align: middle;\n",
       "    }\n",
       "\n",
       "    .dataframe tbody tr th {\n",
       "        vertical-align: top;\n",
       "    }\n",
       "\n",
       "    .dataframe thead th {\n",
       "        text-align: right;\n",
       "    }\n",
       "</style>\n",
       "<table border=\"1\" class=\"dataframe\">\n",
       "  <thead>\n",
       "    <tr style=\"text-align: right;\">\n",
       "      <th></th>\n",
       "      <th>cds</th>\n",
       "      <th>Ccode</th>\n",
       "      <th>CDcode</th>\n",
       "      <th>Scode</th>\n",
       "      <th>rtype</th>\n",
       "      <th>sname</th>\n",
       "      <th>dname</th>\n",
       "      <th>cname</th>\n",
       "      <th>enroll12</th>\n",
       "      <th>NumTstTakr</th>\n",
       "      <th>...</th>\n",
       "      <th>NumPreElaBenchmark</th>\n",
       "      <th>TotNumElaBenchmark</th>\n",
       "      <th>PctElaBenchmark</th>\n",
       "      <th>NumCurrMathBenchmark</th>\n",
       "      <th>NumPreMathBenchmark</th>\n",
       "      <th>TotNumMathBenchmark</th>\n",
       "      <th>PctMathBenchmark</th>\n",
       "      <th>TotNumBothBenchmark</th>\n",
       "      <th>PctBothBenchmark</th>\n",
       "      <th>year</th>\n",
       "    </tr>\n",
       "  </thead>\n",
       "  <tbody>\n",
       "    <tr>\n",
       "      <th>0</th>\n",
       "      <td>19644361931617</td>\n",
       "      <td>19</td>\n",
       "      <td>1964436</td>\n",
       "      <td>1931617</td>\n",
       "      <td>S</td>\n",
       "      <td>Fairvalley High (Continuation)</td>\n",
       "      <td>Covina-Valley Unified</td>\n",
       "      <td>Los Angeles</td>\n",
       "      <td>90</td>\n",
       "      <td>69</td>\n",
       "      <td>...</td>\n",
       "      <td>0</td>\n",
       "      <td>5</td>\n",
       "      <td>7.25</td>\n",
       "      <td>0</td>\n",
       "      <td>0</td>\n",
       "      <td>0</td>\n",
       "      <td>0</td>\n",
       "      <td>0</td>\n",
       "      <td>0</td>\n",
       "      <td>2017-18</td>\n",
       "    </tr>\n",
       "    <tr>\n",
       "      <th>1</th>\n",
       "      <td>19647251937176</td>\n",
       "      <td>19</td>\n",
       "      <td>1964725</td>\n",
       "      <td>1937176</td>\n",
       "      <td>S</td>\n",
       "      <td>Reid High</td>\n",
       "      <td>Long Beach Unified</td>\n",
       "      <td>Los Angeles</td>\n",
       "      <td>145</td>\n",
       "      <td>74</td>\n",
       "      <td>...</td>\n",
       "      <td>0</td>\n",
       "      <td>8</td>\n",
       "      <td>10.81</td>\n",
       "      <td>0</td>\n",
       "      <td>0</td>\n",
       "      <td>0</td>\n",
       "      <td>0</td>\n",
       "      <td>0</td>\n",
       "      <td>0</td>\n",
       "      <td>2017-18</td>\n",
       "    </tr>\n",
       "  </tbody>\n",
       "</table>\n",
       "<p>2 rows × 21 columns</p>\n",
       "</div>"
      ],
      "text/plain": [
       "              cds  Ccode   CDcode    Scode rtype  \\\n",
       "0  19644361931617     19  1964436  1931617     S   \n",
       "1  19647251937176     19  1964725  1937176     S   \n",
       "\n",
       "                            sname                  dname        cname  \\\n",
       "0  Fairvalley High (Continuation)  Covina-Valley Unified  Los Angeles   \n",
       "1                       Reid High     Long Beach Unified  Los Angeles   \n",
       "\n",
       "   enroll12  NumTstTakr  ... NumPreElaBenchmark TotNumElaBenchmark  \\\n",
       "0        90          69  ...                  0                  5   \n",
       "1       145          74  ...                  0                  8   \n",
       "\n",
       "  PctElaBenchmark NumCurrMathBenchmark NumPreMathBenchmark  \\\n",
       "0            7.25                    0                   0   \n",
       "1           10.81                    0                   0   \n",
       "\n",
       "  TotNumMathBenchmark PctMathBenchmark TotNumBothBenchmark PctBothBenchmark  \\\n",
       "0                   0                0                   0                0   \n",
       "1                   0                0                   0                0   \n",
       "\n",
       "      year  \n",
       "0  2017-18  \n",
       "1  2017-18  \n",
       "\n",
       "[2 rows x 21 columns]"
      ]
     },
     "execution_count": 27,
     "metadata": {},
     "output_type": "execute_result"
    }
   ],
   "source": [
    "# check df_sat_2018_ca\n",
    "df_sat_2018_ca.head(n=2)"
   ]
  },
  {
   "cell_type": "code",
   "execution_count": 28,
   "metadata": {},
   "outputs": [
    {
     "data": {
      "text/html": [
       "<div>\n",
       "<style scoped>\n",
       "    .dataframe tbody tr th:only-of-type {\n",
       "        vertical-align: middle;\n",
       "    }\n",
       "\n",
       "    .dataframe tbody tr th {\n",
       "        vertical-align: top;\n",
       "    }\n",
       "\n",
       "    .dataframe thead th {\n",
       "        text-align: right;\n",
       "    }\n",
       "</style>\n",
       "<table border=\"1\" class=\"dataframe\">\n",
       "  <thead>\n",
       "    <tr style=\"text-align: right;\">\n",
       "      <th></th>\n",
       "      <th>CDS</th>\n",
       "      <th>CCode</th>\n",
       "      <th>CDCode</th>\n",
       "      <th>SCode</th>\n",
       "      <th>RType</th>\n",
       "      <th>SName</th>\n",
       "      <th>DName</th>\n",
       "      <th>CName</th>\n",
       "      <th>Enroll12</th>\n",
       "      <th>NumTSTTakr12</th>\n",
       "      <th>...</th>\n",
       "      <th>NumTSTTakr11</th>\n",
       "      <th>NumERWBenchmark11</th>\n",
       "      <th>PctERWBenchmark11</th>\n",
       "      <th>NumMathBenchmark11</th>\n",
       "      <th>PctMathBenchmark11</th>\n",
       "      <th>TotNumBothBenchmark12</th>\n",
       "      <th>PctBothBenchmark12</th>\n",
       "      <th>TotNumBothBenchmark11</th>\n",
       "      <th>PctBothBenchmark11</th>\n",
       "      <th>Year</th>\n",
       "    </tr>\n",
       "  </thead>\n",
       "  <tbody>\n",
       "    <tr>\n",
       "      <th>0</th>\n",
       "      <td>1.612000e+12</td>\n",
       "      <td>1</td>\n",
       "      <td>161200</td>\n",
       "      <td>133397</td>\n",
       "      <td>S</td>\n",
       "      <td>Granada High</td>\n",
       "      <td>Livermore Valley Joint Unified</td>\n",
       "      <td>Alameda</td>\n",
       "      <td>567</td>\n",
       "      <td>178</td>\n",
       "      <td>...</td>\n",
       "      <td>208</td>\n",
       "      <td>200</td>\n",
       "      <td>96.15</td>\n",
       "      <td>193</td>\n",
       "      <td>92.79</td>\n",
       "      <td>132</td>\n",
       "      <td>74.16</td>\n",
       "      <td>188</td>\n",
       "      <td>90.38</td>\n",
       "      <td>2018-19</td>\n",
       "    </tr>\n",
       "    <tr>\n",
       "      <th>1</th>\n",
       "      <td>1.612590e+12</td>\n",
       "      <td>1</td>\n",
       "      <td>161259</td>\n",
       "      <td>115386</td>\n",
       "      <td>S</td>\n",
       "      <td>Civicorps Corpsmember Academy</td>\n",
       "      <td>Oakland Unified</td>\n",
       "      <td>Alameda</td>\n",
       "      <td>60</td>\n",
       "      <td>0</td>\n",
       "      <td>...</td>\n",
       "      <td>0</td>\n",
       "      <td>NaN</td>\n",
       "      <td>NaN</td>\n",
       "      <td>NaN</td>\n",
       "      <td>NaN</td>\n",
       "      <td>NaN</td>\n",
       "      <td>NaN</td>\n",
       "      <td>NaN</td>\n",
       "      <td>NaN</td>\n",
       "      <td>2018-19</td>\n",
       "    </tr>\n",
       "  </tbody>\n",
       "</table>\n",
       "<p>2 rows × 25 columns</p>\n",
       "</div>"
      ],
      "text/plain": [
       "            CDS  CCode  CDCode   SCode RType                          SName  \\\n",
       "0  1.612000e+12      1  161200  133397     S                   Granada High   \n",
       "1  1.612590e+12      1  161259  115386     S  Civicorps Corpsmember Academy   \n",
       "\n",
       "                            DName    CName  Enroll12  NumTSTTakr12  ...  \\\n",
       "0  Livermore Valley Joint Unified  Alameda       567           178  ...   \n",
       "1                 Oakland Unified  Alameda        60             0  ...   \n",
       "\n",
       "  NumTSTTakr11 NumERWBenchmark11 PctERWBenchmark11 NumMathBenchmark11  \\\n",
       "0          208               200             96.15                193   \n",
       "1            0               NaN               NaN                NaN   \n",
       "\n",
       "   PctMathBenchmark11  TotNumBothBenchmark12 PctBothBenchmark12  \\\n",
       "0               92.79                    132              74.16   \n",
       "1                 NaN                    NaN                NaN   \n",
       "\n",
       "  TotNumBothBenchmark11 PctBothBenchmark11     Year  \n",
       "0                   188              90.38  2018-19  \n",
       "1                   NaN                NaN  2018-19  \n",
       "\n",
       "[2 rows x 25 columns]"
      ]
     },
     "execution_count": 28,
     "metadata": {},
     "output_type": "execute_result"
    }
   ],
   "source": [
    "# check df_sat_2019_ca\n",
    "df_sat_2019_ca.head(n=2)"
   ]
  },
  {
   "cell_type": "markdown",
   "metadata": {},
   "source": [
    "#### 1a. select certain column and filter to County level in the dataframe for EDA purpose"
   ]
  },
  {
   "cell_type": "code",
   "execution_count": 29,
   "metadata": {
    "scrolled": true
   },
   "outputs": [
    {
     "data": {
      "text/html": [
       "<div>\n",
       "<style scoped>\n",
       "    .dataframe tbody tr th:only-of-type {\n",
       "        vertical-align: middle;\n",
       "    }\n",
       "\n",
       "    .dataframe tbody tr th {\n",
       "        vertical-align: top;\n",
       "    }\n",
       "\n",
       "    .dataframe thead th {\n",
       "        text-align: right;\n",
       "    }\n",
       "</style>\n",
       "<table border=\"1\" class=\"dataframe\">\n",
       "  <thead>\n",
       "    <tr style=\"text-align: right;\">\n",
       "      <th></th>\n",
       "      <th>rtype</th>\n",
       "      <th>cname</th>\n",
       "      <th>PctElaBenchmark</th>\n",
       "      <th>PctMathBenchmark</th>\n",
       "      <th>PctBothBenchmark</th>\n",
       "    </tr>\n",
       "  </thead>\n",
       "  <tbody>\n",
       "    <tr>\n",
       "      <th>0</th>\n",
       "      <td>S</td>\n",
       "      <td>Alameda</td>\n",
       "      <td>11.54</td>\n",
       "      <td>0</td>\n",
       "      <td>0</td>\n",
       "    </tr>\n",
       "    <tr>\n",
       "      <th>1</th>\n",
       "      <td>S</td>\n",
       "      <td>Alameda</td>\n",
       "      <td>35.48</td>\n",
       "      <td>3.23</td>\n",
       "      <td>0</td>\n",
       "    </tr>\n",
       "  </tbody>\n",
       "</table>\n",
       "</div>"
      ],
      "text/plain": [
       "  rtype    cname PctElaBenchmark PctMathBenchmark PctBothBenchmark\n",
       "0     S  Alameda           11.54                0                0\n",
       "1     S  Alameda           35.48             3.23                0"
      ]
     },
     "execution_count": 29,
     "metadata": {},
     "output_type": "execute_result"
    }
   ],
   "source": [
    "# select certain columns in df_sat_2017_ca as dataframe uses\n",
    "\n",
    "df_sat2017_ca = df_sat_2017_ca[['rtype','cname','PctElaBenchmark','PctMathBenchmark','PctBothBenchmark']]\n",
    "df_sat2017_ca.head(2)\n"
   ]
  },
  {
   "cell_type": "code",
   "execution_count": 30,
   "metadata": {
    "scrolled": true
   },
   "outputs": [
    {
     "data": {
      "text/html": [
       "<div>\n",
       "<style scoped>\n",
       "    .dataframe tbody tr th:only-of-type {\n",
       "        vertical-align: middle;\n",
       "    }\n",
       "\n",
       "    .dataframe tbody tr th {\n",
       "        vertical-align: top;\n",
       "    }\n",
       "\n",
       "    .dataframe thead th {\n",
       "        text-align: right;\n",
       "    }\n",
       "</style>\n",
       "<table border=\"1\" class=\"dataframe\">\n",
       "  <thead>\n",
       "    <tr style=\"text-align: right;\">\n",
       "      <th></th>\n",
       "      <th>rtype</th>\n",
       "      <th>cname</th>\n",
       "      <th>PctElaBenchmark</th>\n",
       "      <th>PctMathBenchmark</th>\n",
       "      <th>PctBothBenchmark</th>\n",
       "    </tr>\n",
       "  </thead>\n",
       "  <tbody>\n",
       "    <tr>\n",
       "      <th>466</th>\n",
       "      <td>C</td>\n",
       "      <td>Alameda</td>\n",
       "      <td>75.12</td>\n",
       "      <td>59.48</td>\n",
       "      <td>57.01</td>\n",
       "    </tr>\n",
       "    <tr>\n",
       "      <th>534</th>\n",
       "      <td>C</td>\n",
       "      <td>Alpine</td>\n",
       "      <td>NaN</td>\n",
       "      <td>NaN</td>\n",
       "      <td>NaN</td>\n",
       "    </tr>\n",
       "  </tbody>\n",
       "</table>\n",
       "</div>"
      ],
      "text/plain": [
       "    rtype    cname PctElaBenchmark PctMathBenchmark PctBothBenchmark\n",
       "466     C  Alameda           75.12            59.48            57.01\n",
       "534     C   Alpine             NaN              NaN              NaN"
      ]
     },
     "execution_count": 30,
     "metadata": {},
     "output_type": "execute_result"
    }
   ],
   "source": [
    "# fileter the df_sat2017_ca_new to county level \n",
    "\n",
    "df_sat2017_ca_new = df_sat2017_ca.loc[(df_sat2017_ca.rtype == 'C'), : ]\n",
    "df_sat2017_ca_new.head(2)"
   ]
  },
  {
   "cell_type": "code",
   "execution_count": 31,
   "metadata": {},
   "outputs": [
    {
     "data": {
      "text/html": [
       "<div>\n",
       "<style scoped>\n",
       "    .dataframe tbody tr th:only-of-type {\n",
       "        vertical-align: middle;\n",
       "    }\n",
       "\n",
       "    .dataframe tbody tr th {\n",
       "        vertical-align: top;\n",
       "    }\n",
       "\n",
       "    .dataframe thead th {\n",
       "        text-align: right;\n",
       "    }\n",
       "</style>\n",
       "<table border=\"1\" class=\"dataframe\">\n",
       "  <thead>\n",
       "    <tr style=\"text-align: right;\">\n",
       "      <th></th>\n",
       "      <th>rtype</th>\n",
       "      <th>cname</th>\n",
       "      <th>PctElaBenchmark</th>\n",
       "      <th>PctMathBenchmark</th>\n",
       "      <th>PctBothBenchmark</th>\n",
       "    </tr>\n",
       "  </thead>\n",
       "  <tbody>\n",
       "    <tr>\n",
       "      <th>0</th>\n",
       "      <td>S</td>\n",
       "      <td>Los Angeles</td>\n",
       "      <td>7.25</td>\n",
       "      <td>0</td>\n",
       "      <td>0</td>\n",
       "    </tr>\n",
       "    <tr>\n",
       "      <th>1</th>\n",
       "      <td>S</td>\n",
       "      <td>Los Angeles</td>\n",
       "      <td>10.81</td>\n",
       "      <td>0</td>\n",
       "      <td>0</td>\n",
       "    </tr>\n",
       "  </tbody>\n",
       "</table>\n",
       "</div>"
      ],
      "text/plain": [
       "  rtype        cname PctElaBenchmark PctMathBenchmark PctBothBenchmark\n",
       "0     S  Los Angeles            7.25                0                0\n",
       "1     S  Los Angeles           10.81                0                0"
      ]
     },
     "execution_count": 31,
     "metadata": {},
     "output_type": "execute_result"
    }
   ],
   "source": [
    "# select certain columns in df_sat_2018_ca as dataframe uses\n",
    "\n",
    "df_sat2018_ca = df_sat_2018_ca[['rtype','cname','PctElaBenchmark','PctMathBenchmark','PctBothBenchmark']]\n",
    "df_sat2018_ca.head(2)"
   ]
  },
  {
   "cell_type": "code",
   "execution_count": 32,
   "metadata": {},
   "outputs": [
    {
     "data": {
      "text/html": [
       "<div>\n",
       "<style scoped>\n",
       "    .dataframe tbody tr th:only-of-type {\n",
       "        vertical-align: middle;\n",
       "    }\n",
       "\n",
       "    .dataframe tbody tr th {\n",
       "        vertical-align: top;\n",
       "    }\n",
       "\n",
       "    .dataframe thead th {\n",
       "        text-align: right;\n",
       "    }\n",
       "</style>\n",
       "<table border=\"1\" class=\"dataframe\">\n",
       "  <thead>\n",
       "    <tr style=\"text-align: right;\">\n",
       "      <th></th>\n",
       "      <th>rtype</th>\n",
       "      <th>cname</th>\n",
       "      <th>PctElaBenchmark</th>\n",
       "      <th>PctMathBenchmark</th>\n",
       "      <th>PctBothBenchmark</th>\n",
       "    </tr>\n",
       "  </thead>\n",
       "  <tbody>\n",
       "    <tr>\n",
       "      <th>513</th>\n",
       "      <td>C</td>\n",
       "      <td>Alameda</td>\n",
       "      <td>76.93</td>\n",
       "      <td>61.68</td>\n",
       "      <td>59.47</td>\n",
       "    </tr>\n",
       "    <tr>\n",
       "      <th>542</th>\n",
       "      <td>C</td>\n",
       "      <td>Alpine</td>\n",
       "      <td>NaN</td>\n",
       "      <td>NaN</td>\n",
       "      <td>NaN</td>\n",
       "    </tr>\n",
       "  </tbody>\n",
       "</table>\n",
       "</div>"
      ],
      "text/plain": [
       "    rtype    cname PctElaBenchmark PctMathBenchmark PctBothBenchmark\n",
       "513     C  Alameda           76.93            61.68            59.47\n",
       "542     C   Alpine             NaN              NaN              NaN"
      ]
     },
     "execution_count": 32,
     "metadata": {},
     "output_type": "execute_result"
    }
   ],
   "source": [
    "# fileter the df_sat2018_ca_new to county level \n",
    "\n",
    "df_sat2018_ca_new = df_sat2018_ca.loc[(df_sat2018_ca.rtype == 'C'), : ]\n",
    "df_sat2018_ca_new.head(2)"
   ]
  },
  {
   "cell_type": "code",
   "execution_count": 33,
   "metadata": {},
   "outputs": [
    {
     "data": {
      "text/html": [
       "<div>\n",
       "<style scoped>\n",
       "    .dataframe tbody tr th:only-of-type {\n",
       "        vertical-align: middle;\n",
       "    }\n",
       "\n",
       "    .dataframe tbody tr th {\n",
       "        vertical-align: top;\n",
       "    }\n",
       "\n",
       "    .dataframe thead th {\n",
       "        text-align: right;\n",
       "    }\n",
       "</style>\n",
       "<table border=\"1\" class=\"dataframe\">\n",
       "  <thead>\n",
       "    <tr style=\"text-align: right;\">\n",
       "      <th></th>\n",
       "      <th>RType</th>\n",
       "      <th>CName</th>\n",
       "      <th>PctERWBenchmark12</th>\n",
       "      <th>PctMathBenchmark12</th>\n",
       "      <th>PctBothBenchmark12</th>\n",
       "    </tr>\n",
       "  </thead>\n",
       "  <tbody>\n",
       "    <tr>\n",
       "      <th>0</th>\n",
       "      <td>S</td>\n",
       "      <td>Alameda</td>\n",
       "      <td>88.2</td>\n",
       "      <td>80.34</td>\n",
       "      <td>74.16</td>\n",
       "    </tr>\n",
       "    <tr>\n",
       "      <th>1</th>\n",
       "      <td>S</td>\n",
       "      <td>Alameda</td>\n",
       "      <td>NaN</td>\n",
       "      <td>NaN</td>\n",
       "      <td>NaN</td>\n",
       "    </tr>\n",
       "  </tbody>\n",
       "</table>\n",
       "</div>"
      ],
      "text/plain": [
       "  RType    CName PctERWBenchmark12 PctMathBenchmark12 PctBothBenchmark12\n",
       "0     S  Alameda              88.2              80.34              74.16\n",
       "1     S  Alameda               NaN                NaN                NaN"
      ]
     },
     "execution_count": 33,
     "metadata": {},
     "output_type": "execute_result"
    }
   ],
   "source": [
    "# select certain columns in df_sat_2019_ca as dataframe uses\n",
    "\n",
    "df_sat2019_ca = df_sat_2019_ca[['RType','CName','PctERWBenchmark12','PctMathBenchmark12','PctBothBenchmark12']]\n",
    "df_sat2019_ca.head(2)"
   ]
  },
  {
   "cell_type": "code",
   "execution_count": 34,
   "metadata": {
    "scrolled": true
   },
   "outputs": [
    {
     "data": {
      "text/html": [
       "<div>\n",
       "<style scoped>\n",
       "    .dataframe tbody tr th:only-of-type {\n",
       "        vertical-align: middle;\n",
       "    }\n",
       "\n",
       "    .dataframe tbody tr th {\n",
       "        vertical-align: top;\n",
       "    }\n",
       "\n",
       "    .dataframe thead th {\n",
       "        text-align: right;\n",
       "    }\n",
       "</style>\n",
       "<table border=\"1\" class=\"dataframe\">\n",
       "  <thead>\n",
       "    <tr style=\"text-align: right;\">\n",
       "      <th></th>\n",
       "      <th>RType</th>\n",
       "      <th>CName</th>\n",
       "      <th>PctERWBenchmark12</th>\n",
       "      <th>PctMathBenchmark12</th>\n",
       "      <th>PctBothBenchmark12</th>\n",
       "    </tr>\n",
       "  </thead>\n",
       "  <tbody>\n",
       "    <tr>\n",
       "      <th>76</th>\n",
       "      <td>C</td>\n",
       "      <td>Alameda</td>\n",
       "      <td>76.79</td>\n",
       "      <td>60.93</td>\n",
       "      <td>58.16</td>\n",
       "    </tr>\n",
       "    <tr>\n",
       "      <th>94</th>\n",
       "      <td>C</td>\n",
       "      <td>Alpine</td>\n",
       "      <td>NaN</td>\n",
       "      <td>NaN</td>\n",
       "      <td>NaN</td>\n",
       "    </tr>\n",
       "  </tbody>\n",
       "</table>\n",
       "</div>"
      ],
      "text/plain": [
       "   RType    CName PctERWBenchmark12 PctMathBenchmark12 PctBothBenchmark12\n",
       "76     C  Alameda             76.79              60.93              58.16\n",
       "94     C   Alpine               NaN                NaN                NaN"
      ]
     },
     "execution_count": 34,
     "metadata": {},
     "output_type": "execute_result"
    }
   ],
   "source": [
    "# fileter the df_sat2019_ca_new to county level \n",
    "\n",
    "df_sat2019_ca_new = df_sat2019_ca.loc[(df_sat2019_ca.RType == 'C'), : ]\n",
    "df_sat2019_ca_new.head(2)"
   ]
  },
  {
   "cell_type": "markdown",
   "metadata": {},
   "source": [
    "#### 2. Check for missing values."
   ]
  },
  {
   "cell_type": "code",
   "execution_count": 35,
   "metadata": {},
   "outputs": [
    {
     "data": {
      "text/plain": [
       "rtype               0\n",
       "cname               0\n",
       "PctElaBenchmark     1\n",
       "PctMathBenchmark    1\n",
       "PctBothBenchmark    1\n",
       "dtype: int64"
      ]
     },
     "execution_count": 35,
     "metadata": {},
     "output_type": "execute_result"
    }
   ],
   "source": [
    "# check missing value for df_sat2017_ca_new\n",
    "df_sat2017_ca_new.isnull().sum()\n"
   ]
  },
  {
   "cell_type": "code",
   "execution_count": 36,
   "metadata": {},
   "outputs": [
    {
     "data": {
      "text/plain": [
       "rtype               0\n",
       "cname               0\n",
       "PctElaBenchmark     1\n",
       "PctMathBenchmark    1\n",
       "PctBothBenchmark    1\n",
       "dtype: int64"
      ]
     },
     "execution_count": 36,
     "metadata": {},
     "output_type": "execute_result"
    }
   ],
   "source": [
    "# check missing value for df_sat2018_ca_new\n",
    "df_sat2018_ca_new.isnull().sum()"
   ]
  },
  {
   "cell_type": "code",
   "execution_count": 37,
   "metadata": {},
   "outputs": [
    {
     "data": {
      "text/plain": [
       "RType                 0\n",
       "CName                 0\n",
       "PctERWBenchmark12     1\n",
       "PctMathBenchmark12    1\n",
       "PctBothBenchmark12    1\n",
       "dtype: int64"
      ]
     },
     "execution_count": 37,
     "metadata": {},
     "output_type": "execute_result"
    }
   ],
   "source": [
    "# check missing value for df_sat2019_ca_new\n",
    "df_sat2019_ca_new.isnull().sum()"
   ]
  },
  {
   "cell_type": "code",
   "execution_count": 38,
   "metadata": {
    "scrolled": true
   },
   "outputs": [
    {
     "data": {
      "text/plain": [
       "array(['59.48', nan, '74.04', '66.62', '71.21', '42.61', '56.61', '70.49',\n",
       "       '81.78', '34.11', '34.62', '63.33', '45.45', '38.74', '42.18',\n",
       "       '35.97', '43.14', '53.68', '41.7', '31.66', '70.83', '71.05',\n",
       "       '53.47', '36.08', '59.46', '58', '41.03', '51.95', '72.95',\n",
       "       '61.97', '68.12', '39.61', '52.66', '50.71', '43.63', '60.36',\n",
       "       '61.66', '47.85', '67.63', '70.48', '60.52', '69.67', '59.28',\n",
       "       '74.17', '*', '55.09', '54.49', '64.9', '45.93', '56.87', '51.72',\n",
       "       '46.34', '40.15', '73.39', '62.83', '66.86', '56.88'], dtype=object)"
      ]
     },
     "execution_count": 38,
     "metadata": {},
     "output_type": "execute_result"
    }
   ],
   "source": [
    "# to check the unique\n",
    "df_sat2017_ca_new['PctMathBenchmark'].unique()\n",
    "\n",
    "# there is \"*\" and 'nan' found in the dataset"
   ]
  },
  {
   "cell_type": "markdown",
   "metadata": {},
   "source": [
    "#### 3. Check for any obvious issues with the observations (keep in mind the minimum & maximum possible values for each test/subtest)"
   ]
  },
  {
   "cell_type": "markdown",
   "metadata": {},
   "source": [
    "Not applicable"
   ]
  },
  {
   "cell_type": "markdown",
   "metadata": {},
   "source": [
    "#### 4. Fix any errors you identified in steps 2-3."
   ]
  },
  {
   "cell_type": "code",
   "execution_count": 39,
   "metadata": {
    "scrolled": true
   },
   "outputs": [
    {
     "name": "stdout",
     "output_type": "stream",
     "text": [
      "*\n",
      "*\n",
      "*\n",
      "*\n",
      "*\n",
      "*\n",
      "*\n",
      "*\n",
      "*\n",
      "*\n",
      "*\n",
      "*\n"
     ]
    },
    {
     "name": "stderr",
     "output_type": "stream",
     "text": [
      "<ipython-input-39-577885b9371f>:12: SettingWithCopyWarning: \n",
      "A value is trying to be set on a copy of a slice from a DataFrame.\n",
      "Try using .loc[row_indexer,col_indexer] = value instead\n",
      "\n",
      "See the caveats in the documentation: https://pandas.pydata.org/pandas-docs/stable/user_guide/indexing.html#returning-a-view-versus-a-copy\n",
      "  df_sat2017_ca_new['PctElaBenchmark'] = df_sat2017_ca_new['PctElaBenchmark'].apply(change_to_nan2)\n",
      "<ipython-input-39-577885b9371f>:13: SettingWithCopyWarning: \n",
      "A value is trying to be set on a copy of a slice from a DataFrame.\n",
      "Try using .loc[row_indexer,col_indexer] = value instead\n",
      "\n",
      "See the caveats in the documentation: https://pandas.pydata.org/pandas-docs/stable/user_guide/indexing.html#returning-a-view-versus-a-copy\n",
      "  df_sat2017_ca_new['PctMathBenchmark'] = df_sat2017_ca_new['PctMathBenchmark'].apply(change_to_nan2)\n",
      "<ipython-input-39-577885b9371f>:14: SettingWithCopyWarning: \n",
      "A value is trying to be set on a copy of a slice from a DataFrame.\n",
      "Try using .loc[row_indexer,col_indexer] = value instead\n",
      "\n",
      "See the caveats in the documentation: https://pandas.pydata.org/pandas-docs/stable/user_guide/indexing.html#returning-a-view-versus-a-copy\n",
      "  df_sat2017_ca_new['PctBothBenchmark'] = df_sat2017_ca_new['PctBothBenchmark'].apply(change_to_nan2)\n",
      "<ipython-input-39-577885b9371f>:16: SettingWithCopyWarning: \n",
      "A value is trying to be set on a copy of a slice from a DataFrame.\n",
      "Try using .loc[row_indexer,col_indexer] = value instead\n",
      "\n",
      "See the caveats in the documentation: https://pandas.pydata.org/pandas-docs/stable/user_guide/indexing.html#returning-a-view-versus-a-copy\n",
      "  df_sat2018_ca_new['PctElaBenchmark'] = df_sat2018_ca_new['PctElaBenchmark'].apply(change_to_nan2)\n",
      "<ipython-input-39-577885b9371f>:17: SettingWithCopyWarning: \n",
      "A value is trying to be set on a copy of a slice from a DataFrame.\n",
      "Try using .loc[row_indexer,col_indexer] = value instead\n",
      "\n",
      "See the caveats in the documentation: https://pandas.pydata.org/pandas-docs/stable/user_guide/indexing.html#returning-a-view-versus-a-copy\n",
      "  df_sat2018_ca_new['PctMathBenchmark'] = df_sat2018_ca_new['PctMathBenchmark'].apply(change_to_nan2)\n",
      "<ipython-input-39-577885b9371f>:18: SettingWithCopyWarning: \n",
      "A value is trying to be set on a copy of a slice from a DataFrame.\n",
      "Try using .loc[row_indexer,col_indexer] = value instead\n",
      "\n",
      "See the caveats in the documentation: https://pandas.pydata.org/pandas-docs/stable/user_guide/indexing.html#returning-a-view-versus-a-copy\n",
      "  df_sat2018_ca_new['PctBothBenchmark'] = df_sat2018_ca_new['PctBothBenchmark'].apply(change_to_nan2)\n",
      "<ipython-input-39-577885b9371f>:20: SettingWithCopyWarning: \n",
      "A value is trying to be set on a copy of a slice from a DataFrame.\n",
      "Try using .loc[row_indexer,col_indexer] = value instead\n",
      "\n",
      "See the caveats in the documentation: https://pandas.pydata.org/pandas-docs/stable/user_guide/indexing.html#returning-a-view-versus-a-copy\n",
      "  df_sat2019_ca_new['PctERWBenchmark12'] = df_sat2019_ca_new['PctERWBenchmark12'].apply(change_to_nan2)\n",
      "<ipython-input-39-577885b9371f>:21: SettingWithCopyWarning: \n",
      "A value is trying to be set on a copy of a slice from a DataFrame.\n",
      "Try using .loc[row_indexer,col_indexer] = value instead\n",
      "\n",
      "See the caveats in the documentation: https://pandas.pydata.org/pandas-docs/stable/user_guide/indexing.html#returning-a-view-versus-a-copy\n",
      "  df_sat2019_ca_new['PctMathBenchmark12']= df_sat2019_ca_new['PctMathBenchmark12'].apply(change_to_nan2)\n",
      "<ipython-input-39-577885b9371f>:22: SettingWithCopyWarning: \n",
      "A value is trying to be set on a copy of a slice from a DataFrame.\n",
      "Try using .loc[row_indexer,col_indexer] = value instead\n",
      "\n",
      "See the caveats in the documentation: https://pandas.pydata.org/pandas-docs/stable/user_guide/indexing.html#returning-a-view-versus-a-copy\n",
      "  df_sat2019_ca_new['PctBothBenchmark12'] = df_sat2019_ca_new['PctBothBenchmark12'].apply(change_to_nan2)\n"
     ]
    }
   ],
   "source": [
    "# to change the * to nan\n",
    "def change_to_nan2 (value):\n",
    "    if value == '*':\n",
    "        print (value)\n",
    "        return np.nan\n",
    "    if value == 'nan':\n",
    "        print (value)\n",
    "        return np.nan\n",
    "    else:\n",
    "        return value\n",
    "\n",
    "df_sat2017_ca_new['PctElaBenchmark'] = df_sat2017_ca_new['PctElaBenchmark'].apply(change_to_nan2)  \n",
    "df_sat2017_ca_new['PctMathBenchmark'] = df_sat2017_ca_new['PctMathBenchmark'].apply(change_to_nan2)\n",
    "df_sat2017_ca_new['PctBothBenchmark'] = df_sat2017_ca_new['PctBothBenchmark'].apply(change_to_nan2)\n",
    "\n",
    "df_sat2018_ca_new['PctElaBenchmark'] = df_sat2018_ca_new['PctElaBenchmark'].apply(change_to_nan2)\n",
    "df_sat2018_ca_new['PctMathBenchmark'] = df_sat2018_ca_new['PctMathBenchmark'].apply(change_to_nan2)\n",
    "df_sat2018_ca_new['PctBothBenchmark'] = df_sat2018_ca_new['PctBothBenchmark'].apply(change_to_nan2)\n",
    "\n",
    "df_sat2019_ca_new['PctERWBenchmark12'] = df_sat2019_ca_new['PctERWBenchmark12'].apply(change_to_nan2)\n",
    "df_sat2019_ca_new['PctMathBenchmark12']= df_sat2019_ca_new['PctMathBenchmark12'].apply(change_to_nan2)\n",
    "df_sat2019_ca_new['PctBothBenchmark12'] = df_sat2019_ca_new['PctBothBenchmark12'].apply(change_to_nan2)"
   ]
  },
  {
   "cell_type": "markdown",
   "metadata": {},
   "source": [
    "#### 5. Display the data types of each feature"
   ]
  },
  {
   "cell_type": "code",
   "execution_count": 40,
   "metadata": {},
   "outputs": [
    {
     "name": "stdout",
     "output_type": "stream",
     "text": [
      "df_sat2017_ca_new(DataType):\n",
      "\n",
      "rtype               object\n",
      "cname               object\n",
      "PctElaBenchmark     object\n",
      "PctMathBenchmark    object\n",
      "PctBothBenchmark    object\n",
      "dtype: object\n",
      "\n",
      "df_sat2018_ca_new(DataType):\n",
      "\n",
      "rtype               object\n",
      "cname               object\n",
      "PctElaBenchmark     object\n",
      "PctMathBenchmark    object\n",
      "PctBothBenchmark    object\n",
      "dtype: object\n",
      "\n",
      "df_sat2019_ca_new(DataType):\n",
      "\n",
      "RType                 object\n",
      "CName                 object\n",
      "PctERWBenchmark12     object\n",
      "PctMathBenchmark12    object\n",
      "PctBothBenchmark12    object\n",
      "dtype: object\n",
      "\n"
     ]
    }
   ],
   "source": [
    "# check the Dtype\n",
    "print('df_sat2017_ca_new(DataType):\\n')\n",
    "print(df_sat2017_ca_new.dtypes)\n",
    "print('')\n",
    "print('df_sat2018_ca_new(DataType):\\n')\n",
    "print(df_sat2018_ca_new.dtypes)\n",
    "print('')\n",
    "print('df_sat2019_ca_new(DataType):\\n')\n",
    "print(df_sat2019_ca_new.dtypes)\n",
    "print('')"
   ]
  },
  {
   "cell_type": "markdown",
   "metadata": {},
   "source": [
    "#### 6.Fix any incorrect data types found in step 5.\n",
    "*  Fix any individual values preventing other columns from being the appropriate type.\n",
    "*  If your dataset has a column of percents (ex. '50%', '30.5%', etc.), use the function you wrote in Part 1 (coding challenges, number 3) to convert this to floats! Hint: use .map() or .apply()."
   ]
  },
  {
   "cell_type": "code",
   "execution_count": 41,
   "metadata": {
    "scrolled": true
   },
   "outputs": [
    {
     "name": "stderr",
     "output_type": "stream",
     "text": [
      "<ipython-input-41-fe5109706f44>:1: SettingWithCopyWarning: \n",
      "A value is trying to be set on a copy of a slice from a DataFrame.\n",
      "Try using .loc[row_indexer,col_indexer] = value instead\n",
      "\n",
      "See the caveats in the documentation: https://pandas.pydata.org/pandas-docs/stable/user_guide/indexing.html#returning-a-view-versus-a-copy\n",
      "  df_sat2017_ca_new['PctElaBenchmark'] = df_sat2017_ca_new['PctElaBenchmark'].apply(percent_str_to_float)\n",
      "<ipython-input-41-fe5109706f44>:2: SettingWithCopyWarning: \n",
      "A value is trying to be set on a copy of a slice from a DataFrame.\n",
      "Try using .loc[row_indexer,col_indexer] = value instead\n",
      "\n",
      "See the caveats in the documentation: https://pandas.pydata.org/pandas-docs/stable/user_guide/indexing.html#returning-a-view-versus-a-copy\n",
      "  df_sat2017_ca_new['PctMathBenchmark'] = df_sat2017_ca_new['PctMathBenchmark'].apply(percent_str_to_float)\n",
      "<ipython-input-41-fe5109706f44>:3: SettingWithCopyWarning: \n",
      "A value is trying to be set on a copy of a slice from a DataFrame.\n",
      "Try using .loc[row_indexer,col_indexer] = value instead\n",
      "\n",
      "See the caveats in the documentation: https://pandas.pydata.org/pandas-docs/stable/user_guide/indexing.html#returning-a-view-versus-a-copy\n",
      "  df_sat2017_ca_new['PctBothBenchmark'] = df_sat2017_ca_new['PctBothBenchmark'].apply(percent_str_to_float)\n",
      "<ipython-input-41-fe5109706f44>:5: SettingWithCopyWarning: \n",
      "A value is trying to be set on a copy of a slice from a DataFrame.\n",
      "Try using .loc[row_indexer,col_indexer] = value instead\n",
      "\n",
      "See the caveats in the documentation: https://pandas.pydata.org/pandas-docs/stable/user_guide/indexing.html#returning-a-view-versus-a-copy\n",
      "  df_sat2018_ca_new['PctElaBenchmark'] = df_sat2018_ca_new['PctElaBenchmark'].apply(percent_str_to_float)\n",
      "<ipython-input-41-fe5109706f44>:6: SettingWithCopyWarning: \n",
      "A value is trying to be set on a copy of a slice from a DataFrame.\n",
      "Try using .loc[row_indexer,col_indexer] = value instead\n",
      "\n",
      "See the caveats in the documentation: https://pandas.pydata.org/pandas-docs/stable/user_guide/indexing.html#returning-a-view-versus-a-copy\n",
      "  df_sat2018_ca_new['PctMathBenchmark'] = df_sat2018_ca_new['PctMathBenchmark'].apply(percent_str_to_float)\n",
      "<ipython-input-41-fe5109706f44>:7: SettingWithCopyWarning: \n",
      "A value is trying to be set on a copy of a slice from a DataFrame.\n",
      "Try using .loc[row_indexer,col_indexer] = value instead\n",
      "\n",
      "See the caveats in the documentation: https://pandas.pydata.org/pandas-docs/stable/user_guide/indexing.html#returning-a-view-versus-a-copy\n",
      "  df_sat2018_ca_new['PctBothBenchmark'] = df_sat2018_ca_new['PctBothBenchmark'].apply(percent_str_to_float)\n",
      "<ipython-input-41-fe5109706f44>:9: SettingWithCopyWarning: \n",
      "A value is trying to be set on a copy of a slice from a DataFrame.\n",
      "Try using .loc[row_indexer,col_indexer] = value instead\n",
      "\n",
      "See the caveats in the documentation: https://pandas.pydata.org/pandas-docs/stable/user_guide/indexing.html#returning-a-view-versus-a-copy\n",
      "  df_sat2019_ca_new['PctERWBenchmark12'] = df_sat2019_ca_new['PctERWBenchmark12'].apply(percent_str_to_float)\n",
      "<ipython-input-41-fe5109706f44>:10: SettingWithCopyWarning: \n",
      "A value is trying to be set on a copy of a slice from a DataFrame.\n",
      "Try using .loc[row_indexer,col_indexer] = value instead\n",
      "\n",
      "See the caveats in the documentation: https://pandas.pydata.org/pandas-docs/stable/user_guide/indexing.html#returning-a-view-versus-a-copy\n",
      "  df_sat2019_ca_new['PctMathBenchmark12'] = df_sat2019_ca_new['PctMathBenchmark12'].apply(percent_str_to_float)\n",
      "<ipython-input-41-fe5109706f44>:11: SettingWithCopyWarning: \n",
      "A value is trying to be set on a copy of a slice from a DataFrame.\n",
      "Try using .loc[row_indexer,col_indexer] = value instead\n",
      "\n",
      "See the caveats in the documentation: https://pandas.pydata.org/pandas-docs/stable/user_guide/indexing.html#returning-a-view-versus-a-copy\n",
      "  df_sat2019_ca_new['PctBothBenchmark12'] = df_sat2019_ca_new['PctBothBenchmark12'].apply(percent_str_to_float)\n"
     ]
    }
   ],
   "source": [
    "df_sat2017_ca_new['PctElaBenchmark'] = df_sat2017_ca_new['PctElaBenchmark'].apply(percent_str_to_float)\n",
    "df_sat2017_ca_new['PctMathBenchmark'] = df_sat2017_ca_new['PctMathBenchmark'].apply(percent_str_to_float)\n",
    "df_sat2017_ca_new['PctBothBenchmark'] = df_sat2017_ca_new['PctBothBenchmark'].apply(percent_str_to_float)\n",
    "\n",
    "df_sat2018_ca_new['PctElaBenchmark'] = df_sat2018_ca_new['PctElaBenchmark'].apply(percent_str_to_float)\n",
    "df_sat2018_ca_new['PctMathBenchmark'] = df_sat2018_ca_new['PctMathBenchmark'].apply(percent_str_to_float)\n",
    "df_sat2018_ca_new['PctBothBenchmark'] = df_sat2018_ca_new['PctBothBenchmark'].apply(percent_str_to_float)\n",
    "\n",
    "df_sat2019_ca_new['PctERWBenchmark12'] = df_sat2019_ca_new['PctERWBenchmark12'].apply(percent_str_to_float)\n",
    "df_sat2019_ca_new['PctMathBenchmark12'] = df_sat2019_ca_new['PctMathBenchmark12'].apply(percent_str_to_float)\n",
    "df_sat2019_ca_new['PctBothBenchmark12'] = df_sat2019_ca_new['PctBothBenchmark12'].apply(percent_str_to_float)"
   ]
  },
  {
   "cell_type": "code",
   "execution_count": 42,
   "metadata": {},
   "outputs": [
    {
     "name": "stdout",
     "output_type": "stream",
     "text": [
      "df_sat2017_ca_new(DataType):\n",
      "\n",
      "rtype                object\n",
      "cname                object\n",
      "PctElaBenchmark     float64\n",
      "PctMathBenchmark    float64\n",
      "PctBothBenchmark    float64\n",
      "dtype: object\n",
      "\n",
      "df_sat2018_ca_new(DataType):\n",
      "\n",
      "rtype                object\n",
      "cname                object\n",
      "PctElaBenchmark     float64\n",
      "PctMathBenchmark    float64\n",
      "PctBothBenchmark    float64\n",
      "dtype: object\n",
      "\n",
      "df_sat2019_ca_new(DataType):\n",
      "\n",
      "RType                  object\n",
      "CName                  object\n",
      "PctERWBenchmark12     float64\n",
      "PctMathBenchmark12    float64\n",
      "PctBothBenchmark12    float64\n",
      "dtype: object\n",
      "\n"
     ]
    }
   ],
   "source": [
    "# check the Dtype\n",
    "print('df_sat2017_ca_new(DataType):\\n')\n",
    "print(df_sat2017_ca_new.dtypes)\n",
    "print('')\n",
    "print('df_sat2018_ca_new(DataType):\\n')\n",
    "print(df_sat2018_ca_new.dtypes)\n",
    "print('')\n",
    "print('df_sat2019_ca_new(DataType):\\n')\n",
    "print(df_sat2019_ca_new.dtypes)\n",
    "print('')"
   ]
  },
  {
   "cell_type": "markdown",
   "metadata": {},
   "source": [
    "#### 7. Rename Columns.\n",
    "*  Column names should be all lowercase.\n",
    "*  Column names should not contain spaces (underscores will suffice--this allows for using the df.column_name method to access *  columns in addition to df['column_name']).\n",
    "*  Column names should be unique and informative."
   ]
  },
  {
   "cell_type": "code",
   "execution_count": 43,
   "metadata": {},
   "outputs": [],
   "source": [
    "# rename column names to lowercase\n",
    "df_sat2017_ca_new.columns = map(str.lower, df_sat2017_ca_new.columns)"
   ]
  },
  {
   "cell_type": "code",
   "execution_count": 44,
   "metadata": {},
   "outputs": [],
   "source": [
    "df_sat2018_ca_new.columns = map(str.lower, df_sat2018_ca_new.columns)"
   ]
  },
  {
   "cell_type": "code",
   "execution_count": 45,
   "metadata": {},
   "outputs": [],
   "source": [
    "df_sat2019_ca_new.columns = map(str.lower, df_sat2019_ca_new.columns)"
   ]
  },
  {
   "cell_type": "code",
   "execution_count": 46,
   "metadata": {},
   "outputs": [],
   "source": [
    "# rename columns with long names\n",
    "df_sat2017_ca_new = df_sat2017_ca_new.rename(columns={'pctelabenchmark':'pcterwben'})\n",
    "df_sat2017_ca_new = df_sat2017_ca_new.rename(columns={'pctmathbenchmark':'pctmathben'})\n",
    "df_sat2017_ca_new = df_sat2017_ca_new.rename(columns={'pctbothbenchmark':'pctbothben'})\n",
    "\n",
    "df_sat2018_ca_new = df_sat2018_ca_new.rename(columns={'pctelabenchmark':'pcterwben'})\n",
    "df_sat2018_ca_new = df_sat2018_ca_new.rename(columns={'pctmathbenchmark':'pctmathben'})\n",
    "df_sat2018_ca_new = df_sat2018_ca_new.rename(columns={'pctbothbenchmark':'pctbothben'})\n",
    "\n",
    "\n",
    "df_sat2019_ca_new = df_sat2019_ca_new.rename(columns={'numtsttakr12':'numtsttakr'})\n",
    "df_sat2019_ca_new = df_sat2019_ca_new.rename(columns={'pcterwbenchmark12':'pcterwben'})\n",
    "df_sat2019_ca_new = df_sat2019_ca_new.rename(columns={'pctmathbenchmark12':'pctmathben'})\n",
    "df_sat2019_ca_new = df_sat2019_ca_new.rename(columns={'pctbothbenchmark12':'pctbothben'})"
   ]
  },
  {
   "cell_type": "code",
   "execution_count": 47,
   "metadata": {
    "scrolled": true
   },
   "outputs": [],
   "source": [
    "# add column year\n",
    "df_sat2017_ca_new ['year'] = 2017\n",
    "df_sat2018_ca_new ['year'] = 2018\n",
    "df_sat2019_ca_new ['year'] = 2019"
   ]
  },
  {
   "cell_type": "code",
   "execution_count": 48,
   "metadata": {},
   "outputs": [
    {
     "name": "stdout",
     "output_type": "stream",
     "text": [
      "df_sat2017_ca_new(Head):\n",
      "\n",
      "    rtype    cname  pcterwben  pctmathben  pctbothben  year\n",
      "466     C  Alameda     0.7512      0.5948      0.5701  2017\n",
      "534     C   Alpine        NaN         NaN         NaN  2017\n",
      "\n",
      "df_sat2018_ca_new(Head):\n",
      "\n",
      "    rtype    cname  pcterwben  pctmathben  pctbothben  year\n",
      "513     C  Alameda     0.7693      0.6168      0.5947  2018\n",
      "542     C   Alpine        NaN         NaN         NaN  2018\n",
      "\n",
      "df_sat2019_ca_new(Head):\n",
      "\n",
      "   rtype    cname  pcterwben  pctmathben  pctbothben  year\n",
      "76     C  Alameda     0.7679      0.6093      0.5816  2019\n",
      "94     C   Alpine        NaN         NaN         NaN  2019\n",
      "\n"
     ]
    }
   ],
   "source": [
    "# check the revised column name\n",
    "print('df_sat2017_ca_new(Head):\\n')\n",
    "print(df_sat2017_ca_new.head(2))\n",
    "print('')\n",
    "print('df_sat2018_ca_new(Head):\\n')\n",
    "print(df_sat2018_ca_new.head (2))\n",
    "print('')\n",
    "print('df_sat2019_ca_new(Head):\\n')\n",
    "print(df_sat2019_ca_new.head (2))\n",
    "print('')"
   ]
  },
  {
   "cell_type": "markdown",
   "metadata": {},
   "source": [
    "#### 8. Drop unnecessary rows (if needed)."
   ]
  },
  {
   "cell_type": "markdown",
   "metadata": {},
   "source": [
    "Not applicable"
   ]
  },
  {
   "cell_type": "markdown",
   "metadata": {},
   "source": [
    "#### 9. Merge dataframes that can be merged."
   ]
  },
  {
   "cell_type": "code",
   "execution_count": 49,
   "metadata": {},
   "outputs": [
    {
     "data": {
      "text/html": [
       "<div>\n",
       "<style scoped>\n",
       "    .dataframe tbody tr th:only-of-type {\n",
       "        vertical-align: middle;\n",
       "    }\n",
       "\n",
       "    .dataframe tbody tr th {\n",
       "        vertical-align: top;\n",
       "    }\n",
       "\n",
       "    .dataframe thead th {\n",
       "        text-align: right;\n",
       "    }\n",
       "</style>\n",
       "<table border=\"1\" class=\"dataframe\">\n",
       "  <thead>\n",
       "    <tr style=\"text-align: right;\">\n",
       "      <th></th>\n",
       "      <th>rtype</th>\n",
       "      <th>cname</th>\n",
       "      <th>pcterwben</th>\n",
       "      <th>pctmathben</th>\n",
       "      <th>pctbothben</th>\n",
       "      <th>year</th>\n",
       "    </tr>\n",
       "  </thead>\n",
       "  <tbody>\n",
       "    <tr>\n",
       "      <th>466</th>\n",
       "      <td>C</td>\n",
       "      <td>Alameda</td>\n",
       "      <td>0.7512</td>\n",
       "      <td>0.5948</td>\n",
       "      <td>0.5701</td>\n",
       "      <td>2017</td>\n",
       "    </tr>\n",
       "    <tr>\n",
       "      <th>534</th>\n",
       "      <td>C</td>\n",
       "      <td>Alpine</td>\n",
       "      <td>NaN</td>\n",
       "      <td>NaN</td>\n",
       "      <td>NaN</td>\n",
       "      <td>2017</td>\n",
       "    </tr>\n",
       "    <tr>\n",
       "      <th>577</th>\n",
       "      <td>C</td>\n",
       "      <td>Amador</td>\n",
       "      <td>0.9135</td>\n",
       "      <td>0.7404</td>\n",
       "      <td>0.7212</td>\n",
       "      <td>2017</td>\n",
       "    </tr>\n",
       "    <tr>\n",
       "      <th>582</th>\n",
       "      <td>C</td>\n",
       "      <td>Butte</td>\n",
       "      <td>0.8513</td>\n",
       "      <td>0.6662</td>\n",
       "      <td>0.6356</td>\n",
       "      <td>2017</td>\n",
       "    </tr>\n",
       "    <tr>\n",
       "      <th>607</th>\n",
       "      <td>C</td>\n",
       "      <td>Calaveras</td>\n",
       "      <td>0.9167</td>\n",
       "      <td>0.7121</td>\n",
       "      <td>0.6970</td>\n",
       "      <td>2017</td>\n",
       "    </tr>\n",
       "    <tr>\n",
       "      <th>...</th>\n",
       "      <td>...</td>\n",
       "      <td>...</td>\n",
       "      <td>...</td>\n",
       "      <td>...</td>\n",
       "      <td>...</td>\n",
       "      <td>...</td>\n",
       "    </tr>\n",
       "    <tr>\n",
       "      <th>2479</th>\n",
       "      <td>C</td>\n",
       "      <td>Tulare</td>\n",
       "      <td>0.6202</td>\n",
       "      <td>0.3554</td>\n",
       "      <td>0.3270</td>\n",
       "      <td>2019</td>\n",
       "    </tr>\n",
       "    <tr>\n",
       "      <th>2500</th>\n",
       "      <td>C</td>\n",
       "      <td>Tuolumne</td>\n",
       "      <td>0.8250</td>\n",
       "      <td>0.6000</td>\n",
       "      <td>0.6000</td>\n",
       "      <td>2019</td>\n",
       "    </tr>\n",
       "    <tr>\n",
       "      <th>2540</th>\n",
       "      <td>C</td>\n",
       "      <td>Ventura</td>\n",
       "      <td>0.6209</td>\n",
       "      <td>0.4561</td>\n",
       "      <td>0.4338</td>\n",
       "      <td>2019</td>\n",
       "    </tr>\n",
       "    <tr>\n",
       "      <th>2561</th>\n",
       "      <td>C</td>\n",
       "      <td>Yolo</td>\n",
       "      <td>0.7721</td>\n",
       "      <td>0.6113</td>\n",
       "      <td>0.5837</td>\n",
       "      <td>2019</td>\n",
       "    </tr>\n",
       "    <tr>\n",
       "      <th>2574</th>\n",
       "      <td>C</td>\n",
       "      <td>Yuba</td>\n",
       "      <td>0.7865</td>\n",
       "      <td>0.5112</td>\n",
       "      <td>0.4944</td>\n",
       "      <td>2019</td>\n",
       "    </tr>\n",
       "  </tbody>\n",
       "</table>\n",
       "<p>174 rows × 6 columns</p>\n",
       "</div>"
      ],
      "text/plain": [
       "     rtype      cname  pcterwben  pctmathben  pctbothben  year\n",
       "466      C    Alameda     0.7512      0.5948      0.5701  2017\n",
       "534      C     Alpine        NaN         NaN         NaN  2017\n",
       "577      C     Amador     0.9135      0.7404      0.7212  2017\n",
       "582      C      Butte     0.8513      0.6662      0.6356  2017\n",
       "607      C  Calaveras     0.9167      0.7121      0.6970  2017\n",
       "...    ...        ...        ...         ...         ...   ...\n",
       "2479     C     Tulare     0.6202      0.3554      0.3270  2019\n",
       "2500     C   Tuolumne     0.8250      0.6000      0.6000  2019\n",
       "2540     C    Ventura     0.6209      0.4561      0.4338  2019\n",
       "2561     C       Yolo     0.7721      0.6113      0.5837  2019\n",
       "2574     C       Yuba     0.7865      0.5112      0.4944  2019\n",
       "\n",
       "[174 rows x 6 columns]"
      ]
     },
     "execution_count": 49,
     "metadata": {},
     "output_type": "execute_result"
    }
   ],
   "source": [
    "# Merge df_sat_2017, df_sat_2018 and df_sat_2019\n",
    "\n",
    "all_sat_ca = pd.concat(objs = [df_sat2017_ca_new,df_sat2018_ca_new,df_sat2019_ca_new], axis = 0)\n",
    "all_sat_ca"
   ]
  },
  {
   "cell_type": "markdown",
   "metadata": {},
   "source": [
    "#### 10. Perform any additional cleaning that you feel is necessary"
   ]
  },
  {
   "cell_type": "code",
   "execution_count": 50,
   "metadata": {},
   "outputs": [],
   "source": [
    "# convert percentage e.g 0.3 to 30 for better presentation in visualisation later\n",
    "\n",
    "all_sat_ca['pcterwben'] = all_sat_ca['pcterwben']*100\n",
    "all_sat_ca['pctmathben'] = all_sat_ca['pctmathben']*100\n",
    "all_sat_ca['pctbothben'] = all_sat_ca['pctbothben']*100"
   ]
  },
  {
   "cell_type": "markdown",
   "metadata": {},
   "source": [
    "#### 11. Save your cleaned and merged dataframes as csv files."
   ]
  },
  {
   "cell_type": "code",
   "execution_count": 51,
   "metadata": {},
   "outputs": [],
   "source": [
    "# output combined SAT 2017 - 2019 california data\n",
    "\n",
    "path = '../data/'\n",
    "\n",
    "if not os.path.exists(path):\n",
    "    os.makedirs(path)\n",
    "    \n",
    "all_sat_ca.to_csv(path + 'combined_sat_ca.csv')"
   ]
  },
  {
   "cell_type": "markdown",
   "metadata": {},
   "source": [
    "### Data Dictionary\n",
    "\n",
    "Now that we've fixed our data, and given it appropriate names, let's create a [data dictionary](http://library.ucmerced.edu/node/10249). \n",
    "\n",
    "A data dictionary provides a quick overview of features/variables/columns, alongside data types and descriptions. The more descriptive you can be, the more useful this document is.\n",
    "\n",
    "Example of a Fictional Data Dictionary Entry: \n",
    "\n",
    "|Feature|Type|Dataset|Description|\n",
    "|---|---|---|---|\n",
    "|**county_pop**|*integer*|2010 census|The population of the county (units in thousands, where 2.5 represents 2500 people).| \n",
    "|**per_poverty**|*float*|2010 census|The percent of the county over the age of 18 living below the 200% of official US poverty rate (units percent to two decimal places 98.10 means 98.1%)|\n",
    "\n",
    "[Here's a quick link to a short guide for formatting markdown in Jupyter notebooks](https://jupyter-notebook.readthedocs.io/en/stable/examples/Notebook/Working%20With%20Markdown%20Cells.html).\n",
    "\n",
    "Provided is the skeleton for formatting a markdown table, with columns headers that will help you create a data dictionary to quickly summarize your data, as well as some examples. **This would be a great thing to copy and paste into your custom README for this project.**\n",
    "\n",
    "*Note*: if you are unsure of what a feature is, check the source of the data! This can be found in the README."
   ]
  },
  {
   "cell_type": "code",
   "execution_count": 52,
   "metadata": {},
   "outputs": [],
   "source": [
    "# dict mapping of dictionaries using the zip command and list comprehension\n",
    "\n",
    "sat_part = dict(zip(all_sat['state'],all_sat['participation']))\n",
    "sat_math = dict(zip(all_sat['state'],all_sat['math']))\n",
    "sat_readandwrite = dict(zip(all_sat['state'],all_sat['ebrw']))\n",
    "sat_ca_erw = dict(zip(all_sat_ca['cname'],all_sat_ca['pcterwben']))\n",
    "sat_ca_math = dict(zip(all_sat_ca['cname'],all_sat_ca['pctmathben']))\n",
    "sat_ca_both = dict(zip(all_sat_ca['cname'],all_sat_ca['pctbothben']))"
   ]
  },
  {
   "cell_type": "code",
   "execution_count": 53,
   "metadata": {},
   "outputs": [],
   "source": [
    "# used to_dict to put each Dataframe into a Dictionary as described above.\n",
    "\n",
    "col_name = all_sat.columns\n",
    "values = all_sat.values[:]"
   ]
  },
  {
   "cell_type": "code",
   "execution_count": 54,
   "metadata": {},
   "outputs": [
    {
     "data": {
      "text/plain": [
       "{'state': array(['Alabama', 0.05, 593, 572, 1165, 2017], dtype=object),\n",
       " 'participation': array(['Alaska', 0.38, 547, 533, 1080, 2017], dtype=object),\n",
       " 'ebrw': array(['Arizona', 0.3, 563, 553, 1116, 2017], dtype=object),\n",
       " 'math': array(['Arkansas', 0.03, 614, 594, 1208, 2017], dtype=object),\n",
       " 'total': array(['California', 0.53, 531, 524, 1055, 2017], dtype=object),\n",
       " 'year': array(['Colorado', 0.11, 606, 595, 1201, 2017], dtype=object)}"
      ]
     },
     "execution_count": 54,
     "metadata": {},
     "output_type": "execute_result"
    }
   ],
   "source": [
    "new_dict_sa = { k:v for k,v in zip(col_name,values)}\n",
    "new_dict_sa"
   ]
  },
  {
   "cell_type": "code",
   "execution_count": 55,
   "metadata": {},
   "outputs": [],
   "source": [
    "col_names = all_sat_ca.columns\n",
    "values_ca = all_sat_ca.values[:]"
   ]
  },
  {
   "cell_type": "code",
   "execution_count": 56,
   "metadata": {},
   "outputs": [
    {
     "data": {
      "text/plain": [
       "{'rtype': array(['C', 'Alameda', 75.12, 59.48, 57.00999999999999, 2017],\n",
       "       dtype=object),\n",
       " 'cname': array(['C', 'Alpine', nan, nan, nan, 2017], dtype=object),\n",
       " 'pcterwben': array(['C', 'Amador', 91.35, 74.04, 72.12, 2017], dtype=object),\n",
       " 'pctmathben': array(['C', 'Butte', 85.13, 66.62, 63.56, 2017], dtype=object),\n",
       " 'pctbothben': array(['C', 'Calaveras', 91.67, 71.21, 69.7, 2017], dtype=object),\n",
       " 'year': array(['C', 'Colusa', 74.78, 42.61, 40.87, 2017], dtype=object)}"
      ]
     },
     "execution_count": 56,
     "metadata": {},
     "output_type": "execute_result"
    }
   ],
   "source": [
    "new_dict_ca = { k:v for k,v in zip(col_names,values_ca)}\n",
    "new_dict_ca"
   ]
  },
  {
   "cell_type": "markdown",
   "metadata": {},
   "source": [
    "**To-Do:** *Edit the table below to create your own data dictionary for the datasets you chose.*\n",
    "\n",
    "|Feature|Type|Dataset|Description|\n",
    "|---|---|---|---|\n",
    "|column name|int/float/object|ACT/SAT|This is an example| \n"
   ]
  },
  {
   "cell_type": "markdown",
   "metadata": {},
   "source": [
    "## Exploratory Data Analysis\n",
    "\n",
    "Complete the following steps to explore your data. You are welcome to do more EDA than the steps outlined here as you feel necessary:\n"
   ]
  },
  {
   "cell_type": "markdown",
   "metadata": {},
   "source": [
    "#### 1. Summary Statistics."
   ]
  },
  {
   "cell_type": "code",
   "execution_count": 57,
   "metadata": {},
   "outputs": [
    {
     "data": {
      "text/html": [
       "<div>\n",
       "<style scoped>\n",
       "    .dataframe tbody tr th:only-of-type {\n",
       "        vertical-align: middle;\n",
       "    }\n",
       "\n",
       "    .dataframe tbody tr th {\n",
       "        vertical-align: top;\n",
       "    }\n",
       "\n",
       "    .dataframe thead th {\n",
       "        text-align: right;\n",
       "    }\n",
       "</style>\n",
       "<table border=\"1\" class=\"dataframe\">\n",
       "  <thead>\n",
       "    <tr style=\"text-align: right;\">\n",
       "      <th></th>\n",
       "      <th>count</th>\n",
       "      <th>mean</th>\n",
       "      <th>std</th>\n",
       "      <th>min</th>\n",
       "      <th>25%</th>\n",
       "      <th>50%</th>\n",
       "      <th>75%</th>\n",
       "      <th>max</th>\n",
       "    </tr>\n",
       "  </thead>\n",
       "  <tbody>\n",
       "    <tr>\n",
       "      <th>participation</th>\n",
       "      <td>153.0</td>\n",
       "      <td>0.448693</td>\n",
       "      <td>0.370944</td>\n",
       "      <td>0.02</td>\n",
       "      <td>0.04</td>\n",
       "      <td>0.5</td>\n",
       "      <td>0.76</td>\n",
       "      <td>1.0</td>\n",
       "    </tr>\n",
       "    <tr>\n",
       "      <th>ebrw</th>\n",
       "      <td>155.0</td>\n",
       "      <td>563.529032</td>\n",
       "      <td>46.842276</td>\n",
       "      <td>480.00</td>\n",
       "      <td>530.50</td>\n",
       "      <td>552.0</td>\n",
       "      <td>613.00</td>\n",
       "      <td>644.0</td>\n",
       "    </tr>\n",
       "    <tr>\n",
       "      <th>math</th>\n",
       "      <td>155.0</td>\n",
       "      <td>553.793548</td>\n",
       "      <td>49.533630</td>\n",
       "      <td>445.00</td>\n",
       "      <td>520.50</td>\n",
       "      <td>545.0</td>\n",
       "      <td>595.50</td>\n",
       "      <td>655.0</td>\n",
       "    </tr>\n",
       "    <tr>\n",
       "      <th>total</th>\n",
       "      <td>155.0</td>\n",
       "      <td>1117.406452</td>\n",
       "      <td>95.750399</td>\n",
       "      <td>935.00</td>\n",
       "      <td>1052.00</td>\n",
       "      <td>1098.0</td>\n",
       "      <td>1209.00</td>\n",
       "      <td>1298.0</td>\n",
       "    </tr>\n",
       "    <tr>\n",
       "      <th>year</th>\n",
       "      <td>155.0</td>\n",
       "      <td>2018.012903</td>\n",
       "      <td>0.821679</td>\n",
       "      <td>2017.00</td>\n",
       "      <td>2017.00</td>\n",
       "      <td>2018.0</td>\n",
       "      <td>2019.00</td>\n",
       "      <td>2019.0</td>\n",
       "    </tr>\n",
       "  </tbody>\n",
       "</table>\n",
       "</div>"
      ],
      "text/plain": [
       "               count         mean        std      min      25%     50%  \\\n",
       "participation  153.0     0.448693   0.370944     0.02     0.04     0.5   \n",
       "ebrw           155.0   563.529032  46.842276   480.00   530.50   552.0   \n",
       "math           155.0   553.793548  49.533630   445.00   520.50   545.0   \n",
       "total          155.0  1117.406452  95.750399   935.00  1052.00  1098.0   \n",
       "year           155.0  2018.012903   0.821679  2017.00  2017.00  2018.0   \n",
       "\n",
       "                   75%     max  \n",
       "participation     0.76     1.0  \n",
       "ebrw            613.00   644.0  \n",
       "math            595.50   655.0  \n",
       "total          1209.00  1298.0  \n",
       "year           2019.00  2019.0  "
      ]
     },
     "execution_count": 57,
     "metadata": {},
     "output_type": "execute_result"
    }
   ],
   "source": [
    "summary = all_sat.describe()\n",
    "summary.transpose()"
   ]
  },
  {
   "cell_type": "code",
   "execution_count": 58,
   "metadata": {
    "scrolled": true
   },
   "outputs": [
    {
     "data": {
      "text/html": [
       "<div>\n",
       "<style scoped>\n",
       "    .dataframe tbody tr th:only-of-type {\n",
       "        vertical-align: middle;\n",
       "    }\n",
       "\n",
       "    .dataframe tbody tr th {\n",
       "        vertical-align: top;\n",
       "    }\n",
       "\n",
       "    .dataframe thead th {\n",
       "        text-align: right;\n",
       "    }\n",
       "</style>\n",
       "<table border=\"1\" class=\"dataframe\">\n",
       "  <thead>\n",
       "    <tr style=\"text-align: right;\">\n",
       "      <th></th>\n",
       "      <th>count</th>\n",
       "      <th>mean</th>\n",
       "      <th>std</th>\n",
       "      <th>min</th>\n",
       "      <th>25%</th>\n",
       "      <th>50%</th>\n",
       "      <th>75%</th>\n",
       "      <th>max</th>\n",
       "    </tr>\n",
       "  </thead>\n",
       "  <tbody>\n",
       "    <tr>\n",
       "      <th>pcterwben</th>\n",
       "      <td>167.0</td>\n",
       "      <td>76.540539</td>\n",
       "      <td>9.878469</td>\n",
       "      <td>52.70</td>\n",
       "      <td>69.560</td>\n",
       "      <td>76.93</td>\n",
       "      <td>84.425</td>\n",
       "      <td>97.37</td>\n",
       "    </tr>\n",
       "    <tr>\n",
       "      <th>pctmathben</th>\n",
       "      <td>167.0</td>\n",
       "      <td>54.360539</td>\n",
       "      <td>12.992957</td>\n",
       "      <td>20.27</td>\n",
       "      <td>42.345</td>\n",
       "      <td>56.37</td>\n",
       "      <td>64.910</td>\n",
       "      <td>81.78</td>\n",
       "    </tr>\n",
       "    <tr>\n",
       "      <th>pctbothben</th>\n",
       "      <td>167.0</td>\n",
       "      <td>51.935389</td>\n",
       "      <td>13.091299</td>\n",
       "      <td>18.92</td>\n",
       "      <td>39.410</td>\n",
       "      <td>53.67</td>\n",
       "      <td>61.695</td>\n",
       "      <td>79.50</td>\n",
       "    </tr>\n",
       "    <tr>\n",
       "      <th>year</th>\n",
       "      <td>174.0</td>\n",
       "      <td>2018.000000</td>\n",
       "      <td>0.818853</td>\n",
       "      <td>2017.00</td>\n",
       "      <td>2017.000</td>\n",
       "      <td>2018.00</td>\n",
       "      <td>2019.000</td>\n",
       "      <td>2019.00</td>\n",
       "    </tr>\n",
       "  </tbody>\n",
       "</table>\n",
       "</div>"
      ],
      "text/plain": [
       "            count         mean        std      min       25%      50%  \\\n",
       "pcterwben   167.0    76.540539   9.878469    52.70    69.560    76.93   \n",
       "pctmathben  167.0    54.360539  12.992957    20.27    42.345    56.37   \n",
       "pctbothben  167.0    51.935389  13.091299    18.92    39.410    53.67   \n",
       "year        174.0  2018.000000   0.818853  2017.00  2017.000  2018.00   \n",
       "\n",
       "                 75%      max  \n",
       "pcterwben     84.425    97.37  \n",
       "pctmathben    64.910    81.78  \n",
       "pctbothben    61.695    79.50  \n",
       "year        2019.000  2019.00  "
      ]
     },
     "execution_count": 58,
     "metadata": {},
     "output_type": "execute_result"
    }
   ],
   "source": [
    "summary = all_sat_ca.describe()\n",
    "summary.transpose()"
   ]
  },
  {
   "cell_type": "markdown",
   "metadata": {},
   "source": [
    "#### 2. Use a **dictionary comprehension** to apply the standard deviation function you create in part 1 to each numeric column in the dataframe.  **No loops**.\n",
    "    - Assign the output to variable `sd` as a dictionary where: \n",
    "        - Each column name is now a key \n",
    "        - That standard deviation of the column is the value \n",
    "        - *Example Output :* `{'ACT_Math': 120, 'ACT_Reading': 120, ...}`"
   ]
  },
  {
   "cell_type": "code",
   "execution_count": 59,
   "metadata": {},
   "outputs": [
    {
     "name": "stdout",
     "output_type": "stream",
     "text": [
      "155 0.44869281045751647 nan\n",
      "155 563.5290322580645 46.69092744329553\n",
      "155 553.7935483870967 49.37358530751666\n",
      "155 1117.4064516129033 95.44102700514097\n",
      "155 2018.0129032258064 0.8190245714868826\n",
      "{'participation': nan, 'ebrw': 46.69092744329553, 'math': 49.37358530751666, 'total': 95.44102700514097, 'year': 0.8190245714868826}\n"
     ]
    }
   ],
   "source": [
    "# using compute_stdev() - all_sat dataframe\n",
    "\n",
    "sd = {col: compute_stdev (all_sat[col]) for col in all_sat if col !='state'}\n",
    "print(sd)"
   ]
  },
  {
   "cell_type": "code",
   "execution_count": 60,
   "metadata": {},
   "outputs": [
    {
     "name": "stdout",
     "output_type": "stream",
     "text": [
      "174 76.5405389221557 nan\n",
      "174 54.36053892215568 nan\n",
      "174 51.93538922155689 nan\n",
      "174 2018.0 0.816496580927726\n",
      "{'rtype': None, 'pcterwben': nan, 'pctmathben': nan, 'pctbothben': nan, 'year': 0.816496580927726}\n"
     ]
    }
   ],
   "source": [
    "# using compute_stdev() - all_sat_ca dataframe\n",
    "\n",
    "sd = {col: compute_stdev (all_sat_ca[col]) for col in all_sat_ca if col !='cname'and 'rtype'}\n",
    "print(sd)"
   ]
  },
  {
   "cell_type": "markdown",
   "metadata": {},
   "source": [
    "#### 3. Investigate trends in the data.\n",
    "* Using sorting and/or masking (along with the `.head()` method to avoid printing our entire dataframe), consider questions relevant to your problem statement. Some examples are provided below (but feel free to change these questions for your specific problem):"
   ]
  },
  {
   "cell_type": "markdown",
   "metadata": {},
   "source": [
    "* Which states have the highest and lowest test score between California and other states for the:\n",
    "\n",
    "    * 2017 SAT?\n",
    "    * 2018 SAT?\n",
    "    * 2019 SAT?"
   ]
  },
  {
   "cell_type": "markdown",
   "metadata": {},
   "source": [
    "*  Which county have the highest and lowest % in test score of the states of California for the:\n",
    "      * 2017 SAT California ?\n",
    "      * 2018 SAT California ?\n",
    "      * 2019 SAT California ?"
   ]
  },
  {
   "cell_type": "markdown",
   "metadata": {},
   "source": [
    "- **You should comment on your findings at each step in a markdown cell below your code block**. Make sure you include at least one example of sorting your dataframe by a column, and one example of using boolean filtering (i.e., masking) to select a subset of the dataframe."
   ]
  },
  {
   "cell_type": "markdown",
   "metadata": {},
   "source": [
    "[Highest score rate in both amongst States]\n",
    "*  2017 SAT: Minnesota, Wisconsin, Lowa, Missouri, Kansas\n",
    "*  2018 SAT: Minnesota, Wisconsin, North Dakota, Lowa, Kansas\n",
    "*  2019 SAT: Minnesota, Wisconsin,South Dakota, North Dakota, Kansas\n",
    "\n",
    "[Lowest score rate in both amongst States]\n",
    "*  2017 SAT: District of Columbia, Delaware, Idaho, Michigan, Maine\n",
    "*  2018 SAT: District of Columbia, Delaware, West Virginia, Idaho, Utah\n",
    "*  2019 SAT: Virgin Islands, West Virginia, Puerto Rico, Oklahoma, District of Columbia\n",
    "\n",
    "[Highest score rate in both amongst County of California]\n",
    "*  2017 SAT CA: El Dorado, Nevada, Amador, Shasta, Tuolumne\n",
    "*  2018 SAT CA: El Dorado, Marin, San Mateo, Placer, Nevada\n",
    "*  2019 SAT CA: El Dorado, Mariposa, Placer, Marin, Nevada\n",
    "\n",
    "[Lowest score rate in both amongst County of California]\n",
    "*  2017 SAT CA: Madera, Fresno, Merced, Kings, Glenn\n",
    "*  2018 SAT CA: Inyo, Madera, Modoc, Colusa, Merced\n",
    "*  2019 SAT CA: Colusa, Glenn, Madera, Merced, Inyo\n"
   ]
  },
  {
   "cell_type": "code",
   "execution_count": 61,
   "metadata": {},
   "outputs": [],
   "source": [
    "# create masks for all_sat\n",
    "mask_2017 = all_sat ['year'] == 2017\n",
    "mask_2018 = all_sat ['year'] == 2018\n",
    "mask_2019 = all_sat ['year'] == 2019"
   ]
  },
  {
   "cell_type": "code",
   "execution_count": 62,
   "metadata": {},
   "outputs": [
    {
     "data": {
      "text/html": [
       "<div>\n",
       "<style scoped>\n",
       "    .dataframe tbody tr th:only-of-type {\n",
       "        vertical-align: middle;\n",
       "    }\n",
       "\n",
       "    .dataframe tbody tr th {\n",
       "        vertical-align: top;\n",
       "    }\n",
       "\n",
       "    .dataframe thead th {\n",
       "        text-align: right;\n",
       "    }\n",
       "</style>\n",
       "<table border=\"1\" class=\"dataframe\">\n",
       "  <thead>\n",
       "    <tr style=\"text-align: right;\">\n",
       "      <th></th>\n",
       "      <th>state</th>\n",
       "      <th>participation</th>\n",
       "      <th>ebrw</th>\n",
       "      <th>math</th>\n",
       "      <th>total</th>\n",
       "      <th>year</th>\n",
       "    </tr>\n",
       "  </thead>\n",
       "  <tbody>\n",
       "    <tr>\n",
       "      <th>23</th>\n",
       "      <td>Minnesota</td>\n",
       "      <td>0.03</td>\n",
       "      <td>644</td>\n",
       "      <td>651</td>\n",
       "      <td>1295</td>\n",
       "      <td>2017</td>\n",
       "    </tr>\n",
       "    <tr>\n",
       "      <th>49</th>\n",
       "      <td>Wisconsin</td>\n",
       "      <td>0.03</td>\n",
       "      <td>642</td>\n",
       "      <td>649</td>\n",
       "      <td>1291</td>\n",
       "      <td>2017</td>\n",
       "    </tr>\n",
       "    <tr>\n",
       "      <th>15</th>\n",
       "      <td>Iowa</td>\n",
       "      <td>0.02</td>\n",
       "      <td>641</td>\n",
       "      <td>635</td>\n",
       "      <td>1275</td>\n",
       "      <td>2017</td>\n",
       "    </tr>\n",
       "    <tr>\n",
       "      <th>25</th>\n",
       "      <td>Missouri</td>\n",
       "      <td>0.03</td>\n",
       "      <td>640</td>\n",
       "      <td>631</td>\n",
       "      <td>1271</td>\n",
       "      <td>2017</td>\n",
       "    </tr>\n",
       "    <tr>\n",
       "      <th>16</th>\n",
       "      <td>Kansas</td>\n",
       "      <td>0.04</td>\n",
       "      <td>632</td>\n",
       "      <td>628</td>\n",
       "      <td>1260</td>\n",
       "      <td>2017</td>\n",
       "    </tr>\n",
       "  </tbody>\n",
       "</table>\n",
       "</div>"
      ],
      "text/plain": [
       "        state  participation  ebrw  math  total  year\n",
       "23  Minnesota           0.03   644   651   1295  2017\n",
       "49  Wisconsin           0.03   642   649   1291  2017\n",
       "15       Iowa           0.02   641   635   1275  2017\n",
       "25   Missouri           0.03   640   631   1271  2017\n",
       "16     Kansas           0.04   632   628   1260  2017"
      ]
     },
     "execution_count": 62,
     "metadata": {},
     "output_type": "execute_result"
    }
   ],
   "source": [
    "# SAT 2017 highest score in total\n",
    "all_sat_2017_high_total = all_sat[mask_2017].sort_values('total',ascending = False)\n",
    "all_sat_2017_high_total.head()"
   ]
  },
  {
   "cell_type": "code",
   "execution_count": 63,
   "metadata": {
    "scrolled": true
   },
   "outputs": [
    {
     "data": {
      "text/html": [
       "<div>\n",
       "<style scoped>\n",
       "    .dataframe tbody tr th:only-of-type {\n",
       "        vertical-align: middle;\n",
       "    }\n",
       "\n",
       "    .dataframe tbody tr th {\n",
       "        vertical-align: top;\n",
       "    }\n",
       "\n",
       "    .dataframe thead th {\n",
       "        text-align: right;\n",
       "    }\n",
       "</style>\n",
       "<table border=\"1\" class=\"dataframe\">\n",
       "  <thead>\n",
       "    <tr style=\"text-align: right;\">\n",
       "      <th></th>\n",
       "      <th>state</th>\n",
       "      <th>participation</th>\n",
       "      <th>ebrw</th>\n",
       "      <th>math</th>\n",
       "      <th>total</th>\n",
       "      <th>year</th>\n",
       "    </tr>\n",
       "  </thead>\n",
       "  <tbody>\n",
       "    <tr>\n",
       "      <th>23</th>\n",
       "      <td>Minnesota</td>\n",
       "      <td>0.04</td>\n",
       "      <td>643</td>\n",
       "      <td>655</td>\n",
       "      <td>1298</td>\n",
       "      <td>2018</td>\n",
       "    </tr>\n",
       "    <tr>\n",
       "      <th>49</th>\n",
       "      <td>Wisconsin</td>\n",
       "      <td>0.03</td>\n",
       "      <td>641</td>\n",
       "      <td>653</td>\n",
       "      <td>1294</td>\n",
       "      <td>2018</td>\n",
       "    </tr>\n",
       "    <tr>\n",
       "      <th>34</th>\n",
       "      <td>North Dakota</td>\n",
       "      <td>0.02</td>\n",
       "      <td>640</td>\n",
       "      <td>643</td>\n",
       "      <td>1283</td>\n",
       "      <td>2018</td>\n",
       "    </tr>\n",
       "    <tr>\n",
       "      <th>15</th>\n",
       "      <td>Iowa</td>\n",
       "      <td>0.03</td>\n",
       "      <td>634</td>\n",
       "      <td>631</td>\n",
       "      <td>1265</td>\n",
       "      <td>2018</td>\n",
       "    </tr>\n",
       "    <tr>\n",
       "      <th>16</th>\n",
       "      <td>Kansas</td>\n",
       "      <td>0.04</td>\n",
       "      <td>633</td>\n",
       "      <td>631</td>\n",
       "      <td>1265</td>\n",
       "      <td>2018</td>\n",
       "    </tr>\n",
       "  </tbody>\n",
       "</table>\n",
       "</div>"
      ],
      "text/plain": [
       "           state  participation  ebrw  math  total  year\n",
       "23     Minnesota           0.04   643   655   1298  2018\n",
       "49     Wisconsin           0.03   641   653   1294  2018\n",
       "34  North Dakota           0.02   640   643   1283  2018\n",
       "15          Iowa           0.03   634   631   1265  2018\n",
       "16        Kansas           0.04   633   631   1265  2018"
      ]
     },
     "execution_count": 63,
     "metadata": {},
     "output_type": "execute_result"
    }
   ],
   "source": [
    "# SAT 2018 highest score in total\n",
    "all_sat_2018_high_total = all_sat[mask_2018].sort_values('total',ascending = False)\n",
    "all_sat_2018_high_total.head()"
   ]
  },
  {
   "cell_type": "code",
   "execution_count": 64,
   "metadata": {
    "scrolled": true
   },
   "outputs": [
    {
     "data": {
      "text/html": [
       "<div>\n",
       "<style scoped>\n",
       "    .dataframe tbody tr th:only-of-type {\n",
       "        vertical-align: middle;\n",
       "    }\n",
       "\n",
       "    .dataframe tbody tr th {\n",
       "        vertical-align: top;\n",
       "    }\n",
       "\n",
       "    .dataframe thead th {\n",
       "        text-align: right;\n",
       "    }\n",
       "</style>\n",
       "<table border=\"1\" class=\"dataframe\">\n",
       "  <thead>\n",
       "    <tr style=\"text-align: right;\">\n",
       "      <th></th>\n",
       "      <th>state</th>\n",
       "      <th>participation</th>\n",
       "      <th>ebrw</th>\n",
       "      <th>math</th>\n",
       "      <th>total</th>\n",
       "      <th>year</th>\n",
       "    </tr>\n",
       "  </thead>\n",
       "  <tbody>\n",
       "    <tr>\n",
       "      <th>23</th>\n",
       "      <td>Minnesota</td>\n",
       "      <td>0.04</td>\n",
       "      <td>636</td>\n",
       "      <td>648</td>\n",
       "      <td>1284</td>\n",
       "      <td>2019</td>\n",
       "    </tr>\n",
       "    <tr>\n",
       "      <th>51</th>\n",
       "      <td>Wisconsin</td>\n",
       "      <td>0.03</td>\n",
       "      <td>635</td>\n",
       "      <td>648</td>\n",
       "      <td>1283</td>\n",
       "      <td>2019</td>\n",
       "    </tr>\n",
       "    <tr>\n",
       "      <th>42</th>\n",
       "      <td>South Dakota</td>\n",
       "      <td>0.03</td>\n",
       "      <td>633</td>\n",
       "      <td>635</td>\n",
       "      <td>1268</td>\n",
       "      <td>2019</td>\n",
       "    </tr>\n",
       "    <tr>\n",
       "      <th>34</th>\n",
       "      <td>North Dakota</td>\n",
       "      <td>0.02</td>\n",
       "      <td>627</td>\n",
       "      <td>636</td>\n",
       "      <td>1263</td>\n",
       "      <td>2019</td>\n",
       "    </tr>\n",
       "    <tr>\n",
       "      <th>27</th>\n",
       "      <td>Nebraska</td>\n",
       "      <td>0.03</td>\n",
       "      <td>628</td>\n",
       "      <td>631</td>\n",
       "      <td>1260</td>\n",
       "      <td>2019</td>\n",
       "    </tr>\n",
       "  </tbody>\n",
       "</table>\n",
       "</div>"
      ],
      "text/plain": [
       "           state  participation  ebrw  math  total  year\n",
       "23     Minnesota           0.04   636   648   1284  2019\n",
       "51     Wisconsin           0.03   635   648   1283  2019\n",
       "42  South Dakota           0.03   633   635   1268  2019\n",
       "34  North Dakota           0.02   627   636   1263  2019\n",
       "27      Nebraska           0.03   628   631   1260  2019"
      ]
     },
     "execution_count": 64,
     "metadata": {},
     "output_type": "execute_result"
    }
   ],
   "source": [
    "# SAT 2019 highest score in total\n",
    "all_sat_2019_high_total = all_sat[mask_2019].sort_values('total',ascending = False)\n",
    "all_sat_2019_high_total.head()"
   ]
  },
  {
   "cell_type": "code",
   "execution_count": 65,
   "metadata": {
    "scrolled": true
   },
   "outputs": [
    {
     "data": {
      "text/html": [
       "<div>\n",
       "<style scoped>\n",
       "    .dataframe tbody tr th:only-of-type {\n",
       "        vertical-align: middle;\n",
       "    }\n",
       "\n",
       "    .dataframe tbody tr th {\n",
       "        vertical-align: top;\n",
       "    }\n",
       "\n",
       "    .dataframe thead th {\n",
       "        text-align: right;\n",
       "    }\n",
       "</style>\n",
       "<table border=\"1\" class=\"dataframe\">\n",
       "  <thead>\n",
       "    <tr style=\"text-align: right;\">\n",
       "      <th></th>\n",
       "      <th>state</th>\n",
       "      <th>participation</th>\n",
       "      <th>ebrw</th>\n",
       "      <th>math</th>\n",
       "      <th>total</th>\n",
       "      <th>year</th>\n",
       "    </tr>\n",
       "  </thead>\n",
       "  <tbody>\n",
       "    <tr>\n",
       "      <th>8</th>\n",
       "      <td>District of Columbia</td>\n",
       "      <td>1.00</td>\n",
       "      <td>482</td>\n",
       "      <td>468</td>\n",
       "      <td>950</td>\n",
       "      <td>2017</td>\n",
       "    </tr>\n",
       "    <tr>\n",
       "      <th>7</th>\n",
       "      <td>Delaware</td>\n",
       "      <td>1.00</td>\n",
       "      <td>503</td>\n",
       "      <td>492</td>\n",
       "      <td>996</td>\n",
       "      <td>2017</td>\n",
       "    </tr>\n",
       "    <tr>\n",
       "      <th>12</th>\n",
       "      <td>Idaho</td>\n",
       "      <td>0.93</td>\n",
       "      <td>513</td>\n",
       "      <td>493</td>\n",
       "      <td>1005</td>\n",
       "      <td>2017</td>\n",
       "    </tr>\n",
       "    <tr>\n",
       "      <th>22</th>\n",
       "      <td>Michigan</td>\n",
       "      <td>1.00</td>\n",
       "      <td>509</td>\n",
       "      <td>495</td>\n",
       "      <td>1005</td>\n",
       "      <td>2017</td>\n",
       "    </tr>\n",
       "    <tr>\n",
       "      <th>19</th>\n",
       "      <td>Maine</td>\n",
       "      <td>0.95</td>\n",
       "      <td>513</td>\n",
       "      <td>499</td>\n",
       "      <td>1012</td>\n",
       "      <td>2017</td>\n",
       "    </tr>\n",
       "  </tbody>\n",
       "</table>\n",
       "</div>"
      ],
      "text/plain": [
       "                   state  participation  ebrw  math  total  year\n",
       "8   District of Columbia           1.00   482   468    950  2017\n",
       "7               Delaware           1.00   503   492    996  2017\n",
       "12                 Idaho           0.93   513   493   1005  2017\n",
       "22              Michigan           1.00   509   495   1005  2017\n",
       "19                 Maine           0.95   513   499   1012  2017"
      ]
     },
     "execution_count": 65,
     "metadata": {},
     "output_type": "execute_result"
    }
   ],
   "source": [
    "# SAT 2017 lowest score in total\n",
    "all_sat_2017_low_total = all_sat[mask_2017].sort_values('total',ascending = True)\n",
    "all_sat_2017_low_total.head()"
   ]
  },
  {
   "cell_type": "code",
   "execution_count": 66,
   "metadata": {},
   "outputs": [
    {
     "data": {
      "text/html": [
       "<div>\n",
       "<style scoped>\n",
       "    .dataframe tbody tr th:only-of-type {\n",
       "        vertical-align: middle;\n",
       "    }\n",
       "\n",
       "    .dataframe tbody tr th {\n",
       "        vertical-align: top;\n",
       "    }\n",
       "\n",
       "    .dataframe thead th {\n",
       "        text-align: right;\n",
       "    }\n",
       "</style>\n",
       "<table border=\"1\" class=\"dataframe\">\n",
       "  <thead>\n",
       "    <tr style=\"text-align: right;\">\n",
       "      <th></th>\n",
       "      <th>state</th>\n",
       "      <th>participation</th>\n",
       "      <th>ebrw</th>\n",
       "      <th>math</th>\n",
       "      <th>total</th>\n",
       "      <th>year</th>\n",
       "    </tr>\n",
       "  </thead>\n",
       "  <tbody>\n",
       "    <tr>\n",
       "      <th>8</th>\n",
       "      <td>District of Columbia</td>\n",
       "      <td>0.92</td>\n",
       "      <td>497</td>\n",
       "      <td>480</td>\n",
       "      <td>977</td>\n",
       "      <td>2018</td>\n",
       "    </tr>\n",
       "    <tr>\n",
       "      <th>7</th>\n",
       "      <td>Delaware</td>\n",
       "      <td>1.00</td>\n",
       "      <td>505</td>\n",
       "      <td>492</td>\n",
       "      <td>998</td>\n",
       "      <td>2018</td>\n",
       "    </tr>\n",
       "    <tr>\n",
       "      <th>48</th>\n",
       "      <td>West Virginia</td>\n",
       "      <td>0.28</td>\n",
       "      <td>513</td>\n",
       "      <td>486</td>\n",
       "      <td>999</td>\n",
       "      <td>2018</td>\n",
       "    </tr>\n",
       "    <tr>\n",
       "      <th>12</th>\n",
       "      <td>Idaho</td>\n",
       "      <td>1.00</td>\n",
       "      <td>508</td>\n",
       "      <td>493</td>\n",
       "      <td>1001</td>\n",
       "      <td>2018</td>\n",
       "    </tr>\n",
       "    <tr>\n",
       "      <th>44</th>\n",
       "      <td>Utah</td>\n",
       "      <td>0.04</td>\n",
       "      <td>480</td>\n",
       "      <td>530</td>\n",
       "      <td>1010</td>\n",
       "      <td>2018</td>\n",
       "    </tr>\n",
       "  </tbody>\n",
       "</table>\n",
       "</div>"
      ],
      "text/plain": [
       "                   state  participation  ebrw  math  total  year\n",
       "8   District of Columbia           0.92   497   480    977  2018\n",
       "7               Delaware           1.00   505   492    998  2018\n",
       "48         West Virginia           0.28   513   486    999  2018\n",
       "12                 Idaho           1.00   508   493   1001  2018\n",
       "44                  Utah           0.04   480   530   1010  2018"
      ]
     },
     "execution_count": 66,
     "metadata": {},
     "output_type": "execute_result"
    }
   ],
   "source": [
    "# SAT 2018 lowest score in total\n",
    "all_sat_2018_low_total = all_sat[mask_2018].sort_values('total',ascending = True)\n",
    "all_sat_2018_low_total.head()"
   ]
  },
  {
   "cell_type": "code",
   "execution_count": 67,
   "metadata": {},
   "outputs": [
    {
     "data": {
      "text/html": [
       "<div>\n",
       "<style scoped>\n",
       "    .dataframe tbody tr th:only-of-type {\n",
       "        vertical-align: middle;\n",
       "    }\n",
       "\n",
       "    .dataframe tbody tr th {\n",
       "        vertical-align: top;\n",
       "    }\n",
       "\n",
       "    .dataframe thead th {\n",
       "        text-align: right;\n",
       "    }\n",
       "</style>\n",
       "<table border=\"1\" class=\"dataframe\">\n",
       "  <thead>\n",
       "    <tr style=\"text-align: right;\">\n",
       "      <th></th>\n",
       "      <th>state</th>\n",
       "      <th>participation</th>\n",
       "      <th>ebrw</th>\n",
       "      <th>math</th>\n",
       "      <th>total</th>\n",
       "      <th>year</th>\n",
       "    </tr>\n",
       "  </thead>\n",
       "  <tbody>\n",
       "    <tr>\n",
       "      <th>47</th>\n",
       "      <td>Virgin Islands</td>\n",
       "      <td>NaN</td>\n",
       "      <td>490</td>\n",
       "      <td>445</td>\n",
       "      <td>935</td>\n",
       "      <td>2019</td>\n",
       "    </tr>\n",
       "    <tr>\n",
       "      <th>50</th>\n",
       "      <td>West Virginia</td>\n",
       "      <td>0.99</td>\n",
       "      <td>483</td>\n",
       "      <td>460</td>\n",
       "      <td>943</td>\n",
       "      <td>2019</td>\n",
       "    </tr>\n",
       "    <tr>\n",
       "      <th>39</th>\n",
       "      <td>Puerto Rico</td>\n",
       "      <td>NaN</td>\n",
       "      <td>483</td>\n",
       "      <td>462</td>\n",
       "      <td>944</td>\n",
       "      <td>2019</td>\n",
       "    </tr>\n",
       "    <tr>\n",
       "      <th>36</th>\n",
       "      <td>Oklahoma</td>\n",
       "      <td>0.22</td>\n",
       "      <td>490</td>\n",
       "      <td>472</td>\n",
       "      <td>963</td>\n",
       "      <td>2019</td>\n",
       "    </tr>\n",
       "    <tr>\n",
       "      <th>8</th>\n",
       "      <td>District of Columbia</td>\n",
       "      <td>0.94</td>\n",
       "      <td>495</td>\n",
       "      <td>480</td>\n",
       "      <td>975</td>\n",
       "      <td>2019</td>\n",
       "    </tr>\n",
       "  </tbody>\n",
       "</table>\n",
       "</div>"
      ],
      "text/plain": [
       "                   state  participation  ebrw  math  total  year\n",
       "47        Virgin Islands            NaN   490   445    935  2019\n",
       "50         West Virginia           0.99   483   460    943  2019\n",
       "39           Puerto Rico            NaN   483   462    944  2019\n",
       "36              Oklahoma           0.22   490   472    963  2019\n",
       "8   District of Columbia           0.94   495   480    975  2019"
      ]
     },
     "execution_count": 67,
     "metadata": {},
     "output_type": "execute_result"
    }
   ],
   "source": [
    "# SAT 2019 lowest score in total\n",
    "all_sat_2019_low_total = all_sat[mask_2019].sort_values('total',ascending = True)\n",
    "all_sat_2019_low_total.head()"
   ]
  },
  {
   "cell_type": "code",
   "execution_count": 68,
   "metadata": {},
   "outputs": [],
   "source": [
    "# create masks for all_sat_ca\n",
    "mask_2017_ca = all_sat_ca ['year'] == 2017\n",
    "mask_2018_ca = all_sat_ca ['year'] == 2018\n",
    "mask_2019_ca = all_sat_ca ['year'] == 2019"
   ]
  },
  {
   "cell_type": "code",
   "execution_count": 69,
   "metadata": {},
   "outputs": [
    {
     "data": {
      "text/html": [
       "<div>\n",
       "<style scoped>\n",
       "    .dataframe tbody tr th:only-of-type {\n",
       "        vertical-align: middle;\n",
       "    }\n",
       "\n",
       "    .dataframe tbody tr th {\n",
       "        vertical-align: top;\n",
       "    }\n",
       "\n",
       "    .dataframe thead th {\n",
       "        text-align: right;\n",
       "    }\n",
       "</style>\n",
       "<table border=\"1\" class=\"dataframe\">\n",
       "  <thead>\n",
       "    <tr style=\"text-align: right;\">\n",
       "      <th></th>\n",
       "      <th>rtype</th>\n",
       "      <th>cname</th>\n",
       "      <th>pcterwben</th>\n",
       "      <th>pctmathben</th>\n",
       "      <th>pctbothben</th>\n",
       "      <th>year</th>\n",
       "    </tr>\n",
       "  </thead>\n",
       "  <tbody>\n",
       "    <tr>\n",
       "      <th>701</th>\n",
       "      <td>C</td>\n",
       "      <td>El Dorado</td>\n",
       "      <td>92.08</td>\n",
       "      <td>81.78</td>\n",
       "      <td>79.50</td>\n",
       "      <td>2017</td>\n",
       "    </tr>\n",
       "    <tr>\n",
       "      <th>1117</th>\n",
       "      <td>C</td>\n",
       "      <td>Nevada</td>\n",
       "      <td>94.31</td>\n",
       "      <td>72.95</td>\n",
       "      <td>72.60</td>\n",
       "      <td>2017</td>\n",
       "    </tr>\n",
       "    <tr>\n",
       "      <th>577</th>\n",
       "      <td>C</td>\n",
       "      <td>Amador</td>\n",
       "      <td>91.35</td>\n",
       "      <td>74.04</td>\n",
       "      <td>72.12</td>\n",
       "      <td>2017</td>\n",
       "    </tr>\n",
       "    <tr>\n",
       "      <th>1369</th>\n",
       "      <td>C</td>\n",
       "      <td>Shasta</td>\n",
       "      <td>90.23</td>\n",
       "      <td>74.17</td>\n",
       "      <td>72.08</td>\n",
       "      <td>2017</td>\n",
       "    </tr>\n",
       "    <tr>\n",
       "      <th>1495</th>\n",
       "      <td>C</td>\n",
       "      <td>Tuolumne</td>\n",
       "      <td>87.10</td>\n",
       "      <td>73.39</td>\n",
       "      <td>70.97</td>\n",
       "      <td>2017</td>\n",
       "    </tr>\n",
       "  </tbody>\n",
       "</table>\n",
       "</div>"
      ],
      "text/plain": [
       "     rtype      cname  pcterwben  pctmathben  pctbothben  year\n",
       "701      C  El Dorado      92.08       81.78       79.50  2017\n",
       "1117     C     Nevada      94.31       72.95       72.60  2017\n",
       "577      C     Amador      91.35       74.04       72.12  2017\n",
       "1369     C     Shasta      90.23       74.17       72.08  2017\n",
       "1495     C   Tuolumne      87.10       73.39       70.97  2017"
      ]
     },
     "execution_count": 69,
     "metadata": {},
     "output_type": "execute_result"
    }
   ],
   "source": [
    "# SAT 2017 California highest score % in both\n",
    "all_sat_ca_2017_high_both = all_sat_ca[mask_2017_ca].sort_values('pctbothben',ascending = False)\n",
    "all_sat_ca_2017_high_both.head()"
   ]
  },
  {
   "cell_type": "code",
   "execution_count": 70,
   "metadata": {},
   "outputs": [
    {
     "data": {
      "text/html": [
       "<div>\n",
       "<style scoped>\n",
       "    .dataframe tbody tr th:only-of-type {\n",
       "        vertical-align: middle;\n",
       "    }\n",
       "\n",
       "    .dataframe tbody tr th {\n",
       "        vertical-align: top;\n",
       "    }\n",
       "\n",
       "    .dataframe thead th {\n",
       "        text-align: right;\n",
       "    }\n",
       "</style>\n",
       "<table border=\"1\" class=\"dataframe\">\n",
       "  <thead>\n",
       "    <tr style=\"text-align: right;\">\n",
       "      <th></th>\n",
       "      <th>rtype</th>\n",
       "      <th>cname</th>\n",
       "      <th>pcterwben</th>\n",
       "      <th>pctmathben</th>\n",
       "      <th>pctbothben</th>\n",
       "      <th>year</th>\n",
       "    </tr>\n",
       "  </thead>\n",
       "  <tbody>\n",
       "    <tr>\n",
       "      <th>679</th>\n",
       "      <td>C</td>\n",
       "      <td>El Dorado</td>\n",
       "      <td>90.55</td>\n",
       "      <td>80.89</td>\n",
       "      <td>77.42</td>\n",
       "      <td>2018</td>\n",
       "    </tr>\n",
       "    <tr>\n",
       "      <th>969</th>\n",
       "      <td>C</td>\n",
       "      <td>Marin</td>\n",
       "      <td>90.47</td>\n",
       "      <td>72.26</td>\n",
       "      <td>71.59</td>\n",
       "      <td>2018</td>\n",
       "    </tr>\n",
       "    <tr>\n",
       "      <th>1275</th>\n",
       "      <td>C</td>\n",
       "      <td>San Mateo</td>\n",
       "      <td>86.50</td>\n",
       "      <td>72.70</td>\n",
       "      <td>70.42</td>\n",
       "      <td>2018</td>\n",
       "    </tr>\n",
       "    <tr>\n",
       "      <th>1189</th>\n",
       "      <td>C</td>\n",
       "      <td>Placer</td>\n",
       "      <td>89.65</td>\n",
       "      <td>71.08</td>\n",
       "      <td>69.51</td>\n",
       "      <td>2018</td>\n",
       "    </tr>\n",
       "    <tr>\n",
       "      <th>1167</th>\n",
       "      <td>C</td>\n",
       "      <td>Nevada</td>\n",
       "      <td>92.16</td>\n",
       "      <td>70.52</td>\n",
       "      <td>69.40</td>\n",
       "      <td>2018</td>\n",
       "    </tr>\n",
       "  </tbody>\n",
       "</table>\n",
       "</div>"
      ],
      "text/plain": [
       "     rtype      cname  pcterwben  pctmathben  pctbothben  year\n",
       "679      C  El Dorado      90.55       80.89       77.42  2018\n",
       "969      C      Marin      90.47       72.26       71.59  2018\n",
       "1275     C  San Mateo      86.50       72.70       70.42  2018\n",
       "1189     C     Placer      89.65       71.08       69.51  2018\n",
       "1167     C     Nevada      92.16       70.52       69.40  2018"
      ]
     },
     "execution_count": 70,
     "metadata": {},
     "output_type": "execute_result"
    }
   ],
   "source": [
    "# SAT 2018 California highest score % in both\n",
    "all_sat_ca_2018_high_both = all_sat_ca[mask_2018_ca].sort_values('pctbothben',ascending = False)\n",
    "all_sat_ca_2018_high_both.head()"
   ]
  },
  {
   "cell_type": "code",
   "execution_count": 71,
   "metadata": {},
   "outputs": [
    {
     "data": {
      "text/html": [
       "<div>\n",
       "<style scoped>\n",
       "    .dataframe tbody tr th:only-of-type {\n",
       "        vertical-align: middle;\n",
       "    }\n",
       "\n",
       "    .dataframe tbody tr th {\n",
       "        vertical-align: top;\n",
       "    }\n",
       "\n",
       "    .dataframe thead th {\n",
       "        text-align: right;\n",
       "    }\n",
       "</style>\n",
       "<table border=\"1\" class=\"dataframe\">\n",
       "  <thead>\n",
       "    <tr style=\"text-align: right;\">\n",
       "      <th></th>\n",
       "      <th>rtype</th>\n",
       "      <th>cname</th>\n",
       "      <th>pcterwben</th>\n",
       "      <th>pctmathben</th>\n",
       "      <th>pctbothben</th>\n",
       "      <th>year</th>\n",
       "    </tr>\n",
       "  </thead>\n",
       "  <tbody>\n",
       "    <tr>\n",
       "      <th>219</th>\n",
       "      <td>C</td>\n",
       "      <td>El Dorado</td>\n",
       "      <td>90.56</td>\n",
       "      <td>75.83</td>\n",
       "      <td>73.18</td>\n",
       "      <td>2019</td>\n",
       "    </tr>\n",
       "    <tr>\n",
       "      <th>1086</th>\n",
       "      <td>C</td>\n",
       "      <td>Mariposa</td>\n",
       "      <td>91.67</td>\n",
       "      <td>75.00</td>\n",
       "      <td>72.22</td>\n",
       "      <td>2019</td>\n",
       "    </tr>\n",
       "    <tr>\n",
       "      <th>1370</th>\n",
       "      <td>C</td>\n",
       "      <td>Placer</td>\n",
       "      <td>87.24</td>\n",
       "      <td>71.21</td>\n",
       "      <td>68.91</td>\n",
       "      <td>2019</td>\n",
       "    </tr>\n",
       "    <tr>\n",
       "      <th>1079</th>\n",
       "      <td>C</td>\n",
       "      <td>Marin</td>\n",
       "      <td>88.60</td>\n",
       "      <td>69.84</td>\n",
       "      <td>68.81</td>\n",
       "      <td>2019</td>\n",
       "    </tr>\n",
       "    <tr>\n",
       "      <th>1221</th>\n",
       "      <td>C</td>\n",
       "      <td>Nevada</td>\n",
       "      <td>85.48</td>\n",
       "      <td>70.43</td>\n",
       "      <td>68.28</td>\n",
       "      <td>2019</td>\n",
       "    </tr>\n",
       "  </tbody>\n",
       "</table>\n",
       "</div>"
      ],
      "text/plain": [
       "     rtype      cname  pcterwben  pctmathben  pctbothben  year\n",
       "219      C  El Dorado      90.56       75.83       73.18  2019\n",
       "1086     C   Mariposa      91.67       75.00       72.22  2019\n",
       "1370     C     Placer      87.24       71.21       68.91  2019\n",
       "1079     C      Marin      88.60       69.84       68.81  2019\n",
       "1221     C     Nevada      85.48       70.43       68.28  2019"
      ]
     },
     "execution_count": 71,
     "metadata": {},
     "output_type": "execute_result"
    }
   ],
   "source": [
    "# SAT 2019 California highest score % in both\n",
    "all_sat_ca_2019_high_both = all_sat_ca[mask_2019_ca].sort_values('pctbothben',ascending = False)\n",
    "all_sat_ca_2019_high_both.head()"
   ]
  },
  {
   "cell_type": "code",
   "execution_count": 72,
   "metadata": {},
   "outputs": [
    {
     "data": {
      "text/html": [
       "<div>\n",
       "<style scoped>\n",
       "    .dataframe tbody tr th:only-of-type {\n",
       "        vertical-align: middle;\n",
       "    }\n",
       "\n",
       "    .dataframe tbody tr th {\n",
       "        vertical-align: top;\n",
       "    }\n",
       "\n",
       "    .dataframe thead th {\n",
       "        text-align: right;\n",
       "    }\n",
       "</style>\n",
       "<table border=\"1\" class=\"dataframe\">\n",
       "  <thead>\n",
       "    <tr style=\"text-align: right;\">\n",
       "      <th></th>\n",
       "      <th>rtype</th>\n",
       "      <th>cname</th>\n",
       "      <th>pcterwben</th>\n",
       "      <th>pctmathben</th>\n",
       "      <th>pctbothben</th>\n",
       "      <th>year</th>\n",
       "    </tr>\n",
       "  </thead>\n",
       "  <tbody>\n",
       "    <tr>\n",
       "      <th>983</th>\n",
       "      <td>C</td>\n",
       "      <td>Madera</td>\n",
       "      <td>61.98</td>\n",
       "      <td>31.66</td>\n",
       "      <td>29.09</td>\n",
       "      <td>2017</td>\n",
       "    </tr>\n",
       "    <tr>\n",
       "      <th>720</th>\n",
       "      <td>C</td>\n",
       "      <td>Fresno</td>\n",
       "      <td>59.79</td>\n",
       "      <td>34.11</td>\n",
       "      <td>31.98</td>\n",
       "      <td>2017</td>\n",
       "    </tr>\n",
       "    <tr>\n",
       "      <th>1027</th>\n",
       "      <td>C</td>\n",
       "      <td>Merced</td>\n",
       "      <td>65.93</td>\n",
       "      <td>36.08</td>\n",
       "      <td>33.35</td>\n",
       "      <td>2017</td>\n",
       "    </tr>\n",
       "    <tr>\n",
       "      <th>849</th>\n",
       "      <td>C</td>\n",
       "      <td>Kings</td>\n",
       "      <td>69.19</td>\n",
       "      <td>35.97</td>\n",
       "      <td>33.71</td>\n",
       "      <td>2017</td>\n",
       "    </tr>\n",
       "    <tr>\n",
       "      <th>733</th>\n",
       "      <td>C</td>\n",
       "      <td>Glenn</td>\n",
       "      <td>72.31</td>\n",
       "      <td>34.62</td>\n",
       "      <td>34.62</td>\n",
       "      <td>2017</td>\n",
       "    </tr>\n",
       "  </tbody>\n",
       "</table>\n",
       "</div>"
      ],
      "text/plain": [
       "     rtype   cname  pcterwben  pctmathben  pctbothben  year\n",
       "983      C  Madera      61.98       31.66       29.09  2017\n",
       "720      C  Fresno      59.79       34.11       31.98  2017\n",
       "1027     C  Merced      65.93       36.08       33.35  2017\n",
       "849      C   Kings      69.19       35.97       33.71  2017\n",
       "733      C   Glenn      72.31       34.62       34.62  2017"
      ]
     },
     "execution_count": 72,
     "metadata": {},
     "output_type": "execute_result"
    }
   ],
   "source": [
    "# SAT 2017 California lowest score % in both\n",
    "all_sat_ca_2017_low_both = all_sat_ca[mask_2017_ca].sort_values('pctbothben',ascending = True)\n",
    "all_sat_ca_2017_low_both.head()"
   ]
  },
  {
   "cell_type": "code",
   "execution_count": 73,
   "metadata": {
    "scrolled": true
   },
   "outputs": [
    {
     "data": {
      "text/html": [
       "<div>\n",
       "<style scoped>\n",
       "    .dataframe tbody tr th:only-of-type {\n",
       "        vertical-align: middle;\n",
       "    }\n",
       "\n",
       "    .dataframe tbody tr th {\n",
       "        vertical-align: top;\n",
       "    }\n",
       "\n",
       "    .dataframe thead th {\n",
       "        text-align: right;\n",
       "    }\n",
       "</style>\n",
       "<table border=\"1\" class=\"dataframe\">\n",
       "  <thead>\n",
       "    <tr style=\"text-align: right;\">\n",
       "      <th></th>\n",
       "      <th>rtype</th>\n",
       "      <th>cname</th>\n",
       "      <th>pcterwben</th>\n",
       "      <th>pctmathben</th>\n",
       "      <th>pctbothben</th>\n",
       "      <th>year</th>\n",
       "    </tr>\n",
       "  </thead>\n",
       "  <tbody>\n",
       "    <tr>\n",
       "      <th>746</th>\n",
       "      <td>C</td>\n",
       "      <td>Inyo</td>\n",
       "      <td>53.33</td>\n",
       "      <td>33.33</td>\n",
       "      <td>29.52</td>\n",
       "      <td>2018</td>\n",
       "    </tr>\n",
       "    <tr>\n",
       "      <th>955</th>\n",
       "      <td>C</td>\n",
       "      <td>Madera</td>\n",
       "      <td>61.34</td>\n",
       "      <td>33.58</td>\n",
       "      <td>30.73</td>\n",
       "      <td>2018</td>\n",
       "    </tr>\n",
       "    <tr>\n",
       "      <th>1033</th>\n",
       "      <td>C</td>\n",
       "      <td>Modoc</td>\n",
       "      <td>60.47</td>\n",
       "      <td>32.56</td>\n",
       "      <td>32.56</td>\n",
       "      <td>2018</td>\n",
       "    </tr>\n",
       "    <tr>\n",
       "      <th>617</th>\n",
       "      <td>C</td>\n",
       "      <td>Colusa</td>\n",
       "      <td>56.15</td>\n",
       "      <td>36.15</td>\n",
       "      <td>33.08</td>\n",
       "      <td>2018</td>\n",
       "    </tr>\n",
       "    <tr>\n",
       "      <th>1027</th>\n",
       "      <td>C</td>\n",
       "      <td>Merced</td>\n",
       "      <td>64.16</td>\n",
       "      <td>35.11</td>\n",
       "      <td>33.11</td>\n",
       "      <td>2018</td>\n",
       "    </tr>\n",
       "  </tbody>\n",
       "</table>\n",
       "</div>"
      ],
      "text/plain": [
       "     rtype   cname  pcterwben  pctmathben  pctbothben  year\n",
       "746      C    Inyo      53.33       33.33       29.52  2018\n",
       "955      C  Madera      61.34       33.58       30.73  2018\n",
       "1033     C   Modoc      60.47       32.56       32.56  2018\n",
       "617      C  Colusa      56.15       36.15       33.08  2018\n",
       "1027     C  Merced      64.16       35.11       33.11  2018"
      ]
     },
     "execution_count": 73,
     "metadata": {},
     "output_type": "execute_result"
    }
   ],
   "source": [
    "# SAT 2018 California lowest score % in both\n",
    "all_sat_ca_2018_low_both = all_sat_ca[mask_2018_ca].sort_values('pctbothben',ascending = True)\n",
    "all_sat_ca_2018_low_both.head()"
   ]
  },
  {
   "cell_type": "code",
   "execution_count": 74,
   "metadata": {},
   "outputs": [
    {
     "data": {
      "text/html": [
       "<div>\n",
       "<style scoped>\n",
       "    .dataframe tbody tr th:only-of-type {\n",
       "        vertical-align: middle;\n",
       "    }\n",
       "\n",
       "    .dataframe tbody tr th {\n",
       "        vertical-align: top;\n",
       "    }\n",
       "\n",
       "    .dataframe thead th {\n",
       "        text-align: right;\n",
       "    }\n",
       "</style>\n",
       "<table border=\"1\" class=\"dataframe\">\n",
       "  <thead>\n",
       "    <tr style=\"text-align: right;\">\n",
       "      <th></th>\n",
       "      <th>rtype</th>\n",
       "      <th>cname</th>\n",
       "      <th>pcterwben</th>\n",
       "      <th>pctmathben</th>\n",
       "      <th>pctbothben</th>\n",
       "      <th>year</th>\n",
       "    </tr>\n",
       "  </thead>\n",
       "  <tbody>\n",
       "    <tr>\n",
       "      <th>141</th>\n",
       "      <td>C</td>\n",
       "      <td>Colusa</td>\n",
       "      <td>52.70</td>\n",
       "      <td>20.27</td>\n",
       "      <td>18.92</td>\n",
       "      <td>2019</td>\n",
       "    </tr>\n",
       "    <tr>\n",
       "      <th>325</th>\n",
       "      <td>C</td>\n",
       "      <td>Glenn</td>\n",
       "      <td>64.44</td>\n",
       "      <td>30.00</td>\n",
       "      <td>27.78</td>\n",
       "      <td>2019</td>\n",
       "    </tr>\n",
       "    <tr>\n",
       "      <th>1060</th>\n",
       "      <td>C</td>\n",
       "      <td>Madera</td>\n",
       "      <td>62.67</td>\n",
       "      <td>30.77</td>\n",
       "      <td>28.73</td>\n",
       "      <td>2019</td>\n",
       "    </tr>\n",
       "    <tr>\n",
       "      <th>1137</th>\n",
       "      <td>C</td>\n",
       "      <td>Merced</td>\n",
       "      <td>61.51</td>\n",
       "      <td>31.97</td>\n",
       "      <td>29.12</td>\n",
       "      <td>2019</td>\n",
       "    </tr>\n",
       "    <tr>\n",
       "      <th>387</th>\n",
       "      <td>C</td>\n",
       "      <td>Inyo</td>\n",
       "      <td>53.41</td>\n",
       "      <td>35.23</td>\n",
       "      <td>31.82</td>\n",
       "      <td>2019</td>\n",
       "    </tr>\n",
       "  </tbody>\n",
       "</table>\n",
       "</div>"
      ],
      "text/plain": [
       "     rtype   cname  pcterwben  pctmathben  pctbothben  year\n",
       "141      C  Colusa      52.70       20.27       18.92  2019\n",
       "325      C   Glenn      64.44       30.00       27.78  2019\n",
       "1060     C  Madera      62.67       30.77       28.73  2019\n",
       "1137     C  Merced      61.51       31.97       29.12  2019\n",
       "387      C    Inyo      53.41       35.23       31.82  2019"
      ]
     },
     "execution_count": 74,
     "metadata": {},
     "output_type": "execute_result"
    }
   ],
   "source": [
    "# SAT 2019 California lowest score % in both\n",
    "all_sat_ca_2019_low_both = all_sat_ca[mask_2019_ca].sort_values('pctbothben',ascending = True)\n",
    "all_sat_ca_2019_low_both.head()"
   ]
  },
  {
   "cell_type": "markdown",
   "metadata": {},
   "source": [
    "## Visualize the Data\n",
    "\n",
    "There's not a magic bullet recommendation for the right number of plots to understand a given dataset, but visualizing your data is *always* a good idea. Not only does it allow you to quickly convey your findings (even if you have a non-technical audience), it will often reveal trends in your data that escaped you when you were looking only at numbers. It is important to not only create visualizations, but to **interpret your visualizations** as well.\n",
    "\n",
    "**Every plot should**:\n",
    "- Have a title\n",
    "- Have axis labels\n",
    "- Have appropriate tick labels\n",
    "- Text is legible in a plot\n",
    "- Plots demonstrate meaningful and valid relationships\n",
    "- Have an interpretation to aid understanding\n",
    "\n",
    "Here is an example of what your plots should look like following the above guidelines. Note that while the content of this example is unrelated, the principles of visualization hold:\n",
    "\n",
    "![](https://snag.gy/hCBR1U.jpg)\n",
    "*Interpretation: The above image shows that as we increase our spending on advertising, our sales numbers also tend to increase. There is a positive correlation between advertising spending and sales.*\n",
    "\n",
    "---\n",
    "\n",
    "Here are some prompts to get you started with visualizations. Feel free to add additional visualizations as you see fit:\n",
    "1. Use Seaborn's heatmap with pandas `.corr()` to visualize correlations between all numeric features.\n",
    "    - Heatmaps are generally not appropriate for presentations, and should often be excluded from reports as they can be visually overwhelming. **However**, they can be extremely useful in identify relationships of potential interest (as well as identifying potential collinearity before modeling).\n",
    "    - Please take time to format your output, adding a title. Look through some of the additional arguments and options. (Axis labels aren't really necessary, as long as the title is informative).\n",
    "2. Visualize distributions using histograms. If you have a lot, consider writing a custom function and use subplots.\n",
    "    - *OPTIONAL*: Summarize the underlying distributions of your features (in words & statistics)\n",
    "         - Be thorough in your verbal description of these distributions.\n",
    "         - Be sure to back up these summaries with statistics.\n",
    "         - We generally assume that data we sample from a population will be normally distributed. Do we observe this trend? Explain your answers for each distribution and how you think this will affect estimates made from these data.\n",
    "3. Plot and interpret boxplots. \n",
    "    - Boxplots demonstrate central tendency and spread in variables. In a certain sense, these are somewhat redundant with histograms, but you may be better able to identify clear outliers or differences in IQR, etc.\n",
    "    - Multiple values can be plotted to a single boxplot as long as they are of the same relative scale (meaning they have similar min/max values).\n",
    "    - Each boxplot should:\n",
    "        - Only include variables of a similar scale\n",
    "        - Have clear labels for each variable\n",
    "        - Have appropriate titles and labels\n",
    "4. Plot and interpret scatter plots to view relationships between features. Feel free to write a custom function, and subplot if you'd like. Functions save both time and space.\n",
    "    - Your plots should have:\n",
    "        - Two clearly labeled axes\n",
    "        - A proper title\n",
    "        - Colors and symbols that are clear and unmistakable\n",
    "5. Additional plots of your choosing.\n",
    "    - Are there any additional trends or relationships you haven't explored? Was there something interesting you saw that you'd like to dive further into? It's likely that there are a few more plots you might want to generate to support your narrative and recommendations that you are building toward. **As always, make sure you're interpreting your plots as you go**."
   ]
  },
  {
   "cell_type": "markdown",
   "metadata": {},
   "source": [
    "1. Use Seaborn's heatmap with pandas `.corr()` to visualize correlations between all numeric features.\n",
    "    - Heatmaps are generally not appropriate for presentations, and should often be excluded from reports as they can be visually overwhelming. **However**, they can be extremely useful in identify relationships of potential interest (as well as identifying potential collinearity before modeling).\n",
    "    - Please take time to format your output, adding a title. Look through some of the additional arguments and options. (Axis labels aren't really necessary, as long as the title is informative)."
   ]
  },
  {
   "cell_type": "markdown",
   "metadata": {},
   "source": [
    "#### The comparision of performance of California with other states in SAT for 2017 - 2019"
   ]
  },
  {
   "cell_type": "code",
   "execution_count": 76,
   "metadata": {},
   "outputs": [
    {
     "data": {
      "text/plain": [
       "<AxesSubplot:xlabel='state', ylabel='year'>"
      ]
     },
     "execution_count": 76,
     "metadata": {},
     "output_type": "execute_result"
    },
    {
     "data": {
      "image/png": "[encoded data removed]",
      "text/plain": [
       "<Figure size 1800x576 with 2 Axes>"
      ]
     },
     "metadata": {
      "needs_background": "light"
     },
     "output_type": "display_data"
    }
   ],
   "source": [
    "# sat_all heatmap\n",
    "fig, ax = plt.subplots(figsize=(25,8))\n",
    "new_all_sat = all_sat.pivot('year','state','total')\n",
    "sns.heatmap(new_all_sat)"
   ]
  },
  {
   "cell_type": "markdown",
   "metadata": {},
   "source": [
    "#### The comparision of performance of county in California in SAT for 2017 - 2019 in % of meeting benchmarks"
   ]
  },
  {
   "cell_type": "code",
   "execution_count": 77,
   "metadata": {},
   "outputs": [
    {
     "data": {
      "text/plain": [
       "<AxesSubplot:xlabel='cname', ylabel='year'>"
      ]
     },
     "execution_count": 77,
     "metadata": {},
     "output_type": "execute_result"
    },
    {
     "data": {
      "image/png": "[encoded data removed]",
      "text/plain": [
       "<Figure size 1800x576 with 2 Axes>"
      ]
     },
     "metadata": {
      "needs_background": "light"
     },
     "output_type": "display_data"
    }
   ],
   "source": [
    "# sat_all_ca heatmap\n",
    "fig, ax = plt.subplots(figsize=(25,8))\n",
    "new_all_sat_ca = all_sat_ca.pivot('year','cname','pctbothben')\n",
    "sns.heatmap(new_all_sat_ca)"
   ]
  },
  {
   "cell_type": "markdown",
   "metadata": {},
   "source": [
    "2. Visualize distributions using histograms. If you have a lot, consider writing a custom function and use subplots.\n",
    "    - *OPTIONAL*: Summarize the underlying distributions of your features (in words & statistics)\n",
    "         - Be thorough in your verbal description of these distributions.\n",
    "         - Be sure to back up these summaries with statistics.\n",
    "         - We generally assume that data we sample from a population will be normally distributed. Do we observe this trend? Explain your answers for each distribution and how you think this will affect estimates made from these data."
   ]
  },
  {
   "cell_type": "code",
   "execution_count": null,
   "metadata": {},
   "outputs": [],
   "source": []
  },
  {
   "cell_type": "markdown",
   "metadata": {},
   "source": [
    "#### The comparision of performance of California with other states"
   ]
  },
  {
   "cell_type": "code",
   "execution_count": null,
   "metadata": {},
   "outputs": [],
   "source": [
    "sns.lineplot('state', 'total', ci=None, \n",
    "             hue='year', data=all_sat)\n",
    "\n",
    "\n",
    "fig = plt.gcf()\n",
    "fig.set_size_inches(14, 10)\n",
    "\n",
    "plt.title('SAT test score performance of States  2017 - 2019')\n",
    "plt.xlabel('States')\n",
    "plt.ylabel('Total score Math and EBRW')\n",
    "plt.xticks(rotation = 90);"
   ]
  },
  {
   "cell_type": "markdown",
   "metadata": {},
   "source": [
    "#### The comparision of performance of county in California"
   ]
  },
  {
   "cell_type": "code",
   "execution_count": 382,
   "metadata": {},
   "outputs": [
    {
     "data": {
      "image/png": "[encoded data removed]",
      "text/plain": [
       "<Figure size 1008x720 with 1 Axes>"
      ]
     },
     "metadata": {},
     "output_type": "display_data"
    }
   ],
   "source": [
    "sns.lineplot('cname', 'pctbothben', ci=None, \n",
    "             hue='year', data=all_sat_ca)\n",
    "\n",
    "\n",
    "fig = plt.gcf()\n",
    "fig.set_size_inches(14, 10)\n",
    "\n",
    "plt.title('SAT test score performance of County in California  2017 - 2019')\n",
    "plt.xlabel('County')\n",
    "plt.ylabel('Total score Math and EBRW')\n",
    "plt.xticks(rotation = 90);"
   ]
  },
  {
   "cell_type": "markdown",
   "metadata": {},
   "source": [
    "## Conclusions and Recommendations"
   ]
  },
  {
   "cell_type": "markdown",
   "metadata": {},
   "source": [
    "Based on your exploration of the data, what are you key takeaways and recommendations? Make sure to answer your question of interest or address your problem statement here."
   ]
  },
  {
   "cell_type": "markdown",
   "metadata": {},
   "source": [
    "**To-Do:** *Edit this cell with your conclusions and recommendations.*"
   ]
  },
  {
   "cell_type": "markdown",
   "metadata": {},
   "source": [
    "Don't forget to create your README!\n",
    "\n",
    "**To-Do:** *If you combine your problem statement, data dictionary, brief summary of your analysis, and conclusions/recommendations, you have an amazing README.md file that quickly aligns your audience to the contents of your project.* Don't forget to cite your data sources!"
   ]
  }
 ],
 "metadata": {
  "anaconda-cloud": {},
  "kernelspec": {
   "display_name": "Python 3",
   "language": "python",
   "name": "python3"
  },
  "language_info": {
   "codemirror_mode": {
    "name": "ipython",
    "version": 3
   },
   "file_extension": ".py",
   "mimetype": "text/x-python",
   "name": "python",
   "nbconvert_exporter": "python",
   "pygments_lexer": "ipython3",
   "version": "3.8.8"
  }
 },
 "nbformat": 4,
 "nbformat_minor": 4
}
