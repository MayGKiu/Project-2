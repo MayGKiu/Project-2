{
 "cells": [
  {
   "cell_type": "markdown",
   "metadata": {},
   "source": [
    "<img src=\"http://imgur.com/1ZcRyrc.png\" style=\"float: left; margin: 20px; height: 55px\">\n",
    "\n",
    "# Functions\n",
    "\n",
    "_Authors: Matt Brems (DC), Riley Dallas (ATX)_\n",
    "\n",
    "---\n",
    "\n",
    "### Lesson objectives\n",
    "\n",
    "By the end of this lesson, you should be able to:\n",
    "\n",
    "1. Successfully **create** and **invoke** a function\n",
    "2. Understand how to use parameters in a function\n",
    "3. Understand how to return a value from a function\n",
    "4. Know what a lambda function is and how to create one\n",
    "\n",
    "\n",
    "## Intro\n",
    "---\n",
    "So far, we've used built-in functions like print, type, round, etc. Today, we're taking this to the next level by being able to create + call our own functions. When covering control flow, we introduced when functions will come in use --> (recap) Often we want to bottle up complex pieces of code and run it many times throughout our code, a little different each time, without having to rewrite the whole thing\n",
    "\n",
    "From the pre-work (and perhaps what you've done before DSI), remember that functions:\n",
    "- start with `def`, followed by the name of the function.\n",
    "- take inputs (or arguments).\n",
    "- return outputs.\n",
    "- use `return` instead of `print`. --> generally, return enables accesing function output *outside* the function\n",
    "- are used frequently to make coding more efficient."
   ]
  },
  {
   "cell_type": "markdown",
   "metadata": {},
   "source": [
    "## Activity: Basic function\n",
    "---\n",
    "\n",
    "Create a function in cell below called `greeting` that prints `\"Howdy\"`."
   ]
  },
  {
   "cell_type": "code",
   "execution_count": 9,
   "metadata": {},
   "outputs": [],
   "source": [
    "# \"Declaring\" a function --> Creating a function\n",
    "def greeting():# greeting is our custom function's name (it can be anything, but better to be representative like variable naming)\n",
    "    print('Howdy')"
   ]
  },
  {
   "cell_type": "code",
   "execution_count": 10,
   "metadata": {},
   "outputs": [
    {
     "name": "stdout",
     "output_type": "stream",
     "text": [
      "Howdy\n"
     ]
    }
   ],
   "source": [
    "# \"Calling\" the function --> Executing a function\n",
    "greeting()"
   ]
  },
  {
   "cell_type": "markdown",
   "metadata": {},
   "source": [
    "### function syntax:\n",
    "***To declare:***\n",
    "```python\n",
    "def function_name(function_arguments):\n",
    "    function_actions\n",
    "    print output # we'll see further down that there is another alternative best practise vs print()\n",
    "```\n",
    "***To call:***\n",
    "```python\n",
    "function_name(function_arguments)\n",
    "```"
   ]
  },
  {
   "cell_type": "markdown",
   "metadata": {},
   "source": [
    "## Activity: Function parameters\n",
    "---\n",
    "\n",
    "In the [Kaggle Titanic competition](https://www.kaggle.com/c/titanic/data), the names of everyone in the manifest look like this:\n",
    "> Last, Title. First\n",
    "\n",
    "***Create a function called `titanic_name` that accepts 3 parameters:***\n",
    "- `first_name`\n",
    "- `last_name`\n",
    "- `title` \n",
    "\n",
    "And prints the full name in the format above."
   ]
  },
  {
   "cell_type": "code",
   "execution_count": 3,
   "metadata": {},
   "outputs": [
    {
     "name": "stdout",
     "output_type": "stream",
     "text": [
      "Smith, Mr. John\n",
      "Smith, Mr. John\n"
     ]
    }
   ],
   "source": [
    "def titanic_name(first_name, last_name, title):\n",
    "    # Via string concatentation\n",
    "    print(last_name + ', ' + title + '. ' + first_name)\n",
    "    \n",
    "    # Via string interpolation --> f-strings take strings within '', variables within {}, decimals to round off {variable:.2f} \n",
    "    print(f'{last_name}, {title}. {first_name}')\n",
    "    \n",
    "titanic_name('John', 'Smith', 'Mr')"
   ]
  },
  {
   "cell_type": "markdown",
   "metadata": {},
   "source": [
    "## Named parameters vs Ordered parameters\n",
    "---\n",
    "\n",
    "In the above example, the order in which you add your arguments coincides with the order of the parameters in the function declaration. If you called them out of order like so:\n",
    "```python\n",
    "titanic_name('Doe', 'Captain', 'John')\n",
    "```\n",
    "\n",
    "Then the following would happen:\n",
    "\n",
    "1. `'Doe'` would be assigned to `first_name`\n",
    "2. `'Captain'` would be assigned to `last_name`\n",
    "3. `'John'` would be assigned to `title`.\n",
    "\n",
    "As a result, the function would print `'Captain, John. Doe'`."
   ]
  },
  {
   "cell_type": "code",
   "execution_count": 4,
   "metadata": {},
   "outputs": [
    {
     "name": "stdout",
     "output_type": "stream",
     "text": [
      "Capt, John. Doe\n",
      "Capt, John. Doe\n"
     ]
    }
   ],
   "source": [
    "titanic_name('Doe', 'Capt', 'John')"
   ]
  },
  {
   "cell_type": "markdown",
   "metadata": {},
   "source": [
    "You can get around this by referencing the parameters by name:\n",
    "\n",
    "```python\n",
    "titanic_name(last_name='Doe', title='Captain', first_name='John')\n",
    "```\n",
    "\n",
    "Notice the order is the same as our bug: `('Doe', 'Captain', 'John')`. Only now the function will work properly.\n",
    "\n",
    "To summarize, ordering your parameters matters **unless you reference the parameters by name**."
   ]
  },
  {
   "cell_type": "code",
   "execution_count": 5,
   "metadata": {},
   "outputs": [
    {
     "name": "stdout",
     "output_type": "stream",
     "text": [
      "Doe, Capt. John\n",
      "Doe, Capt. John\n"
     ]
    }
   ],
   "source": [
    "# explicit parameter definition during function call\n",
    "titanic_name(last_name='Doe', title='Capt', first_name='John')"
   ]
  },
  {
   "cell_type": "markdown",
   "metadata": {},
   "source": [
    "## Returning values from a function\n",
    "---\n",
    "\n",
    "Let's say we want to use the result from our `titanic_name` function elsewhere in our code. To do this, we'll set a variable like so:\n",
    "```python\n",
    "formatted_name = titanic_name(last_name='Doe', title='Captain', first_name='John')\n",
    "```\n",
    "\n",
    "We'd expect `formatted_name` to be `'Doe, Captain. John'`, but that's not the case. When we output `formatted_name` in a cell, we see that nothing shows up. This is because our function **prints** the name `'Doe, Captain. John'`, but nothing gets returned. \n",
    "\n",
    "**Remember** printing is merely for you the developer to debug your code. In order to use result from `titanic_name` elsewhere in our code, we need to explicitly return it!\n",
    "```python\n",
    "def titanic_name(first_name, last_name, title):\n",
    "    return f'{last_name}, {title}. {first_name}'\n",
    "```"
   ]
  },
  {
   "cell_type": "code",
   "execution_count": 6,
   "metadata": {},
   "outputs": [],
   "source": [
    "def titanic_name(first_name, last_name, title):\n",
    "    return f'{last_name}, {title}. {first_name}'"
   ]
  },
  {
   "cell_type": "code",
   "execution_count": 7,
   "metadata": {},
   "outputs": [],
   "source": [
    "formatted_name = titanic_name(last_name='Doe', title='Capt', first_name='John')"
   ]
  },
  {
   "cell_type": "code",
   "execution_count": 8,
   "metadata": {},
   "outputs": [
    {
     "data": {
      "text/plain": [
       "'Doe, Capt. John'"
      ]
     },
     "execution_count": 8,
     "metadata": {},
     "output_type": "execute_result"
    }
   ],
   "source": [
    "formatted_name"
   ]
  },
  {
   "cell_type": "markdown",
   "metadata": {},
   "source": [
    "## Lambda functions\n",
    "---\n",
    "\n",
    "[Lambda functions](https://docs.python.org/3/tutorial/controlflow.html#lambda-expressions) allow us to create an **anonymous function** (a function without a name) on the fly. Lambda functions are mostly used while working with the `pandas` python library and we'll use them extensively when we learn about `pandas` next week.\n",
    "\n",
    "Here's a simple function named `greeting`:\n",
    "```python\n",
    "def greeting(name):\n",
    "    return f'Howdy, {name}'\n",
    "```\n",
    "\n",
    "And here is its `lambda` equivalent. The function now has no name:\n",
    "```python\n",
    "lambda name: f'Howdy, {name}'\n",
    "```\n",
    "\n",
    "The primary differences between named and lambda functions are:\n",
    "\n",
    "1. `lambda` functions don't have a name\n",
    "2. `lambda` functions are used only for logic that can be written on one line --> concise! compared to multi-line named functions\n",
    "3. `lambda` functions don't require a `return`. It's implied that the `lambda` function above will return `\"Howdy, NAME\"`"
   ]
  },
  {
   "cell_type": "code",
   "execution_count": 20,
   "metadata": {},
   "outputs": [
    {
     "data": {
      "text/plain": [
       "'Howdy, Arthur'"
      ]
     },
     "execution_count": 20,
     "metadata": {},
     "output_type": "execute_result"
    }
   ],
   "source": [
    "foo = lambda name: f'Howdy, {name}'\n",
    "foo('Arthur')"
   ]
  },
  {
   "cell_type": "markdown",
   "metadata": {},
   "source": [
    "## Challenge: DNA to RNA\n",
    "---\n",
    "\n",
    "If you've taken a Biology class, you know that DNA is essentially a long string comprised of 4 nucleotides:\n",
    "\n",
    "- Cytosine (C)\n",
    "- Thymine (T)\n",
    "- Adenine (A)\n",
    "- Guanine (G)\n",
    "\n",
    "Example:\n",
    "```python\n",
    "dna = 'ACGTAAAACGTGGTGGATTTGACGTGTTTG'\n",
    "```\n",
    "\n",
    "RNA is similar to DNA with one exception: all instances of Thymine (T) are replaced with Uracil (U). Our DNA from above would look like this:\n",
    "```python\n",
    "rna = 'ACGUAAAACGUGGUGGAUUUGACGUGUUUG'\n",
    "```\n",
    "\n",
    "***In the cell below, create a function called `dna_to_rna` that accepts a string of DNA and converts it to RNA.*** \n",
    "\n",
    "**Hint:** think of convert as a `replacement` - we covered a method of this in last lesson"
   ]
  },
  {
   "cell_type": "code",
   "execution_count": 10,
   "metadata": {},
   "outputs": [],
   "source": [
    "def dna_to_rna(dna):\n",
    "    return dna.upper().replace('T', 'U')"
   ]
  },
  {
   "cell_type": "code",
   "execution_count": 11,
   "metadata": {},
   "outputs": [
    {
     "data": {
      "text/plain": [
       "'ACGUAAAACGUGGUGGAUUUGACGUGUUUG'"
      ]
     },
     "execution_count": 11,
     "metadata": {},
     "output_type": "execute_result"
    }
   ],
   "source": [
    "dna_to_rna('ACGTAAAACGTGGTGGATTTGACGTGTTTG')"
   ]
  },
  {
   "cell_type": "markdown",
   "metadata": {},
   "source": [
    "## Challenge: Hamming Distance\n",
    "---\n",
    "\n",
    "The DNA strand `'AAAA'` is similar to the strand `'AAAT'` with one exception: the 4th nucleotide is different. In other words, the two strands have a **hamming distance** of 1, where hamming distance is the number of nucleotides that differ between two strands.\n",
    "\n",
    "In the cell below, create a function called `hamming_distance` that accepts two parameters (`dna1` and `dna2`) and calculates the hamming distance between the two strands. \n",
    "\n",
    "**NOTE:** You can assume the two strands will have the same length."
   ]
  },
  {
   "cell_type": "code",
   "execution_count": 21,
   "metadata": {},
   "outputs": [],
   "source": [
    "def hamming_distance(dna1, dna2): # function_name: hamming_distance, function_args: dna1, dna2\n",
    "    distance = 0 # initialize a variable to iteratively update with dist calculation\n",
    "    for i in range(len(dna1)):# loop over every letter in dna1 and perform check against letters in dna2\n",
    "        if dna1[i] != dna2[i]:# check for mismatch in letters between dna1, dna2\n",
    "            distance += 1 # increment distance variable for every mismatches letter\n",
    "    return distance"
   ]
  },
  {
   "cell_type": "code",
   "execution_count": 23,
   "metadata": {},
   "outputs": [
    {
     "data": {
      "text/plain": [
       "1"
      ]
     },
     "execution_count": 23,
     "metadata": {},
     "output_type": "execute_result"
    }
   ],
   "source": [
    "hamming_distance('AAAA', 'AAAT')"
   ]
  },
  {
   "cell_type": "markdown",
   "metadata": {},
   "source": [
    "##### Breaking down how the function `for` loop works for above call"
   ]
  },
  {
   "cell_type": "code",
   "execution_count": 5,
   "metadata": {},
   "outputs": [
    {
     "data": {
      "text/plain": [
       "4"
      ]
     },
     "execution_count": 5,
     "metadata": {},
     "output_type": "execute_result"
    }
   ],
   "source": [
    "dna1 = 'AAAA'\n",
    "dna2 = 'AAAT'\n",
    "len(dna1) # the output of this gets substituted inside range--> range(4)"
   ]
  },
  {
   "cell_type": "code",
   "execution_count": 4,
   "metadata": {},
   "outputs": [
    {
     "data": {
      "text/plain": [
       "range(0, 4)"
      ]
     },
     "execution_count": 4,
     "metadata": {},
     "output_type": "execute_result"
    }
   ],
   "source": [
    "range(4) # remember, range iteration is similar to slicing with index--> iterates from start to stop-1--> i = 0,1,2,3"
   ]
  },
  {
   "cell_type": "code",
   "execution_count": 6,
   "metadata": {},
   "outputs": [
    {
     "data": {
      "text/plain": [
       "False"
      ]
     },
     "execution_count": 6,
     "metadata": {},
     "output_type": "execute_result"
    }
   ],
   "source": [
    "# when i = 0\n",
    "dna1[0] != dna2[0] # `if` condition check within `for` loop does letter by letter comparison"
   ]
  },
  {
   "cell_type": "code",
   "execution_count": 8,
   "metadata": {},
   "outputs": [
    {
     "data": {
      "text/plain": [
       "True"
      ]
     },
     "execution_count": 8,
     "metadata": {},
     "output_type": "execute_result"
    }
   ],
   "source": [
    "# when i = 3\n",
    "dna1[3] != dna2[3] # `if` condition check only becomes `True` on last letter-->action:increment distance by 1 corresponding to 1st mismatch"
   ]
  },
  {
   "cell_type": "markdown",
   "metadata": {},
   "source": [
    "## Challenge: Find the divisors\n",
    "---\n",
    "\n",
    "From [codewars](https://www.codewars.com/kata/find-the-divisors/train/python). Create a function called `divisors` that accepts a number and returns a list of all the divisors for that number. \n",
    "\n",
    "For example: `divisors(12)` will return the list `[2, 3, 4, 6]`. A number divided by its divisors returns the remainder, 0. \n",
    "\n",
    "**Note**: 1 doesn't count as a divisor.\n",
    "\n",
    "**Note**: If the number doesn't have any divisors, it is prime (e.g. 13, 23, etc). In cases where the number is prime, simply return the string `'13 is prime'`."
   ]
  },
  {
   "cell_type": "code",
   "execution_count": 14,
   "metadata": {},
   "outputs": [],
   "source": [
    "def divisors(n):\n",
    "    divs = [] # declare empty list to hold all divisors\n",
    "    for i in range(2, int(n / 2) + 1): # n/2 bec for any given num, its largest divisor will be the num/2, see example with num#12 above\n",
    "        if n % i == 0: # modulo division\n",
    "            divs.append(i) # covered in last lesson. method to append new items to list\n",
    "    \n",
    "    if len(divs) > 0:# only if the num is not prime and has gathered list of divisors from above loop\n",
    "        return divs\n",
    "    else:\n",
    "        return f'{n} is prime' # no divisors from our loop operations, prime num"
   ]
  },
  {
   "cell_type": "code",
   "execution_count": 15,
   "metadata": {},
   "outputs": [
    {
     "data": {
      "text/plain": [
       "[2, 3, 4, 6]"
      ]
     },
     "execution_count": 15,
     "metadata": {},
     "output_type": "execute_result"
    }
   ],
   "source": [
    "divisors(12)"
   ]
  },
  {
   "cell_type": "code",
   "execution_count": 16,
   "metadata": {},
   "outputs": [
    {
     "data": {
      "text/plain": [
       "'13 is prime'"
      ]
     },
     "execution_count": 16,
     "metadata": {},
     "output_type": "execute_result"
    }
   ],
   "source": [
    "divisors(13)"
   ]
  },
  {
   "cell_type": "code",
   "execution_count": null,
   "metadata": {},
   "outputs": [],
   "source": []
  }
 ],
 "metadata": {
  "environment": {
   "name": "common-cpu.m79",
   "type": "gcloud",
   "uri": "gcr.io/deeplearning-platform-release/base-cpu:m79"
  },
  "kernelspec": {
   "display_name": "Python 3 (ipykernel)",
   "language": "python",
   "name": "python3"
  },
  "language_info": {
   "codemirror_mode": {
    "name": "ipython",
    "version": 3
   },
   "file_extension": ".py",
   "mimetype": "text/x-python",
   "name": "python",
   "nbconvert_exporter": "python",
   "pygments_lexer": "ipython3",
   "version": "3.8.10"
  }
 },
 "nbformat": 4,
 "nbformat_minor": 4
}
