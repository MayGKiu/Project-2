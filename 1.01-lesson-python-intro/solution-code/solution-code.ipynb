{
 "cells": [
  {
   "cell_type": "markdown",
   "metadata": {},
   "source": [
    "<img src=\"https://ga-dash.s3.amazonaws.com/production/assets/logo-9f88ae6c9c3871690e33280fcf557f33.png\" style=\"float: left; margin: 10px;\"> \n",
    "\n",
    "#  Intro to Python: Data Types\n",
    "\n",
    "_Authors: Tim Book, Noelle Brown_\n",
    "\n",
    "---\n",
    "\n",
    "### LEARNING OBJECTIVES\n",
    "*After this lesson, you will be able to:*\n",
    "- Learn to use basic Jupyter Notebook features\n",
    "- Define integers, strings, tuples, lists, and dictionaries\n",
    "- Demonstrate arithmetic operations and string operations"
   ]
  },
  {
   "cell_type": "markdown",
   "metadata": {},
   "source": [
    "## Some Intro Concepts\n",
    "\n",
    "- the biggest advantage of jupyter notebook for python coding is it allows cell-wise execution of codes. this is very helpful even at an expert coding level when we have large chunks of codes and they throw errors upon execution. breaking down code into smaller fragments not only helps in organization and readability but also eases error troubleshooting. generally from a good practice stand, it is better to organize and keep each cell performing one task\n",
    "- before we go down further into the actual codes, it is worth taking a closer look at how presentable jupyter notebook platform makes housing content, in general, not just code. double click into the first code cell and you will see that it is actually a *markdown* and allows including links, styling text, and so on. for the hashtags which are used to define headings, the more number of `#`, the smaller the text font gets. for `*`, single *italicizes* text within while double will make it **bold**. underscore also gives an alternate way to italicize text. another styling future is to add font colors to the markdown text by using `<span style=\"color:blue\">some blue text</span>`<span style=\"color:blue\">some blue text</span>, where the color can be changed to other colors too, try it out later and you can use that to add more life to your code notebook\n",
    "- I'm sure many or all of us have used Microsoft excel. the reason to bring up the good old excel is, for me personally in my coding journey, it has ALWAYS helped to draw reference to how I would execute something on Excel, then replicate that using code. Python can do EVERYTHING Excel allows and MUCH more right, so that is a super positive incentive to slowly upgrade and move towards Python programming"
   ]
  },
  {
   "cell_type": "markdown",
   "metadata": {},
   "source": [
    "## First and Foremost: Python is a Calculator\n",
    "_(...just like every other programming language)_\n",
    "\n",
    "Let's learn some common mathematical operations:"
   ]
  },
  {
   "cell_type": "code",
   "execution_count": 1,
   "metadata": {},
   "outputs": [
    {
     "data": {
      "text/plain": [
       "4"
      ]
     },
     "execution_count": 1,
     "metadata": {},
     "output_type": "execute_result"
    }
   ],
   "source": [
    "# Addition --> same as spreadsheet\n",
    "2+2"
   ]
  },
  {
   "cell_type": "code",
   "execution_count": 2,
   "metadata": {},
   "outputs": [
    {
     "data": {
      "text/plain": [
       "-4"
      ]
     },
     "execution_count": 2,
     "metadata": {},
     "output_type": "execute_result"
    }
   ],
   "source": [
    "# Subtraction (note we can have negative numbers!) --> same as spreadsheet\n",
    "3 - 7"
   ]
  },
  {
   "cell_type": "code",
   "execution_count": 3,
   "metadata": {},
   "outputs": [
    {
     "data": {
      "text/plain": [
       "10"
      ]
     },
     "execution_count": 3,
     "metadata": {},
     "output_type": "execute_result"
    }
   ],
   "source": [
    "# Multiplication --> same as spreadsheet\n",
    "5 * 2"
   ]
  },
  {
   "cell_type": "code",
   "execution_count": 4,
   "metadata": {},
   "outputs": [
    {
     "data": {
      "text/plain": [
       "2.5"
      ]
     },
     "execution_count": 4,
     "metadata": {},
     "output_type": "execute_result"
    }
   ],
   "source": [
    "# Division --> returns quotient post dividing the dividend (or numerator) by the divisor (denominator)\n",
    "5 / 2"
   ]
  },
  {
   "cell_type": "code",
   "execution_count": 5,
   "metadata": {},
   "outputs": [
    {
     "data": {
      "text/plain": [
       "25"
      ]
     },
     "execution_count": 5,
     "metadata": {},
     "output_type": "execute_result"
    }
   ],
   "source": [
    "# Exponentiation (do NOT use ^) --> different from spreadsheet where ^ for exponentiation\n",
    "5**2"
   ]
  },
  {
   "cell_type": "code",
   "execution_count": 6,
   "metadata": {},
   "outputs": [
    {
     "data": {
      "text/plain": [
       "1"
      ]
     },
     "execution_count": 6,
     "metadata": {},
     "output_type": "execute_result"
    }
   ],
   "source": [
    "# Modular division (\"mod\" for short) \n",
    "# --> (modulo division) returns remainder post dividing the dividend by the divisor\n",
    "5 % 2"
   ]
  },
  {
   "cell_type": "code",
   "execution_count": 7,
   "metadata": {},
   "outputs": [
    {
     "data": {
      "text/plain": [
       "2"
      ]
     },
     "execution_count": 7,
     "metadata": {},
     "output_type": "execute_result"
    }
   ],
   "source": [
    "# Floor division (ie \"round down\" division) \n",
    "# --> returns rounded down integer from division operation's quotient\n",
    "5 // 2"
   ]
  },
  {
   "cell_type": "code",
   "execution_count": 8,
   "metadata": {},
   "outputs": [
    {
     "data": {
      "text/plain": [
       "11"
      ]
     },
     "execution_count": 8,
     "metadata": {},
     "output_type": "execute_result"
    }
   ],
   "source": [
    "# /poll \"What is `5 + 2 * 3`?\" \"21\" \"11\" \"idk\" anonymous limit 1\n",
    "# so far what we did was all simple 2 number operations, now BODMAS!\n",
    "# Brackets>Orders (numbers raised to the powers)>Division>Multiplication>Addition>Subtraction\n",
    "5 + 2 * 3"
   ]
  },
  {
   "cell_type": "code",
   "execution_count": 9,
   "metadata": {},
   "outputs": [
    {
     "data": {
      "text/plain": [
       "21"
      ]
     },
     "execution_count": 9,
     "metadata": {},
     "output_type": "execute_result"
    }
   ],
   "source": [
    "# /poll \"What is `(5 + 2) * 3`?\" \"21\" \"11\" \"idk\" anonymous limit 1\n",
    "(5 + 2) * 3"
   ]
  },
  {
   "cell_type": "markdown",
   "metadata": {},
   "source": [
    "## Variables\n",
    "Great - Python is just a fancy calculator. It's also important for us to be able to save numbers as **variables** so we can reference them later without memorizing their value."
   ]
  },
  {
   "cell_type": "markdown",
   "metadata": {},
   "source": [
    "- when we need to store values for later accessibility/actions in our coding task, that's exactly where variables come in handy, they can be thought of as 'containers' in a simple context > containers that store values\n",
    "- variable assignment happens with =. whatever is on the right, gets assigned to what is on the left"
   ]
  },
  {
   "cell_type": "code",
   "execution_count": 10,
   "metadata": {},
   "outputs": [],
   "source": [
    "x = 3\n",
    "y = 4\n",
    "z = 2"
   ]
  },
  {
   "cell_type": "code",
   "execution_count": 11,
   "metadata": {},
   "outputs": [
    {
     "data": {
      "text/plain": [
       "3.5"
      ]
     },
     "execution_count": 11,
     "metadata": {},
     "output_type": "execute_result"
    }
   ],
   "source": [
    "(x + y) / z"
   ]
  },
  {
   "cell_type": "markdown",
   "metadata": {},
   "source": [
    "## Naming Rules --> make them representative\n",
    "\n",
    "You can _pretty much_ name variables whatever you want. But, there are a few rules we should follow. Some are strict, some are just good manners.\n",
    "\n",
    "### Variable naming rules (mandatory)\n",
    "- Names can only consist of numbers, letters and underscores.\n",
    "- Names can't begin with numbers.\n",
    "- You can't name a variable after a built-in Python keyword (eg `if`).\n",
    "\n",
    "### Variable naming rules (good manners)\n",
    "- Names should _**always**_ be descriptive (ie, don't name variables `x` and `df`)\n",
    "- No capital letters! Except while naming a Python class (more on classes in a few weeks)\n",
    "- Variables should not begin with an underscore (this means something special)\n",
    "- Multi-word variables should be in `snake_case`. All lower case separated by underscores.\n",
    "- Technically, you _can_ name variables after built-in Python _functions_ (like `print`), but it's an _extremely_ bad idea to do so.\n",
    "    - Rule of thumb: If a variable name turns green, don't use it!\n",
    "\n",
    "For a more details on recommended Python coding practices, please read the official Style Guide for Python Code: https://www.python.org/dev/peps/pep-0008/. Its not mandatory to follow these recommendations but highly recommended!\n",
    "    \n",
    "### Math exercise (sorry): --> variable understanding check\n",
    "Recall the quadratic formula for solving a polynomial equation with coefficients $a$, $b$, $c$:\n",
    "\n",
    "$$ x = \\frac{-b \\pm \\sqrt{b^2 - 4ac}}{2a} $$"
   ]
  },
  {
   "cell_type": "code",
   "execution_count": 12,
   "metadata": {},
   "outputs": [],
   "source": [
    "a = 1\n",
    "b = -8\n",
    "c = 15"
   ]
  },
  {
   "cell_type": "code",
   "execution_count": 13,
   "metadata": {},
   "outputs": [],
   "source": [
    "discrim = b**2 - 4*a*c"
   ]
  },
  {
   "cell_type": "code",
   "execution_count": 14,
   "metadata": {},
   "outputs": [
    {
     "data": {
      "text/plain": [
       "5.0"
      ]
     },
     "execution_count": 14,
     "metadata": {},
     "output_type": "execute_result"
    }
   ],
   "source": [
    "# Slack thread: Give me the code to produce one of the two roots!\n",
    "(-b + discrim**0.5) / (2*a)"
   ]
  },
  {
   "cell_type": "markdown",
   "metadata": {},
   "source": [
    "## So, what is a \"data type\"?\n",
    "When you hear the word \"data\", you probably think of a spreadsheet. Actually, **data is a synonym for information!** Anything that represents \"information\" is data. Including any and all Python variables. If I run `x = 3`, then `x` is data!\n",
    "\n",
    "Data can come in various **types.** We've already seen two types!\n",
    "\n",
    "1. The `int` type: Integers with no decimal part (eg `2`, `-30`, `14`)\n",
    "1. The `float` type: Numbers with a decimal part, even if that part is zero (eg `2.5`, `3.141`, `2**0.5`, `-3.0`)\n",
    "\n",
    "Curious about what an object's data type is? Simply use the `type()` function to ask! --> type() is a Python in-built function to check variable data types. we can either pass values directly as parameters or pass variables\n",
    "\n",
    "```python\n",
    "type(3) # int\n",
    "type(4.2) # float\n",
    "```"
   ]
  },
  {
   "cell_type": "code",
   "execution_count": 15,
   "metadata": {},
   "outputs": [
    {
     "data": {
      "text/plain": [
       "int"
      ]
     },
     "execution_count": 15,
     "metadata": {},
     "output_type": "execute_result"
    }
   ],
   "source": [
    "type(3)"
   ]
  },
  {
   "cell_type": "code",
   "execution_count": 16,
   "metadata": {},
   "outputs": [
    {
     "data": {
      "text/plain": [
       "float"
      ]
     },
     "execution_count": 16,
     "metadata": {},
     "output_type": "execute_result"
    }
   ],
   "source": [
    "type(4.2)"
   ]
  },
  {
   "cell_type": "markdown",
   "metadata": {
    "slideshow": {
     "slide_type": "slide"
    }
   },
   "source": [
    "## Strings\n",
    "\n",
    "---\n",
    "\n",
    "Strings are how we store text data in Python. Strings are _strings of characters_ between either double quotes (`\"`) or single quotes (`'`). Python doesn't care which as long as they match."
   ]
  },
  {
   "cell_type": "code",
   "execution_count": 17,
   "metadata": {
    "slideshow": {
     "slide_type": "fragment"
    }
   },
   "outputs": [
    {
     "data": {
      "text/plain": [
       "'The pen is mightier than the sword!'"
      ]
     },
     "execution_count": 17,
     "metadata": {},
     "output_type": "execute_result"
    }
   ],
   "source": [
    "\"The pen is mightier than the sword!\""
   ]
  },
  {
   "cell_type": "code",
   "execution_count": 18,
   "metadata": {},
   "outputs": [
    {
     "data": {
      "text/plain": [
       "'Single quotes work just fine too.'"
      ]
     },
     "execution_count": 18,
     "metadata": {},
     "output_type": "execute_result"
    }
   ],
   "source": [
    "'Single quotes work just fine too.'"
   ]
  },
  {
   "cell_type": "code",
   "execution_count": 19,
   "metadata": {},
   "outputs": [],
   "source": [
    "# Multi-line string --> notice code color change if the 3 quotes are replaced with 1 or 2, Python does not treat them as string!\n",
    "multi_line_string = \"\"\"If you have three\n",
    "quotes in a row,\n",
    "you can even have a string\n",
    "that spans multiple lines!\"\"\""
   ]
  },
  {
   "cell_type": "code",
   "execution_count": 20,
   "metadata": {},
   "outputs": [
    {
     "name": "stdout",
     "output_type": "stream",
     "text": [
      "If you have three\n",
      "quotes in a row,\n",
      "you can even have a string\n",
      "that spans multiple lines!\n"
     ]
    }
   ],
   "source": [
    "print(multi_line_string) # --> print is one of the most widely used Python built-in funcs to print outputs"
   ]
  },
  {
   "cell_type": "code",
   "execution_count": 5,
   "metadata": {},
   "outputs": [
    {
     "data": {
      "text/plain": [
       "'Backslashes allow you to have \"quotes\" inside your quotes!'"
      ]
     },
     "execution_count": 5,
     "metadata": {},
     "output_type": "execute_result"
    }
   ],
   "source": [
    "# Escape characters\n",
    "\"Backslashes allow you to have \\\"quotes\\\" inside your quotes!\""
   ]
  },
  {
   "cell_type": "markdown",
   "metadata": {
    "slideshow": {
     "slide_type": "fragment"
    }
   },
   "source": [
    "The **print** command prints the value assigned to the variable `x` on the screen. \n",
    "\n",
    "The **print** statement removes the quotations, whereas just running the jupyter cell with `x` at the last line leaves the quotations in. \n",
    "\n",
    "If you need to display the value of a variable in the middle of the cell, then print is the only way to display it. Just typing `x` will only display the value if it is on the last line of the cell\n",
    "\n",
    "You can use 'single' or \"double\" quotations to create a string variable."
   ]
  },
  {
   "cell_type": "code",
   "execution_count": 22,
   "metadata": {},
   "outputs": [
    {
     "name": "stdout",
     "output_type": "stream",
     "text": [
      "Testing the print command\n"
     ]
    }
   ],
   "source": [
    "print(\"Testing the print command\")"
   ]
  },
  {
   "cell_type": "code",
   "execution_count": 7,
   "metadata": {},
   "outputs": [
    {
     "name": "stdout",
     "output_type": "stream",
     "text": [
      "x = 42\n",
      "x = 42\n"
     ]
    },
    {
     "data": {
      "text/plain": [
       "42"
      ]
     },
     "execution_count": 7,
     "metadata": {},
     "output_type": "execute_result"
    }
   ],
   "source": [
    "x = 42\n",
    "\n",
    "x # This x WILL NOT get printed as it is not at the end of the cell\n",
    "print(\"x =\", x) # This x will get printed as it is within a print statement\n",
    "print(f\"x = {x}\") # This x will also get printed. This is using the modern Python f-string to print a value within a string\n",
    "x # This x WILL get printed as it is at the end of the cell"
   ]
  },
  {
   "cell_type": "markdown",
   "metadata": {},
   "source": [
    "## String Math!\n",
    "Besides simply storing text, we can also operate on strings. Everything in Python has a **type**, and types can be operated on with their respective **methods**. Methods are actions we can perform on a type using the following syntax:\n",
    "\n",
    "```python\n",
    "variable.method(parameters)\n",
    "```\n",
    "- Variable is of a certain data type like string. \n",
    "- Method is the action we want to perform on the variable. \n",
    "- Every method can take some parameters to control our output"
   ]
  },
  {
   "cell_type": "code",
   "execution_count": 9,
   "metadata": {},
   "outputs": [],
   "source": [
    "s1 = \"Be quiet\"\n",
    "s2 = \"this is a library!\""
   ]
  },
  {
   "cell_type": "code",
   "execution_count": 10,
   "metadata": {},
   "outputs": [
    {
     "data": {
      "text/plain": [
       "'Be quietthis is a library!'"
      ]
     },
     "execution_count": 10,
     "metadata": {},
     "output_type": "execute_result"
    }
   ],
   "source": [
    "s1 + s2 # see the difference in results for the same math operation done earlier on numbers"
   ]
  },
  {
   "cell_type": "code",
   "execution_count": 14,
   "metadata": {},
   "outputs": [],
   "source": [
    "reprimand = s1+' '+s2"
   ]
  },
  {
   "cell_type": "code",
   "execution_count": 15,
   "metadata": {},
   "outputs": [
    {
     "data": {
      "text/plain": [
       "'Be quiet this is a library!'"
      ]
     },
     "execution_count": 15,
     "metadata": {},
     "output_type": "execute_result"
    }
   ],
   "source": [
    "str(reprimand)"
   ]
  },
  {
   "cell_type": "code",
   "execution_count": 28,
   "metadata": {},
   "outputs": [
    {
     "data": {
      "text/plain": [
       "'BE QUIET, THIS IS A LIBRARY!'"
      ]
     },
     "execution_count": 28,
     "metadata": {},
     "output_type": "execute_result"
    }
   ],
   "source": [
    "# Uppercasing is a method in Python\n",
    "reprimand.upper()"
   ]
  },
  {
   "cell_type": "code",
   "execution_count": 29,
   "metadata": {},
   "outputs": [
    {
     "data": {
      "text/plain": [
       "'be quiet, this is a library!'"
      ]
     },
     "execution_count": 29,
     "metadata": {},
     "output_type": "execute_result"
    }
   ],
   "source": [
    "# Also lowercase\n",
    "reprimand.lower()"
   ]
  },
  {
   "cell_type": "code",
   "execution_count": 30,
   "metadata": {},
   "outputs": [],
   "source": [
    "# There are plenty of commands. let's try out Jupyter's autocomplete\n",
    "# feature to see what we can do! --> pressing tab lists various options to explore!\n",
    "#reprimand."
   ]
  },
  {
   "cell_type": "code",
   "execution_count": 31,
   "metadata": {},
   "outputs": [
    {
     "data": {
      "text/plain": [
       "'BE LOUD, THIS IS A PARTY!'"
      ]
     },
     "execution_count": 31,
     "metadata": {},
     "output_type": "execute_result"
    }
   ],
   "source": [
    "# Let's have some fun with .replace()! --> press shift+tab to reveal documentation to help with method call\n",
    "reprimand.replace(\"quiet\", \"loud\").replace(\"library\", \"party\").upper()"
   ]
  },
  {
   "cell_type": "code",
   "execution_count": 32,
   "metadata": {},
   "outputs": [
    {
     "data": {
      "text/plain": [
       "['Be', 'quiet,', 'this', 'is', 'a', 'library!']"
      ]
     },
     "execution_count": 32,
     "metadata": {},
     "output_type": "execute_result"
    }
   ],
   "source": [
    "# Also: An extremely useful method is .split()\n",
    "reprimand.split(' ')"
   ]
  },
  {
   "cell_type": "markdown",
   "metadata": {
    "slideshow": {
     "slide_type": "slide"
    }
   },
   "source": [
    "## Slicin' Strings\n",
    "We may also want to pick apart our strings. We can do this by **indexing** or **slicing**. In fact, you can index or slice several different types in Python. For example:\n",
    "\n",
    "- Strings\n",
    "- Lists\n",
    "- Tuples\n",
    "- Sets\n",
    "\n",
    "---\n",
    "\n",
    "All of the above types can be accessed using [] brackets in the following ways:\n",
    "\n",
    "- **`s[0]`** References the first element. Python indices start at 0!\n",
    "- **`s[0:4]`** References the first **4** elements of a string from index **`0`**. \n",
    "- **`s[-1]`** Reference the _first_ item in reverse order (or the last item).\n",
    "- **`s[-2]`** Reference the _second_ item in reverse order (second to last item).\n",
    "- **`s[0:-3]`** Reference everything _except the last 3_ elements.\n"
   ]
  },
  {
   "cell_type": "code",
   "execution_count": 16,
   "metadata": {},
   "outputs": [],
   "source": [
    "s = \"Python programming is really fun\""
   ]
  },
  {
   "cell_type": "code",
   "execution_count": 34,
   "metadata": {},
   "outputs": [
    {
     "data": {
      "text/plain": [
       "32"
      ]
     },
     "execution_count": 34,
     "metadata": {},
     "output_type": "execute_result"
    }
   ],
   "source": [
    "# getting length of string\n",
    "len(s)"
   ]
  },
  {
   "cell_type": "markdown",
   "metadata": {},
   "source": [
    "##### white board idea - use word Python to draw out positive and negative indexing to set context for tasks to follow\n",
    "- general syntax: [start:stop (which executes stop - 1):step]"
   ]
  },
  {
   "cell_type": "code",
   "execution_count": 35,
   "metadata": {},
   "outputs": [
    {
     "data": {
      "text/plain": [
       "'P'"
      ]
     },
     "execution_count": 35,
     "metadata": {},
     "output_type": "execute_result"
    }
   ],
   "source": [
    "# First letter\n",
    "s[0]"
   ]
  },
  {
   "cell_type": "code",
   "execution_count": 36,
   "metadata": {},
   "outputs": [
    {
     "data": {
      "text/plain": [
       "'y'"
      ]
     },
     "execution_count": 36,
     "metadata": {},
     "output_type": "execute_result"
    }
   ],
   "source": [
    "# Second letter\n",
    "s[1]"
   ]
  },
  {
   "cell_type": "code",
   "execution_count": 37,
   "metadata": {},
   "outputs": [
    {
     "data": {
      "text/plain": [
       "'yth'"
      ]
     },
     "execution_count": 37,
     "metadata": {},
     "output_type": "execute_result"
    }
   ],
   "source": [
    "# Second through fourth letter\n",
    "s[1:4]"
   ]
  },
  {
   "cell_type": "code",
   "execution_count": 18,
   "metadata": {},
   "outputs": [
    {
     "data": {
      "text/plain": [
       "'Pytho'"
      ]
     },
     "execution_count": 18,
     "metadata": {},
     "output_type": "execute_result"
    }
   ],
   "source": [
    "# First 5 letters\n",
    "s[:5]"
   ]
  },
  {
   "cell_type": "code",
   "execution_count": 39,
   "metadata": {},
   "outputs": [
    {
     "data": {
      "text/plain": [
       "'n'"
      ]
     },
     "execution_count": 39,
     "metadata": {},
     "output_type": "execute_result"
    }
   ],
   "source": [
    "# Last letter\n",
    "s[-1]"
   ]
  },
  {
   "cell_type": "code",
   "execution_count": 40,
   "metadata": {},
   "outputs": [
    {
     "data": {
      "text/plain": [
       "'y fun'"
      ]
     },
     "execution_count": 40,
     "metadata": {},
     "output_type": "execute_result"
    }
   ],
   "source": [
    "# Last 5 letters\n",
    "s[-5:]"
   ]
  },
  {
   "cell_type": "code",
   "execution_count": 41,
   "metadata": {},
   "outputs": [],
   "source": [
    "# THREAD: Get me the word \"programming\" from the string s.\n",
    "# I want it two ways: Using slicing and using .split()"
   ]
  },
  {
   "cell_type": "code",
   "execution_count": 42,
   "metadata": {},
   "outputs": [
    {
     "data": {
      "text/plain": [
       "'programming'"
      ]
     },
     "execution_count": 42,
     "metadata": {},
     "output_type": "execute_result"
    }
   ],
   "source": [
    "s[7:18]"
   ]
  },
  {
   "cell_type": "code",
   "execution_count": 43,
   "metadata": {},
   "outputs": [
    {
     "data": {
      "text/plain": [
       "'programming'"
      ]
     },
     "execution_count": 43,
     "metadata": {},
     "output_type": "execute_result"
    }
   ],
   "source": [
    "s.split(' ')[1]"
   ]
  },
  {
   "cell_type": "markdown",
   "metadata": {},
   "source": [
    "## Collection Types!\n",
    "\n",
    "![](imgs/skittles.jpg)\n",
    "\n",
    "We often want to store many values in one variable. A _collection_. There are several collection types in Python. The first and most common is...\n",
    "\n",
    "### Lists\n",
    "Lists are mutable, heterogeneous collections.\n",
    "\n",
    "- **Mutable** = They can be changed\n",
    "- **Heterogeneous** = They can hold values of different data types"
   ]
  },
  {
   "cell_type": "code",
   "execution_count": 44,
   "metadata": {},
   "outputs": [
    {
     "data": {
      "text/plain": [
       "list"
      ]
     },
     "execution_count": 44,
     "metadata": {},
     "output_type": "execute_result"
    }
   ],
   "source": [
    "names = ['Albert', 'Brenda', 'Carlos', 'Daenerys', 'Elon', 'Farnsworth'] # try replacing some strings to numbers, still works!\n",
    "type(names)"
   ]
  },
  {
   "cell_type": "code",
   "execution_count": 45,
   "metadata": {},
   "outputs": [
    {
     "data": {
      "text/plain": [
       "'Albert'"
      ]
     },
     "execution_count": 45,
     "metadata": {},
     "output_type": "execute_result"
    }
   ],
   "source": [
    "# Reference 1st item\n",
    "names[0]"
   ]
  },
  {
   "cell_type": "code",
   "execution_count": 46,
   "metadata": {},
   "outputs": [
    {
     "data": {
      "text/plain": [
       "'Farnsworth'"
      ]
     },
     "execution_count": 46,
     "metadata": {},
     "output_type": "execute_result"
    }
   ],
   "source": [
    "# Reference last item\n",
    "names[-1]"
   ]
  },
  {
   "cell_type": "code",
   "execution_count": 47,
   "metadata": {},
   "outputs": [
    {
     "data": {
      "text/plain": [
       "['Carlos', 'Elon']"
      ]
     },
     "execution_count": 47,
     "metadata": {},
     "output_type": "execute_result"
    }
   ],
   "source": [
    "# Every other name, starting with the third\n",
    "names[2::2] # [start:end-1:step]"
   ]
  },
  {
   "cell_type": "code",
   "execution_count": 48,
   "metadata": {},
   "outputs": [
    {
     "data": {
      "text/plain": [
       "['Farnsworth', 'Elon', 'Daenerys', 'Carlos', 'Brenda', 'Albert']"
      ]
     },
     "execution_count": 48,
     "metadata": {},
     "output_type": "execute_result"
    }
   ],
   "source": [
    "# Backwards!\n",
    "names[::-1]"
   ]
  },
  {
   "cell_type": "markdown",
   "metadata": {},
   "source": [
    "### List Operations"
   ]
  },
  {
   "cell_type": "code",
   "execution_count": 49,
   "metadata": {},
   "outputs": [],
   "source": [
    "# Append --> alternative would be to use + operator, difference would be append effects change 'in-place' \n",
    "# vs + will need to assign back to variable to effect change\n",
    "names.append('Gary')"
   ]
  },
  {
   "cell_type": "code",
   "execution_count": 50,
   "metadata": {},
   "outputs": [
    {
     "data": {
      "text/plain": [
       "['Albert', 'Brenda', 'Carlos', 'Daenerys', 'Elon', 'Farnsworth', 'Gary']"
      ]
     },
     "execution_count": 50,
     "metadata": {},
     "output_type": "execute_result"
    }
   ],
   "source": [
    "names"
   ]
  },
  {
   "cell_type": "code",
   "execution_count": 51,
   "metadata": {},
   "outputs": [],
   "source": [
    "# Remove\n",
    "names.remove('Daenerys')"
   ]
  },
  {
   "cell_type": "code",
   "execution_count": 52,
   "metadata": {},
   "outputs": [
    {
     "data": {
      "text/plain": [
       "['Albert', 'Brenda', 'Carlos', 'Elon', 'Farnsworth', 'Gary']"
      ]
     },
     "execution_count": 52,
     "metadata": {},
     "output_type": "execute_result"
    }
   ],
   "source": [
    "names"
   ]
  },
  {
   "cell_type": "code",
   "execution_count": 53,
   "metadata": {},
   "outputs": [
    {
     "data": {
      "text/plain": [
       "'Albert_Brenda_Carlos_Elon_Farnsworth_Gary'"
      ]
     },
     "execution_count": 53,
     "metadata": {},
     "output_type": "execute_result"
    }
   ],
   "source": [
    "# Join???\n",
    "'_'.join(names)"
   ]
  },
  {
   "cell_type": "markdown",
   "metadata": {},
   "source": [
    "### Tuples\n",
    "Tuples are less used than lists, but very similar. They are immutable and heterogeneous\n",
    "\n",
    "- **Immutable** = Once made, they can never be changed in place. (No .append() type functions)\n",
    "- **Heterogeneous** = They can contain values of different types\n",
    "\n",
    "For our purposes, you can just think of tuples as immutable lists. Their existence is partly legacy from a time when they were more useful. Traditionally they're only used to hold short sequences of variables."
   ]
  },
  {
   "cell_type": "code",
   "execution_count": 21,
   "metadata": {},
   "outputs": [],
   "source": [
    "family = ('Ken', 'Tina', 'Jeremy')"
   ]
  },
  {
   "cell_type": "code",
   "execution_count": 55,
   "metadata": {},
   "outputs": [
    {
     "data": {
      "text/plain": [
       "'Ken'"
      ]
     },
     "execution_count": 55,
     "metadata": {},
     "output_type": "execute_result"
    }
   ],
   "source": [
    "# Can slice and index like normal\n",
    "family[0]"
   ]
  },
  {
   "cell_type": "code",
   "execution_count": 23,
   "metadata": {},
   "outputs": [],
   "source": [
    "# Bzzzt! Illegal. Tuples are immutable.\n",
    "# family.append('Chloe')"
   ]
  },
  {
   "cell_type": "markdown",
   "metadata": {},
   "source": [
    "### Slight aside: Tuple unpacking\n",
    "Tuples can be \"unpacked\". So can lists, but this is most common with tuples. This means that you can assign tuples elements to variables if you separate them by comma, like this:"
   ]
  },
  {
   "cell_type": "code",
   "execution_count": 57,
   "metadata": {},
   "outputs": [],
   "source": [
    "instructor = (\"Tim\", \"Book\")\n",
    "first, last = instructor"
   ]
  },
  {
   "cell_type": "code",
   "execution_count": 58,
   "metadata": {},
   "outputs": [
    {
     "data": {
      "text/plain": [
       "'Tim'"
      ]
     },
     "execution_count": 58,
     "metadata": {},
     "output_type": "execute_result"
    }
   ],
   "source": [
    "first"
   ]
  },
  {
   "cell_type": "code",
   "execution_count": 59,
   "metadata": {},
   "outputs": [
    {
     "data": {
      "text/plain": [
       "'Book'"
      ]
     },
     "execution_count": 59,
     "metadata": {},
     "output_type": "execute_result"
    }
   ],
   "source": [
    "last"
   ]
  },
  {
   "cell_type": "markdown",
   "metadata": {},
   "source": [
    "We'll see tuple unpacking a few times throughout the course."
   ]
  },
  {
   "cell_type": "markdown",
   "metadata": {},
   "source": [
    "## Sets\n",
    "We'll see sets pretty much never, but they're worth mentioning very briefly. They're **unordered, unique collections**. Just like traditional sets in a math class. Sets are pretty much only used when you need the unique elements from a list and you don’t care about the order in which the elements appear.\n",
    "- one of the implication of being unordered --> cannot use indexing"
   ]
  },
  {
   "cell_type": "code",
   "execution_count": 24,
   "metadata": {},
   "outputs": [
    {
     "data": {
      "text/plain": [
       "{'A', 'B+', 'B-', 'C+'}"
      ]
     },
     "execution_count": 24,
     "metadata": {},
     "output_type": "execute_result"
    }
   ],
   "source": [
    "my_grades = {'A', 'B+', 'A', 'C+', 'B-', 'B+'}\n",
    "my_grades"
   ]
  },
  {
   "cell_type": "code",
   "execution_count": 61,
   "metadata": {},
   "outputs": [
    {
     "data": {
      "text/plain": [
       "{'A', 'A-', 'B+', 'B-', 'C+'}"
      ]
     },
     "execution_count": 61,
     "metadata": {},
     "output_type": "execute_result"
    }
   ],
   "source": [
    "my_grades.add('A-')\n",
    "my_grades"
   ]
  },
  {
   "cell_type": "code",
   "execution_count": 62,
   "metadata": {},
   "outputs": [
    {
     "data": {
      "text/plain": [
       "{'A-', 'B+', 'B-', 'C+'}"
      ]
     },
     "execution_count": 62,
     "metadata": {},
     "output_type": "execute_result"
    }
   ],
   "source": [
    "my_grades.remove('A')\n",
    "my_grades"
   ]
  },
  {
   "cell_type": "code",
   "execution_count": 25,
   "metadata": {},
   "outputs": [
    {
     "data": {
      "text/plain": [
       "False"
      ]
     },
     "execution_count": 25,
     "metadata": {},
     "output_type": "execute_result"
    }
   ],
   "source": [
    "'Z' in my_grades"
   ]
  },
  {
   "cell_type": "code",
   "execution_count": 64,
   "metadata": {},
   "outputs": [],
   "source": [
    "your_grades = {'B+', 'B-', 'F-'}"
   ]
  },
  {
   "cell_type": "code",
   "execution_count": 65,
   "metadata": {},
   "outputs": [
    {
     "data": {
      "text/plain": [
       "{'B+', 'B-'}"
      ]
     },
     "execution_count": 65,
     "metadata": {},
     "output_type": "execute_result"
    }
   ],
   "source": [
    "my_grades.intersection(your_grades)"
   ]
  },
  {
   "cell_type": "code",
   "execution_count": 66,
   "metadata": {},
   "outputs": [
    {
     "data": {
      "text/plain": [
       "{'A-', 'B+', 'B-', 'C+', 'F-'}"
      ]
     },
     "execution_count": 66,
     "metadata": {},
     "output_type": "execute_result"
    }
   ],
   "source": [
    "my_grades.union(your_grades) # try .update (alternative), same result"
   ]
  },
  {
   "cell_type": "markdown",
   "metadata": {},
   "source": [
    "## Dictionaries!\n",
    "\n",
    "![](imgs/phonebook.jpeg)\n",
    "\n",
    "Dictionaries are very common. They're **unordered, mutable key-value pairs**. Think of them like an actual dictionary. The key is the \"word\" and the value is the \"definition\".\n",
    "- defined within {}"
   ]
  },
  {
   "cell_type": "code",
   "execution_count": 26,
   "metadata": {},
   "outputs": [],
   "source": [
    "music = {'doe': 'A deer, a female deer', 'ray': 'A drop of golden sun'}"
   ]
  },
  {
   "cell_type": "code",
   "execution_count": 27,
   "metadata": {},
   "outputs": [
    {
     "data": {
      "text/plain": [
       "'A deer, a female deer'"
      ]
     },
     "execution_count": 27,
     "metadata": {},
     "output_type": "execute_result"
    }
   ],
   "source": [
    "# Indexing --> happens by calling  dict_variable[key] not by passing index numbers like 0, 1 so on bec they are unordered\n",
    "music['doe']"
   ]
  },
  {
   "cell_type": "code",
   "execution_count": 28,
   "metadata": {},
   "outputs": [],
   "source": [
    "# Bzzt! Remember, dictionaries are unordered. No such thing as \"first\" element\n",
    "# music[0]"
   ]
  },
  {
   "cell_type": "code",
   "execution_count": 29,
   "metadata": {},
   "outputs": [
    {
     "data": {
      "text/plain": [
       "{'doe': 'A deer, a female deer',\n",
       " 'ray': 'A drop of golden sun',\n",
       " 'me': 'A name I call myself'}"
      ]
     },
     "execution_count": 29,
     "metadata": {},
     "output_type": "execute_result"
    }
   ],
   "source": [
    "music['me'] = 'A name I call myself'\n",
    "music"
   ]
  },
  {
   "cell_type": "code",
   "execution_count": 30,
   "metadata": {},
   "outputs": [],
   "source": [
    "# This is how you can delete a key. But keep in mind, if you need to do this, you're\n",
    "# better off with a different data type. Perhaps a custom class.\n",
    "# (We'll learn about classes and OOP in a few weeks).\n",
    "del music['doe']"
   ]
  },
  {
   "cell_type": "code",
   "execution_count": 31,
   "metadata": {},
   "outputs": [
    {
     "data": {
      "text/plain": [
       "{'ray': 'A drop of golden sun', 'me': 'A name I call myself'}"
      ]
     },
     "execution_count": 31,
     "metadata": {},
     "output_type": "execute_result"
    }
   ],
   "source": [
    "music"
   ]
  },
  {
   "cell_type": "code",
   "execution_count": 32,
   "metadata": {},
   "outputs": [
    {
     "ename": "KeyError",
     "evalue": "'doe'",
     "output_type": "error",
     "traceback": [
      "\u001b[1;31m---------------------------------------------------------------------------\u001b[0m",
      "\u001b[1;31mKeyError\u001b[0m                                  Traceback (most recent call last)",
      "\u001b[1;32m~\\AppData\\Local\\Temp/ipykernel_14084/2140145299.py\u001b[0m in \u001b[0;36m<module>\u001b[1;34m\u001b[0m\n\u001b[0;32m      1\u001b[0m \u001b[1;31m# What happens when we attempt to access a missing entry?\u001b[0m\u001b[1;33m\u001b[0m\u001b[1;33m\u001b[0m\u001b[1;33m\u001b[0m\u001b[0m\n\u001b[1;32m----> 2\u001b[1;33m \u001b[0mmusic\u001b[0m\u001b[1;33m[\u001b[0m\u001b[1;34m'doe'\u001b[0m\u001b[1;33m]\u001b[0m\u001b[1;33m\u001b[0m\u001b[1;33m\u001b[0m\u001b[0m\n\u001b[0m",
      "\u001b[1;31mKeyError\u001b[0m: 'doe'"
     ]
    }
   ],
   "source": [
    "# What happens when we attempt to access a missing entry?\n",
    "# music['doe']"
   ]
  },
  {
   "cell_type": "code",
   "execution_count": 33,
   "metadata": {},
   "outputs": [
    {
     "data": {
      "text/plain": [
       "'MISSING SOFLEGE!'"
      ]
     },
     "execution_count": 33,
     "metadata": {},
     "output_type": "execute_result"
    }
   ],
   "source": [
    "# You often want to have a \"default\" value for keys that don't exist.\n",
    "# We can do this with the .get() method.\n",
    "# Fun fact: some people ONLY access dictionary keys with the .get().\n",
    "# This is starting to gain some traction and is thought to be a pretty good idea.\n",
    "music.get('doe', 'MISSING SOFLEGE!')"
   ]
  },
  {
   "cell_type": "markdown",
   "metadata": {},
   "source": [
    "## Dictionaries are a big deal!\n",
    "\n",
    "Dictionaries can get really big and really complicated, like the one below. You might think this is excessive, but it's very common. This is a very efficient way to store complicated data that don't fit neatly in a spreadsheet. In fact, dictionaries are the data type used by most web APIs! We'll need to parse big dictionaries to get data from the internet!"
   ]
  },
  {
   "cell_type": "code",
   "execution_count": 34,
   "metadata": {},
   "outputs": [],
   "source": [
    "authors = {\n",
    "    \"J.R.R. Tolkien\": {\n",
    "        \"genre\": \"fantasy\",\n",
    "        \"books\": [\n",
    "            \"The Fellowship of the Ring\",\n",
    "            \"The Two Towers\",\n",
    "            \"The Return of the King\"\n",
    "        ],\n",
    "        \"active\": False\n",
    "    },\n",
    "    \"Brandon Sanderson\": {\n",
    "        \"genre\": \"fantasy\",\n",
    "        \"books\": [\n",
    "            \"The Way of Kings\",\n",
    "            \"Words of Radiance\",\n",
    "            \"Oathbringer\"\n",
    "        ],\n",
    "        \"active\": True,\n",
    "        \"phone\": {\n",
    "            \"home\": \"(281) 330-8004\",\n",
    "            \"work\": \"(877) CASH-NOW\"\n",
    "        }\n",
    "    },\n",
    "    \"Frank Herbert\": {\n",
    "        \"genre\": \"science fiction\",\n",
    "        \"books\": [\"Dune\"],\n",
    "        \"phone\": None,\n",
    "        \"active\": False\n",
    "    }\n",
    "}"
   ]
  },
  {
   "cell_type": "code",
   "execution_count": 76,
   "metadata": {},
   "outputs": [
    {
     "name": "stdout",
     "output_type": "stream",
     "text": [
      "The Two Towers\n",
      "The Two Towers\n"
     ]
    }
   ],
   "source": [
    "# THREAD: Get me Tokien's second book\n",
    "\n",
    "# method 1 \n",
    "print(authors['J.R.R. Tolkien']['books'][1])\n",
    "\n",
    "# method 2\n",
    "print(authors.get('J.R.R. Tolkien').get('books')[1])"
   ]
  },
  {
   "cell_type": "code",
   "execution_count": 38,
   "metadata": {},
   "outputs": [
    {
     "data": {
      "text/plain": [
       "{'genre': 'fantasy',\n",
       " 'books': ['The Fellowship of the Ring',\n",
       "  'The Two Towers',\n",
       "  'The Return of the King'],\n",
       " 'active': False}"
      ]
     },
     "execution_count": 38,
     "metadata": {},
     "output_type": "execute_result"
    }
   ],
   "source": [
    "authors['J.R.R. Tolkien']"
   ]
  },
  {
   "cell_type": "code",
   "execution_count": 42,
   "metadata": {},
   "outputs": [
    {
     "data": {
      "text/plain": [
       "'fantasy'"
      ]
     },
     "execution_count": 42,
     "metadata": {},
     "output_type": "execute_result"
    }
   ],
   "source": [
    "authors['J.R.R. Tolkien']['genre']"
   ]
  },
  {
   "cell_type": "code",
   "execution_count": 77,
   "metadata": {},
   "outputs": [
    {
     "data": {
      "text/plain": [
       "'(877) CASH-NOW'"
      ]
     },
     "execution_count": 77,
     "metadata": {},
     "output_type": "execute_result"
    }
   ],
   "source": [
    "# THREAD: I need to call Brandon Sanderson about an idea for a screenplay.\n",
    "# Can you get me his work number?\n",
    "authors['Brandon Sanderson']['phone']['work']"
   ]
  },
  {
   "cell_type": "markdown",
   "metadata": {},
   "source": [
    "## Booleans\n",
    "\n",
    "![](imgs/boole.jpg)\n",
    "\n",
    "Booleans are variables that only have two different values: `True` and `False`. They're named after their founder, **George Boole** and will come in real handy when we discuss control flow this afternoon.\n",
    "\n",
    "Booleans really only have three operations you can perform on them: `not`--> opposites, `and`--> all conditions must be met, and `or`--> any condition met.\n",
    "\n",
    "NOT Table\n",
    "\n",
    "|  Input  | Output |\n",
    "|:-------:|:------:|\n",
    "|   True  |  False |\n",
    "|  False  |   True |\n",
    "\n",
    "AND Table\n",
    "\n",
    "| Input 1 | Input 2 | Output |\n",
    "|:-------:|:-------:|:------:|\n",
    "|   True  |   True  |  True  |\n",
    "|   True  |  False  |  False |\n",
    "|  False  |   True  |  False |\n",
    "|  False  |  False  |  False |\n",
    "\n",
    "OR Table\n",
    "\n",
    "| Input 1 | Input 2 | Output |\n",
    "|:-------:|:-------:|:------:|\n",
    "|   True  |   True  |  True  |\n",
    "|   True  |  False  |  True  |\n",
    "|  False  |   True  |  True  |\n",
    "|  False  |  False  | False  |"
   ]
  },
  {
   "cell_type": "code",
   "execution_count": 78,
   "metadata": {},
   "outputs": [
    {
     "data": {
      "text/plain": [
       "False"
      ]
     },
     "execution_count": 78,
     "metadata": {},
     "output_type": "execute_result"
    }
   ],
   "source": [
    "# not: Simply gives the opposite\n",
    "not True"
   ]
  },
  {
   "cell_type": "code",
   "execution_count": 79,
   "metadata": {},
   "outputs": [
    {
     "data": {
      "text/plain": [
       "True"
      ]
     },
     "execution_count": 79,
     "metadata": {},
     "output_type": "execute_result"
    }
   ],
   "source": [
    "not False"
   ]
  },
  {
   "cell_type": "code",
   "execution_count": 80,
   "metadata": {},
   "outputs": [],
   "source": [
    "# and: output only yields True if both input 1 and input 2 are true\n",
    "sky_blue = True\n",
    "grass_green = True\n",
    "pigs_fly = False"
   ]
  },
  {
   "cell_type": "code",
   "execution_count": 81,
   "metadata": {},
   "outputs": [
    {
     "data": {
      "text/plain": [
       "False"
      ]
     },
     "execution_count": 81,
     "metadata": {},
     "output_type": "execute_result"
    }
   ],
   "source": [
    "sky_blue and pigs_fly"
   ]
  },
  {
   "cell_type": "code",
   "execution_count": 82,
   "metadata": {},
   "outputs": [
    {
     "data": {
      "text/plain": [
       "True"
      ]
     },
     "execution_count": 82,
     "metadata": {},
     "output_type": "execute_result"
    }
   ],
   "source": [
    "sky_blue and grass_green"
   ]
  },
  {
   "cell_type": "code",
   "execution_count": 83,
   "metadata": {},
   "outputs": [],
   "source": [
    "# or: output only yields false if both input 1 and input 2 are false\n",
    "matt_cool = False"
   ]
  },
  {
   "cell_type": "code",
   "execution_count": 84,
   "metadata": {},
   "outputs": [
    {
     "data": {
      "text/plain": [
       "True"
      ]
     },
     "execution_count": 84,
     "metadata": {},
     "output_type": "execute_result"
    }
   ],
   "source": [
    "sky_blue or pigs_fly"
   ]
  },
  {
   "cell_type": "code",
   "execution_count": 85,
   "metadata": {},
   "outputs": [
    {
     "data": {
      "text/plain": [
       "False"
      ]
     },
     "execution_count": 85,
     "metadata": {},
     "output_type": "execute_result"
    }
   ],
   "source": [
    "pigs_fly or matt_cool"
   ]
  },
  {
   "cell_type": "markdown",
   "metadata": {},
   "source": [
    "## Cool story, Boole\n",
    "So what? We rarely actually define variables to be `True` or `False`. More often, we get them from asking Python math problems."
   ]
  },
  {
   "cell_type": "code",
   "execution_count": 86,
   "metadata": {},
   "outputs": [
    {
     "data": {
      "text/plain": [
       "True"
      ]
     },
     "execution_count": 86,
     "metadata": {},
     "output_type": "execute_result"
    }
   ],
   "source": [
    "# Greater than\n",
    "5 > 3"
   ]
  },
  {
   "cell_type": "code",
   "execution_count": 87,
   "metadata": {},
   "outputs": [
    {
     "data": {
      "text/plain": [
       "False"
      ]
     },
     "execution_count": 87,
     "metadata": {},
     "output_type": "execute_result"
    }
   ],
   "source": [
    "# Less than\n",
    "5 < 3"
   ]
  },
  {
   "cell_type": "code",
   "execution_count": 88,
   "metadata": {},
   "outputs": [
    {
     "data": {
      "text/plain": [
       "True"
      ]
     },
     "execution_count": 88,
     "metadata": {},
     "output_type": "execute_result"
    }
   ],
   "source": [
    "# Greater than or equal to\n",
    "3 >= 3"
   ]
  },
  {
   "cell_type": "code",
   "execution_count": 89,
   "metadata": {},
   "outputs": [
    {
     "data": {
      "text/plain": [
       "True"
      ]
     },
     "execution_count": 89,
     "metadata": {},
     "output_type": "execute_result"
    }
   ],
   "source": [
    "# THREAD: Fun stuff --> recall BODMAS!\n",
    "(3 > 2) and ((5 <= 5) or (10 < 3))"
   ]
  },
  {
   "cell_type": "code",
   "execution_count": 90,
   "metadata": {},
   "outputs": [
    {
     "data": {
      "text/plain": [
       "True"
      ]
     },
     "execution_count": 90,
     "metadata": {},
     "output_type": "execute_result"
    }
   ],
   "source": [
    "# Not equals to\n",
    "3 != 4"
   ]
  },
  {
   "cell_type": "code",
   "execution_count": 91,
   "metadata": {},
   "outputs": [
    {
     "data": {
      "text/plain": [
       "False"
      ]
     },
     "execution_count": 91,
     "metadata": {},
     "output_type": "execute_result"
    }
   ],
   "source": [
    "# Equals to\n",
    "5 == 4"
   ]
  },
  {
   "cell_type": "markdown",
   "metadata": {},
   "source": [
    "## Food for thought\n",
    "- Why does `0.2 + 0.1 == 0.3` yield the answer it does?\n",
    "- Why does `True == 1` yield the answer it does?\n",
    "- Why does `\"3\" + 3` yield an error?\n",
    "- What happens when you add two lists?\n",
    "- What happens when you multiply a list (or a string!) by an integer? Why does this happen?\n",
    "    - e.g. `\"*\" * 20` or `[1, 2, 3, 4] * 2`"
   ]
  },
  {
   "cell_type": "markdown",
   "metadata": {},
   "source": [
    "#1: Floating point variables typically have this behaviour. It's caused by how they are stored in hardware. using round() function can ensure this is taken care of and return expected result which is True"
   ]
  },
  {
   "cell_type": "code",
   "execution_count": 92,
   "metadata": {},
   "outputs": [
    {
     "data": {
      "text/plain": [
       "0.30000000000000004"
      ]
     },
     "execution_count": 92,
     "metadata": {},
     "output_type": "execute_result"
    }
   ],
   "source": [
    "0.2 + 0.1"
   ]
  },
  {
   "cell_type": "code",
   "execution_count": 93,
   "metadata": {},
   "outputs": [
    {
     "data": {
      "text/plain": [
       "False"
      ]
     },
     "execution_count": 93,
     "metadata": {},
     "output_type": "execute_result"
    }
   ],
   "source": [
    "0.2 + 0.1 == 0.3"
   ]
  },
  {
   "cell_type": "code",
   "execution_count": 94,
   "metadata": {},
   "outputs": [
    {
     "data": {
      "text/plain": [
       "True"
      ]
     },
     "execution_count": 94,
     "metadata": {},
     "output_type": "execute_result"
    }
   ],
   "source": [
    "round((0.2 + 0.1),1) == 0.3"
   ]
  },
  {
   "cell_type": "markdown",
   "metadata": {},
   "source": [
    "#2: True is mapped to 1 and False to 0"
   ]
  },
  {
   "cell_type": "code",
   "execution_count": 95,
   "metadata": {},
   "outputs": [
    {
     "data": {
      "text/plain": [
       "1"
      ]
     },
     "execution_count": 95,
     "metadata": {},
     "output_type": "execute_result"
    }
   ],
   "source": [
    "int(True)"
   ]
  },
  {
   "cell_type": "markdown",
   "metadata": {},
   "source": [
    "#3: string and integer addition. can do '3' + '3' or 3 + 3"
   ]
  },
  {
   "cell_type": "code",
   "execution_count": 96,
   "metadata": {
    "scrolled": true
   },
   "outputs": [
    {
     "ename": "TypeError",
     "evalue": "can only concatenate str (not \"int\") to str",
     "output_type": "error",
     "traceback": [
      "\u001b[0;31m---------------------------------------------------------------------------\u001b[0m",
      "\u001b[0;31mTypeError\u001b[0m                                 Traceback (most recent call last)",
      "\u001b[0;32m/tmp/ipykernel_26693/1841419283.py\u001b[0m in \u001b[0;36m<module>\u001b[0;34m\u001b[0m\n\u001b[0;32m----> 1\u001b[0;31m \u001b[0;34m'3'\u001b[0m \u001b[0;34m+\u001b[0m \u001b[0;36m3\u001b[0m\u001b[0;34m\u001b[0m\u001b[0;34m\u001b[0m\u001b[0m\n\u001b[0m",
      "\u001b[0;31mTypeError\u001b[0m: can only concatenate str (not \"int\") to str"
     ]
    }
   ],
   "source": [
    "'3' + 3"
   ]
  },
  {
   "cell_type": "markdown",
   "metadata": {},
   "source": [
    "#4: What happens when you add two lists? --> creates one combined list"
   ]
  },
  {
   "cell_type": "markdown",
   "metadata": {},
   "source": [
    "#5: Multiply list, string by integer"
   ]
  },
  {
   "cell_type": "code",
   "execution_count": 45,
   "metadata": {},
   "outputs": [
    {
     "data": {
      "text/plain": [
       "[1, 2, 3, 4, 1, 2, 3, 4]"
      ]
     },
     "execution_count": 45,
     "metadata": {},
     "output_type": "execute_result"
    }
   ],
   "source": [
    "[1,2,3,4] * 2"
   ]
  },
  {
   "cell_type": "markdown",
   "metadata": {},
   "source": [
    "## Practice Problems\n",
    "1. The sum of two numbers is 104 and their difference is 32. What is the value of the larger number?"
   ]
  },
  {
   "cell_type": "code",
   "execution_count": 98,
   "metadata": {},
   "outputs": [
    {
     "name": "stdout",
     "output_type": "stream",
     "text": [
      "a = 68.0 , b = 36.0\n"
     ]
    }
   ],
   "source": [
    "# a + b = 104\n",
    "# a - b = 32\n",
    "# Add these together: 2a = (104 + 32)\n",
    "# Divide by 2 to get a\n",
    "a = (104 + 32) / 2\n",
    "b = 104 - a\n",
    "print('a =', a, ', b =', b)"
   ]
  },
  {
   "cell_type": "markdown",
   "metadata": {},
   "source": [
    "2. You are given a list of numbers: `numbers = [1, 2, 3, 4, 5, 6, 7, 8, 9, 10, 11, 12, 13, 14, 15, 16, 17, 18, 19, 20]`. Print out the positive even numbers in the list in reverse order."
   ]
  },
  {
   "cell_type": "code",
   "execution_count": 99,
   "metadata": {},
   "outputs": [
    {
     "data": {
      "text/plain": [
       "[20, 18, 16, 14, 12, 10, 8, 6, 4, 2]"
      ]
     },
     "execution_count": 99,
     "metadata": {},
     "output_type": "execute_result"
    }
   ],
   "source": [
    "numbers = [1, 2, 3, 4, 5, 6, 7, 8, 9, 10, 11, 12, 13, 14, 15, 16, 17, 18, 19, 20]\n",
    "# method 1 --> all in solution\n",
    "numbers[-1::-2]"
   ]
  },
  {
   "cell_type": "code",
   "execution_count": 100,
   "metadata": {},
   "outputs": [
    {
     "data": {
      "text/plain": [
       "[20, 18, 16, 14, 12, 10, 8, 6, 4, 2]"
      ]
     },
     "execution_count": 100,
     "metadata": {},
     "output_type": "execute_result"
    }
   ],
   "source": [
    "# method 2 --> break down into smaller steps\n",
    "even_numbers = numbers[1::2]\n",
    "even_numbers[::-1]"
   ]
  },
  {
   "cell_type": "code",
   "execution_count": 101,
   "metadata": {},
   "outputs": [
    {
     "data": {
      "text/plain": [
       "[20, 18, 16, 14, 12, 10, 8, 6, 4, 2]"
      ]
     },
     "execution_count": 101,
     "metadata": {},
     "output_type": "execute_result"
    }
   ],
   "source": [
    "# method 3 --> same as#2, but with reverse() method\n",
    "even_numbers.reverse()\n",
    "even_numbers"
   ]
  },
  {
   "cell_type": "markdown",
   "metadata": {},
   "source": [
    "3. Given the following dictionary `my_dict`, construct a new dictionary called `names` where the keys are the names of the people and the values are cities those people live in.\n",
    "\n",
    "```python\n",
    "my_dict = {0: {'name': 'Noelle',\n",
    "             'city': 'DEN',\n",
    "             'state': 'CO'},\n",
    "          1: {'name': 'Dan',\n",
    "             'city': 'LA',\n",
    "             'state': 'CA'},\n",
    "          2: {'name': 'Riley',\n",
    "             'city': 'AUS',\n",
    "             'state': 'TX'}\n",
    "        }\n",
    "```"
   ]
  },
  {
   "cell_type": "code",
   "execution_count": 46,
   "metadata": {},
   "outputs": [],
   "source": [
    "my_dict = {0: {'name': 'Noelle',\n",
    "             'city': 'DEN',\n",
    "             'state': 'CO'},\n",
    "          1: {'name': 'Dan',\n",
    "             'city': 'LA',\n",
    "             'state': 'CA'},\n",
    "          2: {'name': 'Riley',\n",
    "             'city': 'AUS',\n",
    "             'state': 'TX'}\n",
    "        }"
   ]
  },
  {
   "cell_type": "code",
   "execution_count": 103,
   "metadata": {},
   "outputs": [
    {
     "name": "stdout",
     "output_type": "stream",
     "text": [
      "Noelle\n",
      "Dan\n",
      "Riley\n"
     ]
    }
   ],
   "source": [
    "# obtaining new list's keys: note - print is a MUST when we want multiple outputs, else only last\n",
    "# line prints\n",
    "print(my_dict[0]['name'])\n",
    "print(my_dict[1]['name'])\n",
    "print(my_dict[2]['name'])"
   ]
  },
  {
   "cell_type": "code",
   "execution_count": 104,
   "metadata": {},
   "outputs": [
    {
     "name": "stdout",
     "output_type": "stream",
     "text": [
      "DEN\n",
      "LA\n",
      "AUS\n"
     ]
    }
   ],
   "source": [
    "# obtaining new list's values\n",
    "print(my_dict[0]['city'])\n",
    "print(my_dict[1]['city'])\n",
    "print(my_dict[2]['city'])"
   ]
  },
  {
   "cell_type": "code",
   "execution_count": 105,
   "metadata": {},
   "outputs": [
    {
     "data": {
      "text/plain": [
       "{'Noelle': 'DEN', 'Dan': 'LA', 'Riley': 'AUS'}"
      ]
     },
     "execution_count": 105,
     "metadata": {},
     "output_type": "execute_result"
    }
   ],
   "source": [
    "names = {}\n",
    "names[my_dict[0]['name']] = my_dict[0]['city']\n",
    "names[my_dict[1]['name']] = my_dict[1]['city']\n",
    "names[my_dict[2]['name']] = my_dict[2]['city']\n",
    "\n",
    "names"
   ]
  },
  {
   "cell_type": "markdown",
   "metadata": {},
   "source": [
    "## Today we covered...\n",
    "- Basic Jupyter Notebook use\n",
    "- Basic math in Python\n",
    "- String manipulation in Python\n",
    "- Collection data types in Python\n",
    "- Booleans in Python"
   ]
  }
 ],
 "metadata": {
  "anaconda-cloud": {},
  "environment": {
   "name": "common-cpu.m79",
   "type": "gcloud",
   "uri": "gcr.io/deeplearning-platform-release/base-cpu:m79"
  },
  "kernelspec": {
   "display_name": "Python 3 (ipykernel)",
   "language": "python",
   "name": "python3"
  },
  "language_info": {
   "codemirror_mode": {
    "name": "ipython",
    "version": 3
   },
   "file_extension": ".py",
   "mimetype": "text/x-python",
   "name": "python",
   "nbconvert_exporter": "python",
   "pygments_lexer": "ipython3",
   "version": "3.8.10"
  }
 },
 "nbformat": 4,
 "nbformat_minor": 4
}
